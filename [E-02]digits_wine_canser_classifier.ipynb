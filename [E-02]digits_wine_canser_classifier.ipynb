{
 "cells": [
  {
   "cell_type": "code",
   "execution_count": 84,
   "id": "29c286eb",
   "metadata": {},
   "outputs": [],
   "source": [
    "# 데이터 불러오기\n",
    "from sklearn.datasets import load_digits\n",
    "from sklearn.datasets import load_wine\n",
    "from sklearn.datasets import load_breast_cancer\n",
    "\n",
    "# 학습 및 결과에 필요한 패키지들\n",
    "from sklearn.model_selection import train_test_split\n",
    "from sklearn.metrics import classification_report\n",
    "from sklearn.metrics import confusion_matrix\n",
    "import numpy as np"
   ]
  },
  {
   "cell_type": "markdown",
   "id": "4e1703b4",
   "metadata": {},
   "source": [
    "## 1. 데이터 준비\n",
    "- 손글씨 분류 (load_digits)\n",
    "- 와인 분류 (load_wine)\n",
    "- 유방암 분류 (load_breast_cancer)"
   ]
  },
  {
   "cell_type": "code",
   "execution_count": 85,
   "id": "709b1104",
   "metadata": {},
   "outputs": [
    {
     "name": "stdout",
     "output_type": "stream",
     "text": [
      "dict_keys(['data', 'target', 'frame', 'feature_names', 'target_names', 'images', 'DESCR'])\n",
      "dict_keys(['data', 'target', 'frame', 'target_names', 'DESCR', 'feature_names'])\n",
      "dict_keys(['data', 'target', 'frame', 'target_names', 'DESCR', 'feature_names', 'filename', 'data_module'])\n"
     ]
    }
   ],
   "source": [
    "#객체 생성\n",
    "digits = load_digits()\n",
    "wine = load_wine()\n",
    "breast_cancer = load_breast_cancer()\n",
    "\n",
    "# 각 데이터 컬럼 확인 확인\n",
    "print(digits.keys())\n",
    "print(wine.keys())\n",
    "print(breast_cancer.keys())"
   ]
  },
  {
   "cell_type": "markdown",
   "id": "54843761",
   "metadata": {},
   "source": [
    "# 손글씨 분류하기\n",
    "\n",
    "## 데이터 이해하기"
   ]
  },
  {
   "cell_type": "code",
   "execution_count": 86,
   "id": "33a067d7",
   "metadata": {},
   "outputs": [
    {
     "name": "stdout",
     "output_type": "stream",
     "text": [
      "digit feature\n",
      "[[ 0.  0.  5. ...  0.  0.  0.]\n",
      " [ 0.  0.  0. ... 10.  0.  0.]\n",
      " [ 0.  0.  0. ... 16.  9.  0.]\n",
      " ...\n",
      " [ 0.  0.  1. ...  6.  0.  0.]\n",
      " [ 0.  0.  2. ... 12.  0.  0.]\n",
      " [ 0.  0. 10. ... 12.  1.  0.]]\n",
      "(1797, 64)\n",
      "digit label\n",
      "[0 1 2 ... 8 9 8]\n",
      "(1797,)\n",
      "digit target_names\n",
      "[0 1 2 3 4 5 6 7 8 9]\n",
      "digit describe\n",
      ".. _digits_dataset:\n",
      "\n",
      "Optical recognition of handwritten digits dataset\n",
      "--------------------------------------------------\n",
      "\n",
      "**Data Set Characteristics:**\n",
      "\n",
      "    :Number of Instances: 1797\n",
      "    :Number of Attributes: 64\n",
      "    :Attribute Information: 8x8 image of integer pixels in the range 0..16.\n",
      "    :Missing Attribute Values: None\n",
      "    :Creator: E. Alpaydin (alpaydin '@' boun.edu.tr)\n",
      "    :Date: July; 1998\n",
      "\n",
      "This is a copy of the test set of the UCI ML hand-written digits datasets\n",
      "https://archive.ics.uci.edu/ml/datasets/Optical+Recognition+of+Handwritten+Digits\n",
      "\n",
      "The data set contains images of hand-written digits: 10 classes where\n",
      "each class refers to a digit.\n",
      "\n",
      "Preprocessing programs made available by NIST were used to extract\n",
      "normalized bitmaps of handwritten digits from a preprinted form. From a\n",
      "total of 43 people, 30 contributed to the training set and different 13\n",
      "to the test set. 32x32 bitmaps are divided into nonoverlapping blocks of\n",
      "4x4 and the number of on pixels are counted in each block. This generates\n",
      "an input matrix of 8x8 where each element is an integer in the range\n",
      "0..16. This reduces dimensionality and gives invariance to small\n",
      "distortions.\n",
      "\n",
      "For info on NIST preprocessing routines, see M. D. Garris, J. L. Blue, G.\n",
      "T. Candela, D. L. Dimmick, J. Geist, P. J. Grother, S. A. Janet, and C.\n",
      "L. Wilson, NIST Form-Based Handprint Recognition System, NISTIR 5469,\n",
      "1994.\n",
      "\n",
      ".. topic:: References\n",
      "\n",
      "  - C. Kaynak (1995) Methods of Combining Multiple Classifiers and Their\n",
      "    Applications to Handwritten Digit Recognition, MSc Thesis, Institute of\n",
      "    Graduate Studies in Science and Engineering, Bogazici University.\n",
      "  - E. Alpaydin, C. Kaynak (1998) Cascading Classifiers, Kybernetika.\n",
      "  - Ken Tang and Ponnuthurai N. Suganthan and Xi Yao and A. Kai Qin.\n",
      "    Linear dimensionalityreduction using relevance weighted LDA. School of\n",
      "    Electrical and Electronic Engineering Nanyang Technological University.\n",
      "    2005.\n",
      "  - Claudio Gentile. A New Approximate Maximal Margin Classification\n",
      "    Algorithm. NIPS. 2000.\n",
      "\n"
     ]
    }
   ],
   "source": [
    "# digits의 featuredata\n",
    "print(\"digit feature\")\n",
    "print(digits.data)\n",
    "print(digits.data.shape)\n",
    "# digits의 labeldata\n",
    "print(\"digit label\")\n",
    "print(digits.target)\n",
    "print(digits.target.shape)\n",
    "print(\"digit target_names\")\n",
    "print(digits.target_names)\n",
    "\n",
    "# 데이터 Describe\n",
    "print(\"digit describe\")\n",
    "print(digits.DESCR)"
   ]
  },
  {
   "cell_type": "markdown",
   "id": "69efee7b",
   "metadata": {},
   "source": [
    "feature들의 정보를 이용해서 0~9까지의 숫자를 판별하는 데이터 세트  \n",
    "1797개의 데이터수, 64 feature"
   ]
  },
  {
   "cell_type": "markdown",
   "id": "25d548a9",
   "metadata": {},
   "source": [
    "## train, test 데이터 분리"
   ]
  },
  {
   "cell_type": "code",
   "execution_count": 87,
   "id": "05afdd18",
   "metadata": {},
   "outputs": [
    {
     "name": "stdout",
     "output_type": "stream",
     "text": [
      "X_train 개수:  (1437, 64) , X_test 개수 (360, 64)\n",
      "y_train 개수:  (1437,) , y_test 개수 (360,)\n"
     ]
    }
   ],
   "source": [
    "# 데이터셋 분리 훈련 데이터 0.8, 테스트 데이터 0.2의 비율\n",
    "X_train, X_test, y_train, y_test = train_test_split(digits.data, \n",
    "                                                    digits.target,\n",
    "                                                    test_size = 0.2,\n",
    "                                                    random_state=7)\n",
    "\n",
    "print('X_train 개수: ', X_train.shape, \", X_test 개수\", X_test.shape)\n",
    "print('y_train 개수: ', y_train.shape, \", y_test 개수\", y_test.shape)"
   ]
  },
  {
   "cell_type": "markdown",
   "id": "884bcc75",
   "metadata": {},
   "source": [
    "## 다양한 모델로 학습시켜보기\n",
    "\n",
    "### Decision Tree"
   ]
  },
  {
   "cell_type": "code",
   "execution_count": 88,
   "id": "e69f833b",
   "metadata": {},
   "outputs": [
    {
     "name": "stdout",
     "output_type": "stream",
     "text": [
      "              precision    recall  f1-score   support\n",
      "\n",
      "           0       0.98      1.00      0.99        42\n",
      "           1       0.81      0.81      0.81        42\n",
      "           2       0.82      0.79      0.80        42\n",
      "           3       0.91      0.79      0.85        39\n",
      "           4       0.95      0.83      0.89        42\n",
      "           5       0.96      0.90      0.93        30\n",
      "           6       0.93      0.84      0.88        31\n",
      "           7       0.82      0.96      0.89        28\n",
      "           8       0.65      0.88      0.75        32\n",
      "           9       0.78      0.78      0.78        32\n",
      "\n",
      "    accuracy                           0.86       360\n",
      "   macro avg       0.86      0.86      0.86       360\n",
      "weighted avg       0.87      0.86      0.86       360\n",
      "\n",
      "[[42  0  0  0  0  0  0  0  0  0]\n",
      " [ 0 34  0  1  0  1  0  0  5  1]\n",
      " [ 0  3 33  0  1  0  0  0  4  1]\n",
      " [ 1  1  2 31  0  0  0  1  1  2]\n",
      " [ 0  0  0  0 35  0  2  2  1  2]\n",
      " [ 0  1  0  0  0 27  0  1  0  1]\n",
      " [ 0  1  1  0  0  0 26  0  3  0]\n",
      " [ 0  0  1  0  0  0  0 27  0  0]\n",
      " [ 0  0  2  1  1  0  0  0 28  0]\n",
      " [ 0  2  1  1  0  0  0  2  1 25]]\n",
      "wrong predict :  52\n"
     ]
    }
   ],
   "source": [
    "from sklearn.tree import DecisionTreeClassifier\n",
    "\n",
    "# 객체 생성\n",
    "decision_tree = DecisionTreeClassifier(random_state=32)\n",
    "# 모델 학습\n",
    "decision_tree.fit(X_train, y_train)\n",
    "# 모델 예측\n",
    "y_pred = decision_tree.predict(X_test)\n",
    "# 모델 성능 평가\n",
    "print(classification_report(y_pred, y_test))\n",
    "# 오차행렬 표시\n",
    "print(confusion_matrix(y_pred, y_test))\n",
    "# 대각 행렬은 정확하게 예측한곳, 그외는 잘못 예측한 계수\n",
    "cm = confusion_matrix(y_pred, y_test)\n",
    "print(\"wrong predict : \", cm.sum() - np.diag(cm).sum())"
   ]
  },
  {
   "cell_type": "markdown",
   "id": "993120e7",
   "metadata": {},
   "source": [
    "### RandomForest"
   ]
  },
  {
   "cell_type": "code",
   "execution_count": 89,
   "id": "d310af68",
   "metadata": {},
   "outputs": [
    {
     "name": "stdout",
     "output_type": "stream",
     "text": [
      "              precision    recall  f1-score   support\n",
      "\n",
      "           0       0.98      1.00      0.99        42\n",
      "           1       1.00      0.93      0.97        45\n",
      "           2       1.00      1.00      1.00        40\n",
      "           3       1.00      1.00      1.00        34\n",
      "           4       1.00      0.93      0.96        40\n",
      "           5       0.96      0.90      0.93        30\n",
      "           6       0.96      1.00      0.98        27\n",
      "           7       0.97      0.94      0.96        34\n",
      "           8       0.84      1.00      0.91        36\n",
      "           9       0.94      0.94      0.94        32\n",
      "\n",
      "    accuracy                           0.96       360\n",
      "   macro avg       0.96      0.96      0.96       360\n",
      "weighted avg       0.97      0.96      0.96       360\n",
      "\n",
      "[[42  0  0  0  0  0  0  0  0  0]\n",
      " [ 0 42  0  0  0  0  0  0  3  0]\n",
      " [ 0  0 40  0  0  0  0  0  0  0]\n",
      " [ 0  0  0 34  0  0  0  0  0  0]\n",
      " [ 1  0  0  0 37  0  1  0  1  0]\n",
      " [ 0  0  0  0  0 27  0  0  1  2]\n",
      " [ 0  0  0  0  0  0 27  0  0  0]\n",
      " [ 0  0  0  0  0  0  0 32  2  0]\n",
      " [ 0  0  0  0  0  0  0  0 36  0]\n",
      " [ 0  0  0  0  0  1  0  1  0 30]]\n",
      "wrong predict :  13\n"
     ]
    }
   ],
   "source": [
    "from sklearn.ensemble import RandomForestClassifier\n",
    "\n",
    "# 객체 생성\n",
    "random_forest = RandomForestClassifier(random_state=32)\n",
    "# 모델 학습\n",
    "random_forest.fit(X_train, y_train)\n",
    "# 모델 예측\n",
    "y_pred = random_forest.predict(X_test)\n",
    "# 모델 성능 평가\n",
    "print(classification_report(y_pred, y_test))\n",
    "# 오차행렬 표시\n",
    "print(confusion_matrix(y_pred, y_test))\n",
    "# 대각 행렬은 정확하게 예측한곳, 그외는 잘못 예측한 계수\n",
    "cm = confusion_matrix(y_pred, y_test)\n",
    "print(\"wrong predict : \", cm.sum() - np.diag(cm).sum())"
   ]
  },
  {
   "cell_type": "markdown",
   "id": "1813eacb",
   "metadata": {},
   "source": [
    "### SVM"
   ]
  },
  {
   "cell_type": "code",
   "execution_count": 90,
   "id": "7a948256",
   "metadata": {},
   "outputs": [
    {
     "name": "stdout",
     "output_type": "stream",
     "text": [
      "              precision    recall  f1-score   support\n",
      "\n",
      "           0       1.00      1.00      1.00        43\n",
      "           1       1.00      0.95      0.98        44\n",
      "           2       1.00      1.00      1.00        40\n",
      "           3       1.00      1.00      1.00        34\n",
      "           4       1.00      1.00      1.00        37\n",
      "           5       1.00      0.93      0.97        30\n",
      "           6       1.00      1.00      1.00        28\n",
      "           7       1.00      1.00      1.00        33\n",
      "           8       0.93      1.00      0.96        40\n",
      "           9       0.97      1.00      0.98        31\n",
      "\n",
      "    accuracy                           0.99       360\n",
      "   macro avg       0.99      0.99      0.99       360\n",
      "weighted avg       0.99      0.99      0.99       360\n",
      "\n",
      "[[43  0  0  0  0  0  0  0  0  0]\n",
      " [ 0 42  0  0  0  0  0  0  2  0]\n",
      " [ 0  0 40  0  0  0  0  0  0  0]\n",
      " [ 0  0  0 34  0  0  0  0  0  0]\n",
      " [ 0  0  0  0 37  0  0  0  0  0]\n",
      " [ 0  0  0  0  0 28  0  0  1  1]\n",
      " [ 0  0  0  0  0  0 28  0  0  0]\n",
      " [ 0  0  0  0  0  0  0 33  0  0]\n",
      " [ 0  0  0  0  0  0  0  0 40  0]\n",
      " [ 0  0  0  0  0  0  0  0  0 31]]\n",
      "wrong predict :  4\n"
     ]
    }
   ],
   "source": [
    "from sklearn import svm\n",
    "\n",
    "# 객체 생성\n",
    "svm_model = svm.SVC(C=1, kernel='rbf')\n",
    "# 모델 학습\n",
    "svm_model.fit(X_train, y_train)\n",
    "# 모델 예측\n",
    "y_pred = svm_model.predict(X_test)\n",
    "# 모델 성능 평가\n",
    "print(classification_report(y_pred, y_test))\n",
    "# 오차행렬 표시\n",
    "print(confusion_matrix(y_pred, y_test))\n",
    "# 대각 행렬은 정확하게 예측한곳, 그외는 잘못 예측한 계수\n",
    "cm = confusion_matrix(y_pred, y_test)\n",
    "print(\"wrong predict : \", cm.sum() - np.diag(cm).sum())"
   ]
  },
  {
   "cell_type": "markdown",
   "id": "a8047fcd",
   "metadata": {},
   "source": [
    "## SVC 모델 파라미터\n",
    "SVC모델을 사용할땐 오류율을 조절해줘야한다. default는 1이다.  \n",
    "오류율 파라미터는 C 이고, C = 1 은 아웃 라이어를 하용하지 않는 하드 마진이라고 한다. 하드 마진은 마진이 적은것을 의미하고, 그래서 overfitting 문제에 빠질 수가 있다.  \n",
    "반대로 파라미터를 C = 0 에 가깝게 설정하면 소프트 마진이라고하고, 마진이 커지게된다. 그러다보니 학습이 제대로 안되는 underfitting 문제가 발생할 수 있다.  \n",
    "\n",
    "\n",
    "추가로 kernel옵션도 있다. default는 rbf이다.   \n",
    "경계선의 모양을 여러가지로 결정할 수 있는 옵션이다. 'linear', 'poly', 'rbf', 'sigmoid', 'precomputed'"
   ]
  },
  {
   "cell_type": "markdown",
   "id": "ff367709",
   "metadata": {},
   "source": [
    "### SGD"
   ]
  },
  {
   "cell_type": "code",
   "execution_count": 91,
   "id": "7b304e8e",
   "metadata": {
    "scrolled": true
   },
   "outputs": [
    {
     "name": "stdout",
     "output_type": "stream",
     "text": [
      "              precision    recall  f1-score   support\n",
      "\n",
      "           0       1.00      1.00      1.00        43\n",
      "           1       0.95      0.85      0.90        47\n",
      "           2       1.00      0.98      0.99        41\n",
      "           3       0.94      0.89      0.91        36\n",
      "           4       0.97      1.00      0.99        36\n",
      "           5       1.00      0.93      0.97        30\n",
      "           6       0.93      0.96      0.95        27\n",
      "           7       0.97      0.97      0.97        33\n",
      "           8       0.88      0.88      0.88        43\n",
      "           9       0.72      0.96      0.82        24\n",
      "\n",
      "    accuracy                           0.94       360\n",
      "   macro avg       0.94      0.94      0.94       360\n",
      "weighted avg       0.94      0.94      0.94       360\n",
      "\n",
      "[[43  0  0  0  0  0  0  0  0  0]\n",
      " [ 0 40  0  0  0  0  1  0  4  2]\n",
      " [ 0  0 40  0  0  0  0  0  1  0]\n",
      " [ 0  1  0 32  0  0  0  1  0  2]\n",
      " [ 0  0  0  0 36  0  0  0  0  0]\n",
      " [ 0  0  0  0  0 28  0  0  0  2]\n",
      " [ 0  0  0  0  1  0 26  0  0  0]\n",
      " [ 0  0  0  1  0  0  0 32  0  0]\n",
      " [ 0  0  0  1  0  0  1  0 38  3]\n",
      " [ 0  1  0  0  0  0  0  0  0 23]]\n",
      "wrong predict :  22\n"
     ]
    }
   ],
   "source": [
    "from sklearn.linear_model import SGDClassifier\n",
    "\n",
    "# 객체 생성\n",
    "sgd_model = SGDClassifier(random_state=32)\n",
    "# 모델 학습\n",
    "sgd_model.fit(X_train, y_train)\n",
    "# 모델 예측\n",
    "y_pred = sgd_model.predict(X_test)\n",
    "# 모델 성능 평가\n",
    "print(classification_report(y_pred, y_test))\n",
    "# 오차행렬 표시\n",
    "print(confusion_matrix(y_pred, y_test))\n",
    "# 대각 행렬은 정확하게 예측한곳, 그외는 잘못 예측한 계수\n",
    "cm = confusion_matrix(y_pred, y_test)\n",
    "print(\"wrong predict : \", cm.sum() - np.diag(cm).sum())"
   ]
  },
  {
   "cell_type": "markdown",
   "id": "4e47c8d8",
   "metadata": {},
   "source": [
    "### Logistic Regression"
   ]
  },
  {
   "cell_type": "code",
   "execution_count": 92,
   "id": "58f17bc3",
   "metadata": {
    "scrolled": true
   },
   "outputs": [
    {
     "name": "stdout",
     "output_type": "stream",
     "text": [
      "              precision    recall  f1-score   support\n",
      "\n",
      "           0       1.00      1.00      1.00        43\n",
      "           1       0.95      0.95      0.95        42\n",
      "           2       1.00      0.98      0.99        41\n",
      "           3       0.97      0.94      0.96        35\n",
      "           4       1.00      1.00      1.00        37\n",
      "           5       0.96      0.79      0.87        34\n",
      "           6       0.96      1.00      0.98        27\n",
      "           7       0.97      0.94      0.96        34\n",
      "           8       0.81      0.92      0.86        38\n",
      "           9       0.88      0.97      0.92        29\n",
      "\n",
      "    accuracy                           0.95       360\n",
      "   macro avg       0.95      0.95      0.95       360\n",
      "weighted avg       0.95      0.95      0.95       360\n",
      "\n",
      "[[43  0  0  0  0  0  0  0  0  0]\n",
      " [ 0 40  0  0  0  0  0  0  2  0]\n",
      " [ 0  0 40  0  0  0  0  0  1  0]\n",
      " [ 0  0  0 33  0  0  0  1  0  1]\n",
      " [ 0  0  0  0 37  0  0  0  0  0]\n",
      " [ 0  0  0  0  0 27  0  0  4  3]\n",
      " [ 0  0  0  0  0  0 27  0  0  0]\n",
      " [ 0  0  0  1  0  0  0 32  1  0]\n",
      " [ 0  1  0  0  0  1  1  0 35  0]\n",
      " [ 0  1  0  0  0  0  0  0  0 28]]\n",
      "wrong predict :  18\n"
     ]
    }
   ],
   "source": [
    "from sklearn.linear_model import LogisticRegression\n",
    "\n",
    "# 객체 생성\n",
    "logistic_model = LogisticRegression(max_iter=2100)\n",
    "# 모델 학습\n",
    "logistic_model.fit(X_train, y_train)\n",
    "# 모델 예측\n",
    "y_pred = logistic_model.predict(X_test)\n",
    "# 모델 성능 평가\n",
    "print(classification_report(y_pred, y_test))\n",
    "# 오차행렬 표시\n",
    "print(confusion_matrix(y_pred, y_test))\n",
    "# 대각 행렬은 정확하게 예측한곳, 그외는 잘못 예측한 계수\n",
    "cm = confusion_matrix(y_pred, y_test)\n",
    "print(\"wrong predict : \", cm.sum() - np.diag(cm).sum())"
   ]
  },
  {
   "cell_type": "markdown",
   "id": "a067f2c3",
   "metadata": {},
   "source": [
    "## ConvergenceWarning: lbfgs failed to converge (status=1)\n",
    "기존 예제대로 진행하다보니 위와같은 에러가 발생하였다.\n",
    "이 에러를 찾아보니 해결방법은\n",
    "1) iteration의 max 크기를 늘려주거나\n",
    "2) https://scikit-learn.org/stable/modules/linear_model.html#logistic-regression 이 링크를 따라 데이터를 조정해줘야한다고 한다.\n",
    "\n",
    "첫번째 방법 시도해봤다.\n",
    "https://scikit-learn.org/stable/modules/generated/sklearn.linear_model.LogisticRegression.html?highlight=logisticregression#sklearn.linear_model.LogisticRegression\n",
    "이 문서를 찾아보니 max_iter의 defaul 값은 100이라고 나와있다.\n",
    "이 값을 2000까지 올렸을때는 warning이 떴으나 2100부터는 나오지 않았다."
   ]
  },
  {
   "cell_type": "markdown",
   "id": "bbbde70b",
   "metadata": {},
   "source": [
    "## 성능평가\n",
    "첫번째로 성능 평가의 중점을 두었던건 accuracy였다. 하지만 accuracy는 데이터의 불균형이 있을때 값을 신뢰할 수 없을 경우가 있다. 예를들어 데이터가 0이 80% 3이 20% 있을때 0으로만 판단해도 정확도는 80%가 나오기 때문이다.\n",
    "두번째로 성능 평가를 따진것은 오차 행렬을 이용한 성능 지표들이였다.  \n",
    "precicion과 recall의 조화평균인 f1-score로 모델의 성능을 평가 하였다. 그렇게해서 가장 좋은 성능을 보인 모델은 svm 모델이였다.  \n",
    "옳게 평가가 된것인지 궁금해서 오차행렬을 한번 프린트 해보고, 모델이 잘못 추론한 값을 살펴보았다.  \n",
    "오차행렬의 대각행은 positive True인 행으로 옳은값을 추론한것이고, 그 외에 행은 값을 잘못 추론한 행이다.  \n",
    "따라서 옳은값을 추론한 행을 뺀 나머지의 합을 구하면 잘못 추론한 행을 구할수 있어서 시도해 보았고, 역시나 svm모델이 제일 적게 틀린 모습을 볼수 있었다.  "
   ]
  },
  {
   "cell_type": "markdown",
   "id": "288a82e6",
   "metadata": {},
   "source": [
    "## 와인데이터 분류하기\n",
    "## 데이터 이해하기"
   ]
  },
  {
   "cell_type": "code",
   "execution_count": 93,
   "id": "59703c6f",
   "metadata": {},
   "outputs": [
    {
     "name": "stdout",
     "output_type": "stream",
     "text": [
      "wine feature\n",
      "[[1.423e+01 1.710e+00 2.430e+00 ... 1.040e+00 3.920e+00 1.065e+03]\n",
      " [1.320e+01 1.780e+00 2.140e+00 ... 1.050e+00 3.400e+00 1.050e+03]\n",
      " [1.316e+01 2.360e+00 2.670e+00 ... 1.030e+00 3.170e+00 1.185e+03]\n",
      " ...\n",
      " [1.327e+01 4.280e+00 2.260e+00 ... 5.900e-01 1.560e+00 8.350e+02]\n",
      " [1.317e+01 2.590e+00 2.370e+00 ... 6.000e-01 1.620e+00 8.400e+02]\n",
      " [1.413e+01 4.100e+00 2.740e+00 ... 6.100e-01 1.600e+00 5.600e+02]]\n",
      "(178, 13)\n",
      "wine label\n",
      "[0 0 0 0 0 0 0 0 0 0 0 0 0 0 0 0 0 0 0 0 0 0 0 0 0 0 0 0 0 0 0 0 0 0 0 0 0\n",
      " 0 0 0 0 0 0 0 0 0 0 0 0 0 0 0 0 0 0 0 0 0 0 1 1 1 1 1 1 1 1 1 1 1 1 1 1 1\n",
      " 1 1 1 1 1 1 1 1 1 1 1 1 1 1 1 1 1 1 1 1 1 1 1 1 1 1 1 1 1 1 1 1 1 1 1 1 1\n",
      " 1 1 1 1 1 1 1 1 1 1 1 1 1 1 1 1 1 1 1 2 2 2 2 2 2 2 2 2 2 2 2 2 2 2 2 2 2\n",
      " 2 2 2 2 2 2 2 2 2 2 2 2 2 2 2 2 2 2 2 2 2 2 2 2 2 2 2 2 2 2]\n",
      "(178,)\n",
      "wine target_names\n",
      "['class_0' 'class_1' 'class_2']\n",
      "wine describe\n",
      ".. _wine_dataset:\n",
      "\n",
      "Wine recognition dataset\n",
      "------------------------\n",
      "\n",
      "**Data Set Characteristics:**\n",
      "\n",
      "    :Number of Instances: 178 (50 in each of three classes)\n",
      "    :Number of Attributes: 13 numeric, predictive attributes and the class\n",
      "    :Attribute Information:\n",
      " \t\t- Alcohol\n",
      " \t\t- Malic acid\n",
      " \t\t- Ash\n",
      "\t\t- Alcalinity of ash  \n",
      " \t\t- Magnesium\n",
      "\t\t- Total phenols\n",
      " \t\t- Flavanoids\n",
      " \t\t- Nonflavanoid phenols\n",
      " \t\t- Proanthocyanins\n",
      "\t\t- Color intensity\n",
      " \t\t- Hue\n",
      " \t\t- OD280/OD315 of diluted wines\n",
      " \t\t- Proline\n",
      "\n",
      "    - class:\n",
      "            - class_0\n",
      "            - class_1\n",
      "            - class_2\n",
      "\t\t\n",
      "    :Summary Statistics:\n",
      "    \n",
      "    ============================= ==== ===== ======= =====\n",
      "                                   Min   Max   Mean     SD\n",
      "    ============================= ==== ===== ======= =====\n",
      "    Alcohol:                      11.0  14.8    13.0   0.8\n",
      "    Malic Acid:                   0.74  5.80    2.34  1.12\n",
      "    Ash:                          1.36  3.23    2.36  0.27\n",
      "    Alcalinity of Ash:            10.6  30.0    19.5   3.3\n",
      "    Magnesium:                    70.0 162.0    99.7  14.3\n",
      "    Total Phenols:                0.98  3.88    2.29  0.63\n",
      "    Flavanoids:                   0.34  5.08    2.03  1.00\n",
      "    Nonflavanoid Phenols:         0.13  0.66    0.36  0.12\n",
      "    Proanthocyanins:              0.41  3.58    1.59  0.57\n",
      "    Colour Intensity:              1.3  13.0     5.1   2.3\n",
      "    Hue:                          0.48  1.71    0.96  0.23\n",
      "    OD280/OD315 of diluted wines: 1.27  4.00    2.61  0.71\n",
      "    Proline:                       278  1680     746   315\n",
      "    ============================= ==== ===== ======= =====\n",
      "\n",
      "    :Missing Attribute Values: None\n",
      "    :Class Distribution: class_0 (59), class_1 (71), class_2 (48)\n",
      "    :Creator: R.A. Fisher\n",
      "    :Donor: Michael Marshall (MARSHALL%PLU@io.arc.nasa.gov)\n",
      "    :Date: July, 1988\n",
      "\n",
      "This is a copy of UCI ML Wine recognition datasets.\n",
      "https://archive.ics.uci.edu/ml/machine-learning-databases/wine/wine.data\n",
      "\n",
      "The data is the results of a chemical analysis of wines grown in the same\n",
      "region in Italy by three different cultivators. There are thirteen different\n",
      "measurements taken for different constituents found in the three types of\n",
      "wine.\n",
      "\n",
      "Original Owners: \n",
      "\n",
      "Forina, M. et al, PARVUS - \n",
      "An Extendible Package for Data Exploration, Classification and Correlation. \n",
      "Institute of Pharmaceutical and Food Analysis and Technologies,\n",
      "Via Brigata Salerno, 16147 Genoa, Italy.\n",
      "\n",
      "Citation:\n",
      "\n",
      "Lichman, M. (2013). UCI Machine Learning Repository\n",
      "[https://archive.ics.uci.edu/ml]. Irvine, CA: University of California,\n",
      "School of Information and Computer Science. \n",
      "\n",
      ".. topic:: References\n",
      "\n",
      "  (1) S. Aeberhard, D. Coomans and O. de Vel, \n",
      "  Comparison of Classifiers in High Dimensional Settings, \n",
      "  Tech. Rep. no. 92-02, (1992), Dept. of Computer Science and Dept. of  \n",
      "  Mathematics and Statistics, James Cook University of North Queensland. \n",
      "  (Also submitted to Technometrics). \n",
      "\n",
      "  The data was used with many others for comparing various \n",
      "  classifiers. The classes are separable, though only RDA \n",
      "  has achieved 100% correct classification. \n",
      "  (RDA : 100%, QDA 99.4%, LDA 98.9%, 1NN 96.1% (z-transformed data)) \n",
      "  (All results using the leave-one-out technique) \n",
      "\n",
      "  (2) S. Aeberhard, D. Coomans and O. de Vel, \n",
      "  \"THE CLASSIFICATION PERFORMANCE OF RDA\" \n",
      "  Tech. Rep. no. 92-01, (1992), Dept. of Computer Science and Dept. of \n",
      "  Mathematics and Statistics, James Cook University of North Queensland. \n",
      "  (Also submitted to Journal of Chemometrics).\n",
      "\n"
     ]
    }
   ],
   "source": [
    "# wine의 featuredata\n",
    "print(\"wine feature\")\n",
    "print(wine.data)\n",
    "print(wine.data.shape)\n",
    "# wine의 labeldata\n",
    "print(\"wine label\")\n",
    "print(wine.target)\n",
    "print(wine.target.shape)\n",
    "print(\"wine target_names\")\n",
    "print(wine.target_names)\n",
    "\n",
    "# 데이터 Describe\n",
    "print(\"wine describe\")\n",
    "print(wine.DESCR)"
   ]
  },
  {
   "cell_type": "markdown",
   "id": "eccf5676",
   "metadata": {},
   "source": [
    "와인의 특성들을 활용해서, 클래스 0~2를 판별하는 데이터세트  \n",
    "178개의 데이터, 13개의 feature"
   ]
  },
  {
   "cell_type": "markdown",
   "id": "82f4dfb5",
   "metadata": {},
   "source": [
    "## train, test 데이터 분리"
   ]
  },
  {
   "cell_type": "code",
   "execution_count": 94,
   "id": "84f8ecd0",
   "metadata": {},
   "outputs": [
    {
     "name": "stdout",
     "output_type": "stream",
     "text": [
      "X_train 개수:  (142, 13) , X_test 개수 (36, 13)\n",
      "y_train 개수:  (142,) , y_test 개수 (36,)\n"
     ]
    }
   ],
   "source": [
    "#데이터셋 분리, 훈련 데이터 0.8, 테스트 데이터 0.2 비율\n",
    "X_train, X_test, y_train, y_test = train_test_split(wine.data,\n",
    "                                                   wine.target,\n",
    "                                                   test_size=0.2,\n",
    "                                                   random_state=21)\n",
    "print('X_train 개수: ', X_train.shape, \", X_test 개수\", X_test.shape)\n",
    "print('y_train 개수: ', y_train.shape, \", y_test 개수\", y_test.shape)"
   ]
  },
  {
   "cell_type": "markdown",
   "id": "cece7b04",
   "metadata": {},
   "source": [
    "## 다양한 모델로 학습시켜보기\n",
    "\n",
    "### Decision Tree"
   ]
  },
  {
   "cell_type": "code",
   "execution_count": 97,
   "id": "849fad97",
   "metadata": {},
   "outputs": [
    {
     "name": "stdout",
     "output_type": "stream",
     "text": [
      "              precision    recall  f1-score   support\n",
      "\n",
      "           0       1.00      0.88      0.94        17\n",
      "           1       0.80      0.80      0.80        10\n",
      "           2       0.73      0.89      0.80         9\n",
      "\n",
      "    accuracy                           0.86        36\n",
      "   macro avg       0.84      0.86      0.85        36\n",
      "weighted avg       0.88      0.86      0.86        36\n",
      "\n",
      "[[15  1  1]\n",
      " [ 0  8  2]\n",
      " [ 0  1  8]]\n",
      "wrong predict :  5\n"
     ]
    }
   ],
   "source": [
    "# 객체 생성\n",
    "decision_tree = DecisionTreeClassifier(random_state=32)\n",
    "# 모델 학습\n",
    "decision_tree.fit(X_train, y_train)\n",
    "# 모델 예측\n",
    "y_pred = decision_tree.predict(X_test)\n",
    "# 모델 성능 평가\n",
    "print(classification_report(y_pred, y_test))\n",
    "# 오차행렬 표시\n",
    "print(confusion_matrix(y_pred, y_test))\n",
    "# 대각 행렬은 정확하게 예측한곳, 그외는 잘못 예측한 계수\n",
    "cm = confusion_matrix(y_pred, y_test)\n",
    "print(\"wrong predict : \", cm.sum() - np.diag(cm).sum())"
   ]
  },
  {
   "cell_type": "markdown",
   "id": "0c731814",
   "metadata": {},
   "source": [
    "### RandomForest"
   ]
  },
  {
   "cell_type": "code",
   "execution_count": 98,
   "id": "20828c61",
   "metadata": {},
   "outputs": [
    {
     "name": "stdout",
     "output_type": "stream",
     "text": [
      "              precision    recall  f1-score   support\n",
      "\n",
      "           0       1.00      1.00      1.00        15\n",
      "           1       1.00      1.00      1.00        10\n",
      "           2       1.00      1.00      1.00        11\n",
      "\n",
      "    accuracy                           1.00        36\n",
      "   macro avg       1.00      1.00      1.00        36\n",
      "weighted avg       1.00      1.00      1.00        36\n",
      "\n",
      "[[15  0  0]\n",
      " [ 0 10  0]\n",
      " [ 0  0 11]]\n",
      "wrong predict :  0\n"
     ]
    }
   ],
   "source": [
    "# 객체 생성\n",
    "random_forest = RandomForestClassifier(random_state=32)\n",
    "# 모델 학습\n",
    "random_forest.fit(X_train, y_train)\n",
    "# 모델 예측\n",
    "y_pred = random_forest.predict(X_test)\n",
    "# 모델 성능 평가\n",
    "print(classification_report(y_pred, y_test))\n",
    "# 오차행렬 표시\n",
    "print(confusion_matrix(y_pred, y_test))\n",
    "# 대각 행렬은 정확하게 예측한곳, 그외는 잘못 예측한 계수\n",
    "cm = confusion_matrix(y_pred, y_test)\n",
    "print(\"wrong predict : \", cm.sum() - np.diag(cm).sum())"
   ]
  },
  {
   "cell_type": "markdown",
   "id": "1ebfa53a",
   "metadata": {},
   "source": [
    "### SVM"
   ]
  },
  {
   "cell_type": "code",
   "execution_count": 99,
   "id": "f41beb2b",
   "metadata": {},
   "outputs": [
    {
     "name": "stdout",
     "output_type": "stream",
     "text": [
      "              precision    recall  f1-score   support\n",
      "\n",
      "           0       1.00      1.00      1.00        15\n",
      "           1       0.90      1.00      0.95         9\n",
      "           2       1.00      0.92      0.96        12\n",
      "\n",
      "    accuracy                           0.97        36\n",
      "   macro avg       0.97      0.97      0.97        36\n",
      "weighted avg       0.98      0.97      0.97        36\n",
      "\n",
      "[[15  0  0]\n",
      " [ 0  9  0]\n",
      " [ 0  1 11]]\n",
      "wrong predict :  1\n"
     ]
    }
   ],
   "source": [
    "# 객체 생성\n",
    "svm_model = svm.SVC(C=1, kernel='linear')\n",
    "# 모델 학습\n",
    "svm_model.fit(X_train, y_train)\n",
    "# 모델 예측\n",
    "y_pred = svm_model.predict(X_test)\n",
    "# 모델 성능 평가\n",
    "print(classification_report(y_pred, y_test))\n",
    "# 오차행렬 표시\n",
    "print(confusion_matrix(y_pred, y_test))\n",
    "# 대각 행렬은 정확하게 예측한곳, 그외는 잘못 예측한 계수\n",
    "cm = confusion_matrix(y_pred, y_test)\n",
    "print(\"wrong predict : \", cm.sum() - np.diag(cm).sum())"
   ]
  },
  {
   "cell_type": "markdown",
   "id": "74d85ec0",
   "metadata": {},
   "source": [
    "### UndefinedMetricWarning: Recall and F-score are ill-defined and being set to 0.0 in labels with no true samples\n",
    "이 에러의 경우 f1-score를 구하는 과정에서 0으로 나누려 하다보니 나오는 warning 이였다.  \n",
    "추천 옵션으로는 confusion_matrix()의 파라미터에 zero_division=\"warn\" 인것을 0 or 1 로 바꾸라는 것이였다.  \n",
    "하지만 위에서 알아 본것처럼 커널을 변경하면 제대로 예측을해서 이러한 문제점이 없어지진 않을까 시도해봤다.\n",
    "kernel을 linear로 바꿔보니 class 2의 예측이 0에서 11로 증가해 이 warning이 사라졌다."
   ]
  },
  {
   "cell_type": "markdown",
   "id": "d437f126",
   "metadata": {},
   "source": [
    "### SGD"
   ]
  },
  {
   "cell_type": "code",
   "execution_count": 100,
   "id": "f767dad6",
   "metadata": {},
   "outputs": [
    {
     "name": "stdout",
     "output_type": "stream",
     "text": [
      "              precision    recall  f1-score   support\n",
      "\n",
      "           0       0.73      0.92      0.81        12\n",
      "           1       1.00      0.42      0.59        24\n",
      "           2       0.00      0.00      0.00         0\n",
      "\n",
      "    accuracy                           0.58        36\n",
      "   macro avg       0.58      0.44      0.47        36\n",
      "weighted avg       0.91      0.58      0.66        36\n",
      "\n",
      "[[11  0  1]\n",
      " [ 4 10 10]\n",
      " [ 0  0  0]]\n",
      "wrong predict :  15\n"
     ]
    },
    {
     "name": "stderr",
     "output_type": "stream",
     "text": [
      "/opt/conda/lib/python3.9/site-packages/sklearn/metrics/_classification.py:1308: UndefinedMetricWarning: Recall and F-score are ill-defined and being set to 0.0 in labels with no true samples. Use `zero_division` parameter to control this behavior.\n",
      "  _warn_prf(average, modifier, msg_start, len(result))\n",
      "/opt/conda/lib/python3.9/site-packages/sklearn/metrics/_classification.py:1308: UndefinedMetricWarning: Recall and F-score are ill-defined and being set to 0.0 in labels with no true samples. Use `zero_division` parameter to control this behavior.\n",
      "  _warn_prf(average, modifier, msg_start, len(result))\n",
      "/opt/conda/lib/python3.9/site-packages/sklearn/metrics/_classification.py:1308: UndefinedMetricWarning: Recall and F-score are ill-defined and being set to 0.0 in labels with no true samples. Use `zero_division` parameter to control this behavior.\n",
      "  _warn_prf(average, modifier, msg_start, len(result))\n"
     ]
    }
   ],
   "source": [
    "# 객체 생성\n",
    "sgd_model = SGDClassifier(random_state=32)\n",
    "# 모델 학습\n",
    "sgd_model.fit(X_train, y_train)\n",
    "# 모델 예측\n",
    "y_pred = sgd_model.predict(X_test)\n",
    "# 모델 성능 평가\n",
    "print(classification_report(y_pred, y_test))\n",
    "# 오차행렬 표시\n",
    "print(confusion_matrix(y_pred, y_test))\n",
    "# 대각 행렬은 정확하게 예측한곳, 그외는 잘못 예측한 계수\n",
    "cm = confusion_matrix(y_pred, y_test)\n",
    "print(\"wrong predict : \", cm.sum() - np.diag(cm).sum())\n"
   ]
  },
  {
   "cell_type": "markdown",
   "id": "ca0fcd5d",
   "metadata": {},
   "source": [
    "### SGD model의 zero_division\n",
    "이경우도 class 2의 예측이 실패해서 나타는 경우이다.  \n",
    "sgd 모델의 파라미터값들을 살펴 보았지만. 어느것을 건들어야 성능이 좋아질지는 아직 몰라서 넘어갔다.  \n",
    "class sklearn.linear_model.SGDClassifier(loss='hinge', *, penalty='l2', alpha=0.0001, l1_ratio=0.15, fit_intercept=True, max_iter=1000, tol=0.001, shuffle=True, verbose=0, epsilon=0.1, n_jobs=None, random_state=None, learning_rate='optimal', eta0=0.0, power_t=0.5, early_stopping=False, validation_fraction=0.1, n_iter_no_change=5, class_weight=None, warm_start=False, average=False)"
   ]
  },
  {
   "cell_type": "markdown",
   "id": "a60048a3",
   "metadata": {},
   "source": [
    "### Logistic Regression"
   ]
  },
  {
   "cell_type": "code",
   "execution_count": 101,
   "id": "24d84136",
   "metadata": {},
   "outputs": [
    {
     "name": "stdout",
     "output_type": "stream",
     "text": [
      "              precision    recall  f1-score   support\n",
      "\n",
      "           0       1.00      1.00      1.00        15\n",
      "           1       1.00      1.00      1.00        10\n",
      "           2       1.00      1.00      1.00        11\n",
      "\n",
      "    accuracy                           1.00        36\n",
      "   macro avg       1.00      1.00      1.00        36\n",
      "weighted avg       1.00      1.00      1.00        36\n",
      "\n",
      "[[15  0  0]\n",
      " [ 0 10  0]\n",
      " [ 0  0 11]]\n",
      "wrong predict :  0\n"
     ]
    }
   ],
   "source": [
    "# 객체 생성\n",
    "logistic_model = LogisticRegression(max_iter=3100)\n",
    "# 모델 학습\n",
    "logistic_model.fit(X_train, y_train)\n",
    "# 모델 예측\n",
    "y_pred = logistic_model.predict(X_test)\n",
    "# 모델 성능 평가\n",
    "print(classification_report(y_pred, y_test))\n",
    "# 오차행렬 표시\n",
    "print(confusion_matrix(y_pred, y_test))\n",
    "# 대각 행렬은 정확하게 예측한곳, 그외는 잘못 예측한 계수\n",
    "cm = confusion_matrix(y_pred, y_test)\n",
    "print(\"wrong predict : \", cm.sum() - np.diag(cm).sum())"
   ]
  },
  {
   "cell_type": "markdown",
   "id": "17b94851",
   "metadata": {},
   "source": [
    "max_iter의 값이 3100이 되서야 warning이 뜨지 않았다."
   ]
  },
  {
   "cell_type": "markdown",
   "id": "e40e3efe",
   "metadata": {},
   "source": [
    "## 성능평가\n",
    "수치적인 성능으로만 봤을때는 RandomForest와 logistic regression 모델이 둘다 100%의 예측을 보여주었다.  \n",
    "그래서 학습 데이터 양과 테스트 양의 변화가 있을때 두 모델이 어떤 변화가 있는지 궁금해 아래 추가적으로 실험을 해봤다.  \n",
    "그랬더니 randomforest의 결과 값이 우세한 모습을 보여주었다.  \n",
    "따라서 wine data에서는 randomforest의 모델이 좋은것으로 판단된다."
   ]
  },
  {
   "cell_type": "code",
   "execution_count": 102,
   "id": "adfcac71",
   "metadata": {},
   "outputs": [
    {
     "name": "stdout",
     "output_type": "stream",
     "text": [
      "X_train 개수:  (106, 13) , X_test 개수 (72, 13)\n",
      "y_train 개수:  (106,) , y_test 개수 (72,)\n"
     ]
    }
   ],
   "source": [
    "X_train, X_test, y_train, y_test = train_test_split(wine.data,\n",
    "                                                   wine.target,\n",
    "                                                   test_size=0.4,\n",
    "                                                   random_state=21)\n",
    "print('X_train 개수: ', X_train.shape, \", X_test 개수\", X_test.shape)\n",
    "print('y_train 개수: ', y_train.shape, \", y_test 개수\", y_test.shape)"
   ]
  },
  {
   "cell_type": "code",
   "execution_count": 103,
   "id": "26f2b9ca",
   "metadata": {},
   "outputs": [
    {
     "name": "stdout",
     "output_type": "stream",
     "text": [
      "              precision    recall  f1-score   support\n",
      "\n",
      "           0       1.00      1.00      1.00        23\n",
      "           1       1.00      1.00      1.00        23\n",
      "           2       1.00      1.00      1.00        26\n",
      "\n",
      "    accuracy                           1.00        72\n",
      "   macro avg       1.00      1.00      1.00        72\n",
      "weighted avg       1.00      1.00      1.00        72\n",
      "\n",
      "[[23  0  0]\n",
      " [ 0 23  0]\n",
      " [ 0  0 26]]\n",
      "wrong predict :  0\n"
     ]
    }
   ],
   "source": [
    "# 객체 생성\n",
    "random_forest = RandomForestClassifier(random_state=32)\n",
    "# 모델 학습\n",
    "random_forest.fit(X_train, y_train)\n",
    "# 모델 예측\n",
    "y_pred = random_forest.predict(X_test)\n",
    "# 모델 성능 평가\n",
    "print(classification_report(y_pred, y_test))\n",
    "# 오차행렬 표시\n",
    "print(confusion_matrix(y_pred, y_test))\n",
    "# 대각 행렬은 정확하게 예측한곳, 그외는 잘못 예측한 계수\n",
    "cm = confusion_matrix(y_pred, y_test)\n",
    "print(\"wrong predict : \", cm.sum() - np.diag(cm).sum())"
   ]
  },
  {
   "cell_type": "code",
   "execution_count": 104,
   "id": "ca8d517e",
   "metadata": {},
   "outputs": [
    {
     "name": "stdout",
     "output_type": "stream",
     "text": [
      "              precision    recall  f1-score   support\n",
      "\n",
      "           0       1.00      0.96      0.98        24\n",
      "           1       0.96      0.96      0.96        23\n",
      "           2       0.96      1.00      0.98        25\n",
      "\n",
      "    accuracy                           0.97        72\n",
      "   macro avg       0.97      0.97      0.97        72\n",
      "weighted avg       0.97      0.97      0.97        72\n",
      "\n",
      "[[23  1  0]\n",
      " [ 0 22  1]\n",
      " [ 0  0 25]]\n",
      "wrong predict :  2\n"
     ]
    }
   ],
   "source": [
    "# 객체 생성\n",
    "logistic_model = LogisticRegression(max_iter=4100)\n",
    "# 모델 학습\n",
    "logistic_model.fit(X_train, y_train)\n",
    "# 모델 예측\n",
    "y_pred = logistic_model.predict(X_test)\n",
    "# 모델 성능 평가\n",
    "print(classification_report(y_pred, y_test))\n",
    "# 오차행렬 표시\n",
    "print(confusion_matrix(y_pred, y_test))\n",
    "# 대각 행렬은 정확하게 예측한곳, 그외는 잘못 예측한 계수\n",
    "cm = confusion_matrix(y_pred, y_test)\n",
    "print(\"wrong predict : \", cm.sum() - np.diag(cm).sum())"
   ]
  },
  {
   "cell_type": "markdown",
   "id": "30e97162",
   "metadata": {},
   "source": [
    "## 유방암 데이터 분류하기\n",
    "## 데이터 이해하기"
   ]
  },
  {
   "cell_type": "code",
   "execution_count": 105,
   "id": "ce0e8385",
   "metadata": {},
   "outputs": [
    {
     "name": "stdout",
     "output_type": "stream",
     "text": [
      "breast_cancer feature\n",
      "[[1.799e+01 1.038e+01 1.228e+02 ... 2.654e-01 4.601e-01 1.189e-01]\n",
      " [2.057e+01 1.777e+01 1.329e+02 ... 1.860e-01 2.750e-01 8.902e-02]\n",
      " [1.969e+01 2.125e+01 1.300e+02 ... 2.430e-01 3.613e-01 8.758e-02]\n",
      " ...\n",
      " [1.660e+01 2.808e+01 1.083e+02 ... 1.418e-01 2.218e-01 7.820e-02]\n",
      " [2.060e+01 2.933e+01 1.401e+02 ... 2.650e-01 4.087e-01 1.240e-01]\n",
      " [7.760e+00 2.454e+01 4.792e+01 ... 0.000e+00 2.871e-01 7.039e-02]]\n",
      "(569, 30)\n",
      "breast_cancer label\n",
      "[0 0 0 0 0 0 0 0 0 0 0 0 0 0 0 0 0 0 0 1 1 1 0 0 0 0 0 0 0 0 0 0 0 0 0 0 0\n",
      " 1 0 0 0 0 0 0 0 0 1 0 1 1 1 1 1 0 0 1 0 0 1 1 1 1 0 1 0 0 1 1 1 1 0 1 0 0\n",
      " 1 0 1 0 0 1 1 1 0 0 1 0 0 0 1 1 1 0 1 1 0 0 1 1 1 0 0 1 1 1 1 0 1 1 0 1 1\n",
      " 1 1 1 1 1 1 0 0 0 1 0 0 1 1 1 0 0 1 0 1 0 0 1 0 0 1 1 0 1 1 0 1 1 1 1 0 1\n",
      " 1 1 1 1 1 1 1 1 0 1 1 1 1 0 0 1 0 1 1 0 0 1 1 0 0 1 1 1 1 0 1 1 0 0 0 1 0\n",
      " 1 0 1 1 1 0 1 1 0 0 1 0 0 0 0 1 0 0 0 1 0 1 0 1 1 0 1 0 0 0 0 1 1 0 0 1 1\n",
      " 1 0 1 1 1 1 1 0 0 1 1 0 1 1 0 0 1 0 1 1 1 1 0 1 1 1 1 1 0 1 0 0 0 0 0 0 0\n",
      " 0 0 0 0 0 0 0 1 1 1 1 1 1 0 1 0 1 1 0 1 1 0 1 0 0 1 1 1 1 1 1 1 1 1 1 1 1\n",
      " 1 0 1 1 0 1 0 1 1 1 1 1 1 1 1 1 1 1 1 1 1 0 1 1 1 0 1 0 1 1 1 1 0 0 0 1 1\n",
      " 1 1 0 1 0 1 0 1 1 1 0 1 1 1 1 1 1 1 0 0 0 1 1 1 1 1 1 1 1 1 1 1 0 0 1 0 0\n",
      " 0 1 0 0 1 1 1 1 1 0 1 1 1 1 1 0 1 1 1 0 1 1 0 0 1 1 1 1 1 1 0 1 1 1 1 1 1\n",
      " 1 0 1 1 1 1 1 0 1 1 0 1 1 1 1 1 1 1 1 1 1 1 1 0 1 0 0 1 0 1 1 1 1 1 0 1 1\n",
      " 0 1 0 1 1 0 1 0 1 1 1 1 1 1 1 1 0 0 1 1 1 1 1 1 0 1 1 1 1 1 1 1 1 1 1 0 1\n",
      " 1 1 1 1 1 1 0 1 0 1 1 0 1 1 1 1 1 0 0 1 0 1 0 1 1 1 1 1 0 1 1 0 1 0 1 0 0\n",
      " 1 1 1 0 1 1 1 1 1 1 1 1 1 1 1 0 1 0 0 1 1 1 1 1 1 1 1 1 1 1 1 1 1 1 1 1 1\n",
      " 1 1 1 1 1 1 1 0 0 0 0 0 0 1]\n",
      "(569,)\n",
      "breast_cancer target_names\n",
      "['malignant' 'benign']\n",
      "breast_cancer describe\n",
      ".. _breast_cancer_dataset:\n",
      "\n",
      "Breast cancer wisconsin (diagnostic) dataset\n",
      "--------------------------------------------\n",
      "\n",
      "**Data Set Characteristics:**\n",
      "\n",
      "    :Number of Instances: 569\n",
      "\n",
      "    :Number of Attributes: 30 numeric, predictive attributes and the class\n",
      "\n",
      "    :Attribute Information:\n",
      "        - radius (mean of distances from center to points on the perimeter)\n",
      "        - texture (standard deviation of gray-scale values)\n",
      "        - perimeter\n",
      "        - area\n",
      "        - smoothness (local variation in radius lengths)\n",
      "        - compactness (perimeter^2 / area - 1.0)\n",
      "        - concavity (severity of concave portions of the contour)\n",
      "        - concave points (number of concave portions of the contour)\n",
      "        - symmetry\n",
      "        - fractal dimension (\"coastline approximation\" - 1)\n",
      "\n",
      "        The mean, standard error, and \"worst\" or largest (mean of the three\n",
      "        worst/largest values) of these features were computed for each image,\n",
      "        resulting in 30 features.  For instance, field 0 is Mean Radius, field\n",
      "        10 is Radius SE, field 20 is Worst Radius.\n",
      "\n",
      "        - class:\n",
      "                - WDBC-Malignant\n",
      "                - WDBC-Benign\n",
      "\n",
      "    :Summary Statistics:\n",
      "\n",
      "    ===================================== ====== ======\n",
      "                                           Min    Max\n",
      "    ===================================== ====== ======\n",
      "    radius (mean):                        6.981  28.11\n",
      "    texture (mean):                       9.71   39.28\n",
      "    perimeter (mean):                     43.79  188.5\n",
      "    area (mean):                          143.5  2501.0\n",
      "    smoothness (mean):                    0.053  0.163\n",
      "    compactness (mean):                   0.019  0.345\n",
      "    concavity (mean):                     0.0    0.427\n",
      "    concave points (mean):                0.0    0.201\n",
      "    symmetry (mean):                      0.106  0.304\n",
      "    fractal dimension (mean):             0.05   0.097\n",
      "    radius (standard error):              0.112  2.873\n",
      "    texture (standard error):             0.36   4.885\n",
      "    perimeter (standard error):           0.757  21.98\n",
      "    area (standard error):                6.802  542.2\n",
      "    smoothness (standard error):          0.002  0.031\n",
      "    compactness (standard error):         0.002  0.135\n",
      "    concavity (standard error):           0.0    0.396\n",
      "    concave points (standard error):      0.0    0.053\n",
      "    symmetry (standard error):            0.008  0.079\n",
      "    fractal dimension (standard error):   0.001  0.03\n",
      "    radius (worst):                       7.93   36.04\n",
      "    texture (worst):                      12.02  49.54\n",
      "    perimeter (worst):                    50.41  251.2\n",
      "    area (worst):                         185.2  4254.0\n",
      "    smoothness (worst):                   0.071  0.223\n",
      "    compactness (worst):                  0.027  1.058\n",
      "    concavity (worst):                    0.0    1.252\n",
      "    concave points (worst):               0.0    0.291\n",
      "    symmetry (worst):                     0.156  0.664\n",
      "    fractal dimension (worst):            0.055  0.208\n",
      "    ===================================== ====== ======\n",
      "\n",
      "    :Missing Attribute Values: None\n",
      "\n",
      "    :Class Distribution: 212 - Malignant, 357 - Benign\n",
      "\n",
      "    :Creator:  Dr. William H. Wolberg, W. Nick Street, Olvi L. Mangasarian\n",
      "\n",
      "    :Donor: Nick Street\n",
      "\n",
      "    :Date: November, 1995\n",
      "\n",
      "This is a copy of UCI ML Breast Cancer Wisconsin (Diagnostic) datasets.\n",
      "https://goo.gl/U2Uwz2\n",
      "\n",
      "Features are computed from a digitized image of a fine needle\n",
      "aspirate (FNA) of a breast mass.  They describe\n",
      "characteristics of the cell nuclei present in the image.\n",
      "\n",
      "Separating plane described above was obtained using\n",
      "Multisurface Method-Tree (MSM-T) [K. P. Bennett, \"Decision Tree\n",
      "Construction Via Linear Programming.\" Proceedings of the 4th\n",
      "Midwest Artificial Intelligence and Cognitive Science Society,\n",
      "pp. 97-101, 1992], a classification method which uses linear\n",
      "programming to construct a decision tree.  Relevant features\n",
      "were selected using an exhaustive search in the space of 1-4\n",
      "features and 1-3 separating planes.\n",
      "\n",
      "The actual linear program used to obtain the separating plane\n",
      "in the 3-dimensional space is that described in:\n",
      "[K. P. Bennett and O. L. Mangasarian: \"Robust Linear\n",
      "Programming Discrimination of Two Linearly Inseparable Sets\",\n",
      "Optimization Methods and Software 1, 1992, 23-34].\n",
      "\n",
      "This database is also available through the UW CS ftp server:\n",
      "\n",
      "ftp ftp.cs.wisc.edu\n",
      "cd math-prog/cpo-dataset/machine-learn/WDBC/\n",
      "\n",
      ".. topic:: References\n",
      "\n",
      "   - W.N. Street, W.H. Wolberg and O.L. Mangasarian. Nuclear feature extraction \n",
      "     for breast tumor diagnosis. IS&T/SPIE 1993 International Symposium on \n",
      "     Electronic Imaging: Science and Technology, volume 1905, pages 861-870,\n",
      "     San Jose, CA, 1993.\n",
      "   - O.L. Mangasarian, W.N. Street and W.H. Wolberg. Breast cancer diagnosis and \n",
      "     prognosis via linear programming. Operations Research, 43(4), pages 570-577, \n",
      "     July-August 1995.\n",
      "   - W.H. Wolberg, W.N. Street, and O.L. Mangasarian. Machine learning techniques\n",
      "     to diagnose breast cancer from fine-needle aspirates. Cancer Letters 77 (1994) \n",
      "     163-171.\n"
     ]
    }
   ],
   "source": [
    "#데이터 이해\n",
    "# breast_cancer의 featuredata\n",
    "print(\"breast_cancer feature\")\n",
    "print(breast_cancer.data)\n",
    "print(breast_cancer.data.shape)\n",
    "# breast_cancer의 labeldata\n",
    "print(\"breast_cancer label\")\n",
    "print(breast_cancer.target)\n",
    "print(breast_cancer.target.shape)\n",
    "print(\"breast_cancer target_names\")\n",
    "print(breast_cancer.target_names)\n",
    "\n",
    "# 데이터 Describe\n",
    "print(\"breast_cancer describe\")\n",
    "print(breast_cancer.DESCR)"
   ]
  },
  {
   "cell_type": "markdown",
   "id": "a38a1ce0",
   "metadata": {},
   "source": [
    "다양한 유방암 특성들을 활용해 양성인지 음성인지 판단하는 세트  \n",
    "569개의 데이터, 30개의 feature"
   ]
  },
  {
   "cell_type": "code",
   "execution_count": 106,
   "id": "c5d3520e",
   "metadata": {},
   "outputs": [
    {
     "name": "stdout",
     "output_type": "stream",
     "text": [
      "X_train 개수:  (455, 30) , X_test 개수 (114, 30)\n",
      "y_train 개수:  (455,) , y_test 개수 (114,)\n"
     ]
    }
   ],
   "source": [
    "# train test 데이터 분리\n",
    "# 데이터셋 분리 훈련 데이터 0.8, 테스트 데이터 0.2의 비율\n",
    "X_train, X_test, y_train, y_test = train_test_split(breast_cancer.data,\n",
    "                                                    breast_cancer.target,\n",
    "                                                    test_size = 0.2,\n",
    "                                                    random_state=7)\n",
    "\n",
    "print('X_train 개수: ', X_train.shape, \", X_test 개수\", X_test.shape)\n",
    "print('y_train 개수: ', y_train.shape, \", y_test 개수\", y_test.shape)"
   ]
  },
  {
   "cell_type": "markdown",
   "id": "6ae24aba",
   "metadata": {},
   "source": [
    "### DecisionTree"
   ]
  },
  {
   "cell_type": "code",
   "execution_count": 107,
   "id": "acfeab3f",
   "metadata": {},
   "outputs": [
    {
     "name": "stdout",
     "output_type": "stream",
     "text": [
      "              precision    recall  f1-score   support\n",
      "\n",
      "           0       0.82      0.92      0.87        36\n",
      "           1       0.96      0.91      0.93        78\n",
      "\n",
      "    accuracy                           0.91       114\n",
      "   macro avg       0.89      0.91      0.90       114\n",
      "weighted avg       0.92      0.91      0.91       114\n",
      "\n",
      "[[33  3]\n",
      " [ 7 71]]\n",
      "wrong predict :  10\n"
     ]
    }
   ],
   "source": [
    "# 객체 생성\n",
    "decision_tree = DecisionTreeClassifier(random_state=32)\n",
    "# 모델 학습\n",
    "decision_tree.fit(X_train, y_train)\n",
    "# 모델 예측\n",
    "y_pred = decision_tree.predict(X_test)\n",
    "# 모델 성능 평가\n",
    "print(classification_report(y_pred, y_test))\n",
    "# 오차행렬 표시\n",
    "print(confusion_matrix(y_pred, y_test))\n",
    "# 대각 행렬은 정확하게 예측한곳, 그외는 잘못 예측한 계수\n",
    "cm = confusion_matrix(y_pred, y_test)\n",
    "print(\"wrong predict : \", cm.sum() - np.diag(cm).sum())"
   ]
  },
  {
   "cell_type": "markdown",
   "id": "fa350f72",
   "metadata": {},
   "source": [
    "### RandomForest"
   ]
  },
  {
   "cell_type": "code",
   "execution_count": 108,
   "id": "20962da1",
   "metadata": {},
   "outputs": [
    {
     "name": "stdout",
     "output_type": "stream",
     "text": [
      "              precision    recall  f1-score   support\n",
      "\n",
      "           0       1.00      1.00      1.00        40\n",
      "           1       1.00      1.00      1.00        74\n",
      "\n",
      "    accuracy                           1.00       114\n",
      "   macro avg       1.00      1.00      1.00       114\n",
      "weighted avg       1.00      1.00      1.00       114\n",
      "\n",
      "[[40  0]\n",
      " [ 0 74]]\n",
      "wrong predict :  0\n"
     ]
    }
   ],
   "source": [
    "# 객체 생성\n",
    "random_forest = RandomForestClassifier(random_state=32)\n",
    "# 모델 학습\n",
    "random_forest.fit(X_train, y_train)\n",
    "# 모델 예측\n",
    "y_pred = random_forest.predict(X_test)\n",
    "# 모델 성능 평가\n",
    "print(classification_report(y_pred, y_test))\n",
    "# 오차행렬 표시\n",
    "print(confusion_matrix(y_pred, y_test))\n",
    "# 대각 행렬은 정확하게 예측한곳, 그외는 잘못 예측한 계수\n",
    "cm = confusion_matrix(y_pred, y_test)\n",
    "print(\"wrong predict : \", cm.sum() - np.diag(cm).sum())"
   ]
  },
  {
   "cell_type": "markdown",
   "id": "1f0f165d",
   "metadata": {},
   "source": [
    "### SVM"
   ]
  },
  {
   "cell_type": "code",
   "execution_count": 109,
   "id": "66c170c5",
   "metadata": {},
   "outputs": [
    {
     "name": "stdout",
     "output_type": "stream",
     "text": [
      "              precision    recall  f1-score   support\n",
      "\n",
      "           0       0.85      1.00      0.92        34\n",
      "           1       1.00      0.93      0.96        80\n",
      "\n",
      "    accuracy                           0.95       114\n",
      "   macro avg       0.93      0.96      0.94       114\n",
      "weighted avg       0.96      0.95      0.95       114\n",
      "\n",
      "[[34  0]\n",
      " [ 6 74]]\n",
      "wrong predict :  6\n"
     ]
    }
   ],
   "source": [
    "# 객체 생성\n",
    "svm_model = svm.SVC(C=0.5, kernel='linear')\n",
    "# 모델 학습\n",
    "svm_model.fit(X_train, y_train)\n",
    "# 모델 예측\n",
    "y_pred = svm_model.predict(X_test)\n",
    "# 모델 성능 평가\n",
    "print(classification_report(y_pred, y_test))\n",
    "# 오차행렬 표시\n",
    "print(confusion_matrix(y_pred, y_test))\n",
    "# 대각 행렬은 정확하게 예측한곳, 그외는 잘못 예측한 계수\n",
    "cm = confusion_matrix(y_pred, y_test)\n",
    "print(\"wrong predict : \", cm.sum() - np.diag(cm).sum())"
   ]
  },
  {
   "cell_type": "markdown",
   "id": "38750c38",
   "metadata": {},
   "source": [
    "### SVM 파라미터 바꿔보기\n",
    "1. rbf  \n",
    "- C = 1 wrong predict : 11  \n",
    "- C = 0.5 wrong predict : 11  \n",
    "\n",
    "\n",
    "2. linear\n",
    "- C = 1 wrong predict : 6  \n",
    "- C = 0.5 wrong predict : 6  \n",
    "\n",
    "\n",
    "default 파라미터인 rbf보다, linear의 성능이 살짝 향상 되었다."
   ]
  },
  {
   "cell_type": "markdown",
   "id": "34701c7d",
   "metadata": {},
   "source": [
    "### SGD"
   ]
  },
  {
   "cell_type": "code",
   "execution_count": 110,
   "id": "d1360e35",
   "metadata": {},
   "outputs": [
    {
     "name": "stdout",
     "output_type": "stream",
     "text": [
      "              precision    recall  f1-score   support\n",
      "\n",
      "           0       0.70      1.00      0.82        28\n",
      "           1       1.00      0.86      0.92        86\n",
      "\n",
      "    accuracy                           0.89       114\n",
      "   macro avg       0.85      0.93      0.87       114\n",
      "weighted avg       0.93      0.89      0.90       114\n",
      "\n",
      "[[28  0]\n",
      " [12 74]]\n",
      "wrong predict :  12\n"
     ]
    }
   ],
   "source": [
    "# 객체 생성\n",
    "sgd_model = SGDClassifier(random_state=32)\n",
    "# 모델 학습\n",
    "sgd_model.fit(X_train, y_train)\n",
    "# 모델 예측\n",
    "y_pred = sgd_model.predict(X_test)\n",
    "# 모델 성능 평가\n",
    "print(classification_report(y_pred, y_test))\n",
    "# 오차행렬 표시\n",
    "print(confusion_matrix(y_pred, y_test))\n",
    "# 대각 행렬은 정확하게 예측한곳, 그외는 잘못 예측한 계수\n",
    "cm = confusion_matrix(y_pred, y_test)\n",
    "print(\"wrong predict : \", cm.sum() - np.diag(cm).sum())"
   ]
  },
  {
   "cell_type": "markdown",
   "id": "4db9e884",
   "metadata": {},
   "source": [
    "### LogisticRegression"
   ]
  },
  {
   "cell_type": "code",
   "execution_count": 111,
   "id": "05f6b430",
   "metadata": {
    "scrolled": true
   },
   "outputs": [
    {
     "name": "stdout",
     "output_type": "stream",
     "text": [
      "              precision    recall  f1-score   support\n",
      "\n",
      "           0       0.85      1.00      0.92        34\n",
      "           1       1.00      0.93      0.96        80\n",
      "\n",
      "    accuracy                           0.95       114\n",
      "   macro avg       0.93      0.96      0.94       114\n",
      "weighted avg       0.96      0.95      0.95       114\n",
      "\n",
      "[[34  6]\n",
      " [ 0 74]]\n",
      "wrong predict :  6\n"
     ]
    }
   ],
   "source": [
    "# 객체 생성\n",
    "logistic_model = LogisticRegression(max_iter=2100)\n",
    "# 모델 학습\n",
    "logistic_model.fit(X_train, y_train)\n",
    "# 모델 예측\n",
    "y_pred = logistic_model.predict(X_test)\n",
    "# 모델 성능 평가\n",
    "print(classification_report(y_pred, y_test))\n",
    "# 오차행렬 표시\n",
    "print(confusion_matrix(y_test, y_pred))\n",
    "# 대각 행렬은 정확하게 예측한곳, 그외는 잘못 예측한 계수\n",
    "cm = confusion_matrix(y_pred, y_test)\n",
    "print(\"wrong predict : \", cm.sum() - np.diag(cm).sum())"
   ]
  },
  {
   "cell_type": "markdown",
   "id": "46dc5a57",
   "metadata": {},
   "source": [
    "## 성능평가\n",
    "유방암 데이터 셋에서 중요한건 암 환자를 정상인으로 판단하는 오류이다.   \n",
    "유방암 환자는(malignant) 데이터에서 0을 나타내고 있고, confusion matrix에서 0번째 행을 나타낸다.  \n",
    "따라서 유방암 환자를 정상인으로 잘못 예측한 (0,1) 요소를 잘 봐야했고. 여기서 logisticregression과 decisontree는 탈락하게 되었다.  \n",
    "이제 남은 모델은 치명적인 예측의 실수는 없었지만. 제일 정확하게 판단한 randomforest 모델이 가장 성능이 좋았다.  \n"
   ]
  },
  {
   "cell_type": "markdown",
   "id": "b851a9ef",
   "metadata": {},
   "source": [
    "이번 Exploration을 통해서 sklearn에 대해 좀더 알수 있었고, 같은 데이터라도 모델에 따라서 결과값이 다르고, 각 모델도 파라미터에 따라서 결과가 달라진다는 것을 알게 되어서 좋았다."
   ]
  }
 ],
 "metadata": {
  "kernelspec": {
   "display_name": "Python 3 (ipykernel)",
   "language": "python",
   "name": "python3"
  },
  "language_info": {
   "codemirror_mode": {
    "name": "ipython",
    "version": 3
   },
   "file_extension": ".py",
   "mimetype": "text/x-python",
   "name": "python",
   "nbconvert_exporter": "python",
   "pygments_lexer": "ipython3",
   "version": "3.9.7"
  }
 },
 "nbformat": 4,
 "nbformat_minor": 5
}
