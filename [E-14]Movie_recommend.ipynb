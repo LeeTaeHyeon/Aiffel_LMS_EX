{
 "cells": [
  {
   "cell_type": "markdown",
   "id": "dbaa6e53",
   "metadata": {},
   "source": [
    "## 필요 패키지 import"
   ]
  },
  {
   "cell_type": "code",
   "execution_count": 1,
   "id": "4ae7b48b",
   "metadata": {},
   "outputs": [],
   "source": [
    "import pandas as pd\n",
    "import os\n",
    "import numpy as np\n",
    "\n",
    "from scipy.sparse import csr_matrix\n",
    "from implicit.als import AlternatingLeastSquares"
   ]
  },
  {
   "cell_type": "markdown",
   "id": "0fa8db8e",
   "metadata": {},
   "source": [
    "## 파일 load 및 전처리\n",
    "- user_id : 사용자 아이디  \n",
    "- move_id : 영화 아이디\n",
    "- rating : 별점\n",
    "- timestap : 별점 준 시간"
   ]
  },
  {
   "cell_type": "code",
   "execution_count": 2,
   "id": "dbef5016",
   "metadata": {},
   "outputs": [
    {
     "data": {
      "text/html": [
       "<div>\n",
       "<style scoped>\n",
       "    .dataframe tbody tr th:only-of-type {\n",
       "        vertical-align: middle;\n",
       "    }\n",
       "\n",
       "    .dataframe tbody tr th {\n",
       "        vertical-align: top;\n",
       "    }\n",
       "\n",
       "    .dataframe thead th {\n",
       "        text-align: right;\n",
       "    }\n",
       "</style>\n",
       "<table border=\"1\" class=\"dataframe\">\n",
       "  <thead>\n",
       "    <tr style=\"text-align: right;\">\n",
       "      <th></th>\n",
       "      <th>user_id</th>\n",
       "      <th>movie_id</th>\n",
       "      <th>ratings</th>\n",
       "      <th>timestamp</th>\n",
       "    </tr>\n",
       "  </thead>\n",
       "  <tbody>\n",
       "    <tr>\n",
       "      <th>0</th>\n",
       "      <td>1</td>\n",
       "      <td>1193</td>\n",
       "      <td>5</td>\n",
       "      <td>978300760</td>\n",
       "    </tr>\n",
       "    <tr>\n",
       "      <th>1</th>\n",
       "      <td>1</td>\n",
       "      <td>661</td>\n",
       "      <td>3</td>\n",
       "      <td>978302109</td>\n",
       "    </tr>\n",
       "    <tr>\n",
       "      <th>2</th>\n",
       "      <td>1</td>\n",
       "      <td>914</td>\n",
       "      <td>3</td>\n",
       "      <td>978301968</td>\n",
       "    </tr>\n",
       "    <tr>\n",
       "      <th>3</th>\n",
       "      <td>1</td>\n",
       "      <td>3408</td>\n",
       "      <td>4</td>\n",
       "      <td>978300275</td>\n",
       "    </tr>\n",
       "    <tr>\n",
       "      <th>4</th>\n",
       "      <td>1</td>\n",
       "      <td>2355</td>\n",
       "      <td>5</td>\n",
       "      <td>978824291</td>\n",
       "    </tr>\n",
       "  </tbody>\n",
       "</table>\n",
       "</div>"
      ],
      "text/plain": [
       "   user_id  movie_id  ratings  timestamp\n",
       "0        1      1193        5  978300760\n",
       "1        1       661        3  978302109\n",
       "2        1       914        3  978301968\n",
       "3        1      3408        4  978300275\n",
       "4        1      2355        5  978824291"
      ]
     },
     "execution_count": 2,
     "metadata": {},
     "output_type": "execute_result"
    }
   ],
   "source": [
    "rating_file_path=os.getenv('HOME') + '/aiffel/recommendata_iu/data/ml-1m/ratings.dat'\n",
    "ratings_cols = ['user_id', 'movie_id', 'ratings', 'timestamp']\n",
    "ratings = pd.read_csv(rating_file_path, sep='::', names=ratings_cols, engine='python', encoding = \"ISO-8859-1\")\n",
    "orginal_data_size = len(ratings)\n",
    "ratings.head()"
   ]
  },
  {
   "cell_type": "markdown",
   "id": "35da68e4",
   "metadata": {},
   "source": [
    "- 3점 미만은 선호 하지 않는것으로 생각해 제외하기"
   ]
  },
  {
   "cell_type": "code",
   "execution_count": 3,
   "id": "3e1c5a1a",
   "metadata": {},
   "outputs": [
    {
     "name": "stdout",
     "output_type": "stream",
     "text": [
      "orginal_data_size: 1000209, filtered_data_size: 836478\n",
      "Ratio of Remaining Data is 83.63%\n"
     ]
    }
   ],
   "source": [
    "# 3점 이상만 남깁니다.\n",
    "ratings = ratings[ratings['ratings']>=3]\n",
    "filtered_data_size = len(ratings)\n",
    "\n",
    "print(f'orginal_data_size: {orginal_data_size}, filtered_data_size: {filtered_data_size}')\n",
    "print(f'Ratio of Remaining Data is {filtered_data_size / orginal_data_size:.2%}')"
   ]
  },
  {
   "cell_type": "code",
   "execution_count": 4,
   "id": "8362ddac",
   "metadata": {},
   "outputs": [
    {
     "data": {
      "text/plain": [
       "0          5\n",
       "1          3\n",
       "2          3\n",
       "3          4\n",
       "4          5\n",
       "          ..\n",
       "1000203    3\n",
       "1000205    5\n",
       "1000206    5\n",
       "1000207    4\n",
       "1000208    4\n",
       "Name: counts, Length: 836478, dtype: int64"
      ]
     },
     "execution_count": 4,
     "metadata": {},
     "output_type": "execute_result"
    }
   ],
   "source": [
    "# ratings 컬럼의 이름을 counts로 바꿉니다.\n",
    "ratings.rename(columns={'ratings':'counts'}, inplace=True)\n",
    "ratings['counts']"
   ]
  },
  {
   "cell_type": "code",
   "execution_count": 5,
   "id": "cd7441bb",
   "metadata": {
    "scrolled": true
   },
   "outputs": [
    {
     "data": {
      "text/html": [
       "<div>\n",
       "<style scoped>\n",
       "    .dataframe tbody tr th:only-of-type {\n",
       "        vertical-align: middle;\n",
       "    }\n",
       "\n",
       "    .dataframe tbody tr th {\n",
       "        vertical-align: top;\n",
       "    }\n",
       "\n",
       "    .dataframe thead th {\n",
       "        text-align: right;\n",
       "    }\n",
       "</style>\n",
       "<table border=\"1\" class=\"dataframe\">\n",
       "  <thead>\n",
       "    <tr style=\"text-align: right;\">\n",
       "      <th></th>\n",
       "      <th>movie_id</th>\n",
       "      <th>title</th>\n",
       "      <th>genre</th>\n",
       "    </tr>\n",
       "  </thead>\n",
       "  <tbody>\n",
       "    <tr>\n",
       "      <th>0</th>\n",
       "      <td>1</td>\n",
       "      <td>Toy Story (1995)</td>\n",
       "      <td>Animation|Children's|Comedy</td>\n",
       "    </tr>\n",
       "    <tr>\n",
       "      <th>1</th>\n",
       "      <td>2</td>\n",
       "      <td>Jumanji (1995)</td>\n",
       "      <td>Adventure|Children's|Fantasy</td>\n",
       "    </tr>\n",
       "    <tr>\n",
       "      <th>2</th>\n",
       "      <td>3</td>\n",
       "      <td>Grumpier Old Men (1995)</td>\n",
       "      <td>Comedy|Romance</td>\n",
       "    </tr>\n",
       "    <tr>\n",
       "      <th>3</th>\n",
       "      <td>4</td>\n",
       "      <td>Waiting to Exhale (1995)</td>\n",
       "      <td>Comedy|Drama</td>\n",
       "    </tr>\n",
       "    <tr>\n",
       "      <th>4</th>\n",
       "      <td>5</td>\n",
       "      <td>Father of the Bride Part II (1995)</td>\n",
       "      <td>Comedy</td>\n",
       "    </tr>\n",
       "  </tbody>\n",
       "</table>\n",
       "</div>"
      ],
      "text/plain": [
       "   movie_id                               title                         genre\n",
       "0         1                    Toy Story (1995)   Animation|Children's|Comedy\n",
       "1         2                      Jumanji (1995)  Adventure|Children's|Fantasy\n",
       "2         3             Grumpier Old Men (1995)                Comedy|Romance\n",
       "3         4            Waiting to Exhale (1995)                  Comedy|Drama\n",
       "4         5  Father of the Bride Part II (1995)                        Comedy"
      ]
     },
     "execution_count": 5,
     "metadata": {},
     "output_type": "execute_result"
    }
   ],
   "source": [
    "# 영화 제목을 보기 위해 메타 데이터를 읽어옵니다.\n",
    "movie_file_path=os.getenv('HOME') + '/aiffel/recommendata_iu/data/ml-1m/movies.dat'\n",
    "cols = ['movie_id', 'title', 'genre'] \n",
    "movies = pd.read_csv(movie_file_path, sep='::', names=cols, engine='python', encoding='ISO-8859-1')\n",
    "movies.head()"
   ]
  },
  {
   "cell_type": "markdown",
   "id": "c2792cb8",
   "metadata": {},
   "source": [
    "### 소문자로 치환하기"
   ]
  },
  {
   "cell_type": "code",
   "execution_count": 6,
   "id": "f158bb2a",
   "metadata": {},
   "outputs": [
    {
     "data": {
      "text/html": [
       "<div>\n",
       "<style scoped>\n",
       "    .dataframe tbody tr th:only-of-type {\n",
       "        vertical-align: middle;\n",
       "    }\n",
       "\n",
       "    .dataframe tbody tr th {\n",
       "        vertical-align: top;\n",
       "    }\n",
       "\n",
       "    .dataframe thead th {\n",
       "        text-align: right;\n",
       "    }\n",
       "</style>\n",
       "<table border=\"1\" class=\"dataframe\">\n",
       "  <thead>\n",
       "    <tr style=\"text-align: right;\">\n",
       "      <th></th>\n",
       "      <th>movie_id</th>\n",
       "      <th>title</th>\n",
       "      <th>genre</th>\n",
       "    </tr>\n",
       "  </thead>\n",
       "  <tbody>\n",
       "    <tr>\n",
       "      <th>0</th>\n",
       "      <td>1</td>\n",
       "      <td>toy story (1995)</td>\n",
       "      <td>animation|children's|comedy</td>\n",
       "    </tr>\n",
       "    <tr>\n",
       "      <th>1</th>\n",
       "      <td>2</td>\n",
       "      <td>jumanji (1995)</td>\n",
       "      <td>adventure|children's|fantasy</td>\n",
       "    </tr>\n",
       "    <tr>\n",
       "      <th>2</th>\n",
       "      <td>3</td>\n",
       "      <td>grumpier old men (1995)</td>\n",
       "      <td>comedy|romance</td>\n",
       "    </tr>\n",
       "    <tr>\n",
       "      <th>3</th>\n",
       "      <td>4</td>\n",
       "      <td>waiting to exhale (1995)</td>\n",
       "      <td>comedy|drama</td>\n",
       "    </tr>\n",
       "    <tr>\n",
       "      <th>4</th>\n",
       "      <td>5</td>\n",
       "      <td>father of the bride part ii (1995)</td>\n",
       "      <td>comedy</td>\n",
       "    </tr>\n",
       "    <tr>\n",
       "      <th>5</th>\n",
       "      <td>6</td>\n",
       "      <td>heat (1995)</td>\n",
       "      <td>action|crime|thriller</td>\n",
       "    </tr>\n",
       "    <tr>\n",
       "      <th>6</th>\n",
       "      <td>7</td>\n",
       "      <td>sabrina (1995)</td>\n",
       "      <td>comedy|romance</td>\n",
       "    </tr>\n",
       "    <tr>\n",
       "      <th>7</th>\n",
       "      <td>8</td>\n",
       "      <td>tom and huck (1995)</td>\n",
       "      <td>adventure|children's</td>\n",
       "    </tr>\n",
       "    <tr>\n",
       "      <th>8</th>\n",
       "      <td>9</td>\n",
       "      <td>sudden death (1995)</td>\n",
       "      <td>action</td>\n",
       "    </tr>\n",
       "    <tr>\n",
       "      <th>9</th>\n",
       "      <td>10</td>\n",
       "      <td>goldeneye (1995)</td>\n",
       "      <td>action|adventure|thriller</td>\n",
       "    </tr>\n",
       "  </tbody>\n",
       "</table>\n",
       "</div>"
      ],
      "text/plain": [
       "   movie_id                               title                         genre\n",
       "0         1                    toy story (1995)   animation|children's|comedy\n",
       "1         2                      jumanji (1995)  adventure|children's|fantasy\n",
       "2         3             grumpier old men (1995)                comedy|romance\n",
       "3         4            waiting to exhale (1995)                  comedy|drama\n",
       "4         5  father of the bride part ii (1995)                        comedy\n",
       "5         6                         heat (1995)         action|crime|thriller\n",
       "6         7                      sabrina (1995)                comedy|romance\n",
       "7         8                 tom and huck (1995)          adventure|children's\n",
       "8         9                 sudden death (1995)                        action\n",
       "9        10                    goldeneye (1995)     action|adventure|thriller"
      ]
     },
     "execution_count": 6,
     "metadata": {},
     "output_type": "execute_result"
    }
   ],
   "source": [
    "movies['title'] = movies['title'].str.lower()\n",
    "movies['genre'] = movies['genre'].str.lower()\n",
    "\n",
    "movies.head(10)"
   ]
  },
  {
   "cell_type": "markdown",
   "id": "3569c685",
   "metadata": {},
   "source": [
    "## 분석"
   ]
  },
  {
   "cell_type": "markdown",
   "id": "fb5d2339",
   "metadata": {},
   "source": [
    "- ratings에 있는 유니크한 영화 개수"
   ]
  },
  {
   "cell_type": "code",
   "execution_count": 7,
   "id": "3dddacb6",
   "metadata": {},
   "outputs": [
    {
     "data": {
      "text/plain": [
       "3628"
      ]
     },
     "execution_count": 7,
     "metadata": {},
     "output_type": "execute_result"
    }
   ],
   "source": [
    "# 유니크한 영화 개수\n",
    "ratings['movie_id'].nunique()"
   ]
  },
  {
   "cell_type": "markdown",
   "id": "1c02a612",
   "metadata": {},
   "source": [
    "- ratings에 있는 유니크한 사용자 수"
   ]
  },
  {
   "cell_type": "code",
   "execution_count": 8,
   "id": "71df3f26",
   "metadata": {},
   "outputs": [
    {
     "data": {
      "text/plain": [
       "6039"
      ]
     },
     "execution_count": 8,
     "metadata": {},
     "output_type": "execute_result"
    }
   ],
   "source": [
    "# 유니크한 사용자 수\n",
    "ratings['user_id'].nunique()"
   ]
  },
  {
   "cell_type": "markdown",
   "id": "72f606ae",
   "metadata": {},
   "source": [
    "- 가장 인기있는 영화 30개"
   ]
  },
  {
   "cell_type": "code",
   "execution_count": 9,
   "id": "f14176c4",
   "metadata": {},
   "outputs": [
    {
     "name": "stdout",
     "output_type": "stream",
     "text": [
      "3142    cry in the dark, a (1988)\n",
      "Name: title, dtype: object\n",
      "2841    ennui, l' (1998)\n",
      "Name: title, dtype: object\n",
      "2816    guinevere (1999)\n",
      "Name: title, dtype: object\n",
      "2647    ghostbusters (1984)\n",
      "Name: title, dtype: object\n",
      "2492    true crime (1999)\n",
      "Name: title, dtype: object\n",
      "2440    eight days a week (1997)\n",
      "Name: title, dtype: object\n",
      "2429    my favorite martian (1999)\n",
      "Name: title, dtype: object\n",
      "2404    soul man (1986)\n",
      "Name: title, dtype: object\n",
      "2391    texas chainsaw massacre 2, the (1986)\n",
      "Name: title, dtype: object\n",
      "2365    down in the delta (1998)\n",
      "Name: title, dtype: object\n",
      "2344    clue (1985)\n",
      "Name: title, dtype: object\n",
      "2316    home fries (1998)\n",
      "Name: title, dtype: object\n",
      "2302    fletch (1985)\n",
      "Name: title, dtype: object\n",
      "2245    beloved (1998)\n",
      "Name: title, dtype: object\n",
      "2228    what dreams may come (1998)\n",
      "Name: title, dtype: object\n",
      "2188    no small affair (1984)\n",
      "Name: title, dtype: object\n",
      "2183    hero (1992)\n",
      "Name: title, dtype: object\n",
      "2144    waltzes from vienna (1933)\n",
      "Name: title, dtype: object\n",
      "2141    sabotage (1936)\n",
      "Name: title, dtype: object\n",
      "2125    untouchables, the (1987)\n",
      "Name: title, dtype: object\n",
      "2098    blade (1998)\n",
      "Name: title, dtype: object\n",
      "2052    cujo (1983)\n",
      "Name: title, dtype: object\n",
      "2033    steamboat willie (1940)\n",
      "Name: title, dtype: object\n",
      "1997    out of the past (1947)\n",
      "Name: title, dtype: object\n",
      "1982    herbie goes to monte carlo (1977)\n",
      "Name: title, dtype: object\n",
      "1961    east palace west palace (dong gong xi gong) (1...\n",
      "Name: title, dtype: object\n",
      "1953    last temptation of christ, the (1988)\n",
      "Name: title, dtype: object\n",
      "1950    seven samurai (the magnificent seven) (shichin...\n",
      "Name: title, dtype: object\n",
      "1931    lethal weapon (1987)\n",
      "Name: title, dtype: object\n",
      "1872    hamlet (1948)\n",
      "Name: title, dtype: object\n"
     ]
    }
   ],
   "source": [
    "# 가장 인기 있는 영화 30개\n",
    "movies_count = ratings.groupby('movie_id')['user_id'].count().sort_values(ascending=False)\n",
    "for movie_id in movies_count.head(30):\n",
    "    print(movies.loc[movies['movie_id']==movie_id]['title'])\n"
   ]
  },
  {
   "cell_type": "markdown",
   "id": "c003498c",
   "metadata": {},
   "source": [
    "## 검증을 위한 선호 영화 5가지 넣기\n",
    " - 옛날 영화들이라 아무거나 5개 넣자."
   ]
  },
  {
   "cell_type": "code",
   "execution_count": 10,
   "id": "9d36899e",
   "metadata": {},
   "outputs": [
    {
     "name": "stdout",
     "output_type": "stream",
     "text": [
      "      movie_id                       title  \\\n",
      "2012      2081  little mermaid, the (1989)   \n",
      "\n",
      "                                            genre  \n",
      "2012  animation|children's|comedy|musical|romance  \n",
      "      movie_id              title                         genre\n",
      "1009      1022  cinderella (1950)  animation|children's|musical\n",
      "      movie_id                       title    genre\n",
      "1022      1035  sound of music, the (1965)  musical\n",
      "      movie_id                                        title             genre\n",
      "2046      2115  indiana jones and the temple of doom (1984)  action|adventure\n",
      "   movie_id             title                        genre\n",
      "0         1  toy story (1995)  animation|children's|comedy\n"
     ]
    }
   ],
   "source": [
    "# 내가 선호하는 영화 5개\n",
    "my_favorite = ['little mermaid, the (1989)' , 'cinderella (1950)' ,'sound of music, the (1965)' ,'indiana jones and the temple of doom (1984)' ,'toy story (1995)']\n",
    "\n",
    "for i in range(5):\n",
    "    temp = movies[movies['title'] == my_favorite[i]]\n",
    "    print(temp)"
   ]
  },
  {
   "cell_type": "code",
   "execution_count": 11,
   "id": "768ab2ef",
   "metadata": {},
   "outputs": [
    {
     "data": {
      "text/html": [
       "<div>\n",
       "<style scoped>\n",
       "    .dataframe tbody tr th:only-of-type {\n",
       "        vertical-align: middle;\n",
       "    }\n",
       "\n",
       "    .dataframe tbody tr th {\n",
       "        vertical-align: top;\n",
       "    }\n",
       "\n",
       "    .dataframe thead th {\n",
       "        text-align: right;\n",
       "    }\n",
       "</style>\n",
       "<table border=\"1\" class=\"dataframe\">\n",
       "  <thead>\n",
       "    <tr style=\"text-align: right;\">\n",
       "      <th></th>\n",
       "      <th>user_id</th>\n",
       "      <th>movie_id</th>\n",
       "      <th>counts</th>\n",
       "      <th>timestamp</th>\n",
       "    </tr>\n",
       "  </thead>\n",
       "  <tbody>\n",
       "    <tr>\n",
       "      <th>1000203</th>\n",
       "      <td>6040</td>\n",
       "      <td>1090</td>\n",
       "      <td>3.0</td>\n",
       "      <td>956715518.0</td>\n",
       "    </tr>\n",
       "    <tr>\n",
       "      <th>1000205</th>\n",
       "      <td>6040</td>\n",
       "      <td>1094</td>\n",
       "      <td>5.0</td>\n",
       "      <td>956704887.0</td>\n",
       "    </tr>\n",
       "    <tr>\n",
       "      <th>1000206</th>\n",
       "      <td>6040</td>\n",
       "      <td>562</td>\n",
       "      <td>5.0</td>\n",
       "      <td>956704746.0</td>\n",
       "    </tr>\n",
       "    <tr>\n",
       "      <th>1000207</th>\n",
       "      <td>6040</td>\n",
       "      <td>1096</td>\n",
       "      <td>4.0</td>\n",
       "      <td>956715648.0</td>\n",
       "    </tr>\n",
       "    <tr>\n",
       "      <th>1000208</th>\n",
       "      <td>6040</td>\n",
       "      <td>1097</td>\n",
       "      <td>4.0</td>\n",
       "      <td>956715569.0</td>\n",
       "    </tr>\n",
       "    <tr>\n",
       "      <th>0</th>\n",
       "      <td>TH</td>\n",
       "      <td>2081</td>\n",
       "      <td>4.0</td>\n",
       "      <td>NaN</td>\n",
       "    </tr>\n",
       "    <tr>\n",
       "      <th>1</th>\n",
       "      <td>TH</td>\n",
       "      <td>1022</td>\n",
       "      <td>4.0</td>\n",
       "      <td>NaN</td>\n",
       "    </tr>\n",
       "    <tr>\n",
       "      <th>2</th>\n",
       "      <td>TH</td>\n",
       "      <td>1035</td>\n",
       "      <td>5.0</td>\n",
       "      <td>NaN</td>\n",
       "    </tr>\n",
       "    <tr>\n",
       "      <th>3</th>\n",
       "      <td>TH</td>\n",
       "      <td>2115</td>\n",
       "      <td>5.0</td>\n",
       "      <td>NaN</td>\n",
       "    </tr>\n",
       "    <tr>\n",
       "      <th>4</th>\n",
       "      <td>TH</td>\n",
       "      <td>1</td>\n",
       "      <td>4.0</td>\n",
       "      <td>NaN</td>\n",
       "    </tr>\n",
       "  </tbody>\n",
       "</table>\n",
       "</div>"
      ],
      "text/plain": [
       "        user_id  movie_id  counts    timestamp\n",
       "1000203    6040      1090     3.0  956715518.0\n",
       "1000205    6040      1094     5.0  956704887.0\n",
       "1000206    6040       562     5.0  956704746.0\n",
       "1000207    6040      1096     4.0  956715648.0\n",
       "1000208    6040      1097     4.0  956715569.0\n",
       "0            TH      2081     4.0          NaN\n",
       "1            TH      1022     4.0          NaN\n",
       "2            TH      1035     5.0          NaN\n",
       "3            TH      2115     5.0          NaN\n",
       "4            TH         1     4.0          NaN"
      ]
     },
     "execution_count": 11,
     "metadata": {},
     "output_type": "execute_result"
    }
   ],
   "source": [
    "my_favorite = [2081, 1022, 1035, 2115, 1]\n",
    "my_count = [4.0, 4.0, 5.0, 5.0, 4.0]\n",
    "my_movielist = pd.DataFrame({'user_id': ['TH']*5, 'movie_id': my_favorite, 'counts': my_count})\n",
    "\n",
    "if not ratings.isin({'user_id':['sehui']})['user_id'].any():  # user_id에 'sehui'이라는 데이터가 없다면\n",
    "    ratings = ratings.append(my_movielist)                           # 위에 임의로 만든 my_movielist 데이터를 추가해 줍니다. \n",
    "\n",
    "ratings.tail(10)"
   ]
  },
  {
   "cell_type": "markdown",
   "id": "b68da494",
   "metadata": {},
   "source": [
    "## 전처리"
   ]
  },
  {
   "cell_type": "code",
   "execution_count": 12,
   "id": "6b654d47",
   "metadata": {},
   "outputs": [],
   "source": [
    "# 고유한 유저, 아티스트를 찾아내는 코드\n",
    "user_unique = ratings['user_id'].unique()\n",
    "movie_unique = ratings['movie_id'].unique()\n",
    "\n",
    "# 유저, 아티스트 indexing 하는 코드 idx는 index의 약자입니다.\n",
    "user_to_idx = {v:k for k,v in enumerate(user_unique)}\n",
    "movie_to_idx = {v:k for k,v in enumerate(movie_unique)}"
   ]
  },
  {
   "cell_type": "code",
   "execution_count": 13,
   "id": "b17471f4",
   "metadata": {},
   "outputs": [
    {
     "data": {
      "text/plain": [
       "6039"
      ]
     },
     "execution_count": 13,
     "metadata": {},
     "output_type": "execute_result"
    }
   ],
   "source": [
    "user_to_idx['TH']"
   ]
  },
  {
   "cell_type": "code",
   "execution_count": 14,
   "id": "e3bf7134",
   "metadata": {},
   "outputs": [
    {
     "name": "stdout",
     "output_type": "stream",
     "text": [
      "user_id column indexing OK!!\n",
      "movie_id column indexing OK!!\n"
     ]
    },
    {
     "data": {
      "text/html": [
       "<div>\n",
       "<style scoped>\n",
       "    .dataframe tbody tr th:only-of-type {\n",
       "        vertical-align: middle;\n",
       "    }\n",
       "\n",
       "    .dataframe tbody tr th {\n",
       "        vertical-align: top;\n",
       "    }\n",
       "\n",
       "    .dataframe thead th {\n",
       "        text-align: right;\n",
       "    }\n",
       "</style>\n",
       "<table border=\"1\" class=\"dataframe\">\n",
       "  <thead>\n",
       "    <tr style=\"text-align: right;\">\n",
       "      <th></th>\n",
       "      <th>user_id</th>\n",
       "      <th>movie_id</th>\n",
       "      <th>counts</th>\n",
       "      <th>timestamp</th>\n",
       "    </tr>\n",
       "  </thead>\n",
       "  <tbody>\n",
       "    <tr>\n",
       "      <th>0</th>\n",
       "      <td>0</td>\n",
       "      <td>0</td>\n",
       "      <td>5.0</td>\n",
       "      <td>978300760.0</td>\n",
       "    </tr>\n",
       "    <tr>\n",
       "      <th>1</th>\n",
       "      <td>0</td>\n",
       "      <td>1</td>\n",
       "      <td>3.0</td>\n",
       "      <td>978302109.0</td>\n",
       "    </tr>\n",
       "    <tr>\n",
       "      <th>2</th>\n",
       "      <td>0</td>\n",
       "      <td>2</td>\n",
       "      <td>3.0</td>\n",
       "      <td>978301968.0</td>\n",
       "    </tr>\n",
       "    <tr>\n",
       "      <th>3</th>\n",
       "      <td>0</td>\n",
       "      <td>3</td>\n",
       "      <td>4.0</td>\n",
       "      <td>978300275.0</td>\n",
       "    </tr>\n",
       "    <tr>\n",
       "      <th>4</th>\n",
       "      <td>0</td>\n",
       "      <td>4</td>\n",
       "      <td>5.0</td>\n",
       "      <td>978824291.0</td>\n",
       "    </tr>\n",
       "    <tr>\n",
       "      <th>...</th>\n",
       "      <td>...</td>\n",
       "      <td>...</td>\n",
       "      <td>...</td>\n",
       "      <td>...</td>\n",
       "    </tr>\n",
       "    <tr>\n",
       "      <th>0</th>\n",
       "      <td>6039</td>\n",
       "      <td>191</td>\n",
       "      <td>4.0</td>\n",
       "      <td>NaN</td>\n",
       "    </tr>\n",
       "    <tr>\n",
       "      <th>1</th>\n",
       "      <td>6039</td>\n",
       "      <td>37</td>\n",
       "      <td>4.0</td>\n",
       "      <td>NaN</td>\n",
       "    </tr>\n",
       "    <tr>\n",
       "      <th>2</th>\n",
       "      <td>6039</td>\n",
       "      <td>14</td>\n",
       "      <td>5.0</td>\n",
       "      <td>NaN</td>\n",
       "    </tr>\n",
       "    <tr>\n",
       "      <th>3</th>\n",
       "      <td>6039</td>\n",
       "      <td>188</td>\n",
       "      <td>5.0</td>\n",
       "      <td>NaN</td>\n",
       "    </tr>\n",
       "    <tr>\n",
       "      <th>4</th>\n",
       "      <td>6039</td>\n",
       "      <td>40</td>\n",
       "      <td>4.0</td>\n",
       "      <td>NaN</td>\n",
       "    </tr>\n",
       "  </tbody>\n",
       "</table>\n",
       "<p>836483 rows × 4 columns</p>\n",
       "</div>"
      ],
      "text/plain": [
       "    user_id  movie_id  counts    timestamp\n",
       "0         0         0     5.0  978300760.0\n",
       "1         0         1     3.0  978302109.0\n",
       "2         0         2     3.0  978301968.0\n",
       "3         0         3     4.0  978300275.0\n",
       "4         0         4     5.0  978824291.0\n",
       "..      ...       ...     ...          ...\n",
       "0      6039       191     4.0          NaN\n",
       "1      6039        37     4.0          NaN\n",
       "2      6039        14     5.0          NaN\n",
       "3      6039       188     5.0          NaN\n",
       "4      6039        40     4.0          NaN\n",
       "\n",
       "[836483 rows x 4 columns]"
      ]
     },
     "execution_count": 14,
     "metadata": {},
     "output_type": "execute_result"
    }
   ],
   "source": [
    "temp_user_data = ratings['user_id'].map(user_to_idx.get).dropna()\n",
    "if len(temp_user_data) == len(ratings):   # 모든 row가 정상적으로 인덱싱되었다면\n",
    "    print('user_id column indexing OK!!')\n",
    "    ratings['user_id'] = temp_user_data   # data['user_id']을 인덱싱된 Series로 교체해 줍니다. \n",
    "else:\n",
    "    print('user_id column indexing Fail!!')\n",
    "\n",
    "# artist_to_idx을 통해 artist 컬럼도 동일한 방식으로 인덱싱해 줍니다. \n",
    "temp_movie_data = ratings['movie_id'].map(movie_to_idx.get).dropna()\n",
    "if len(temp_movie_data) == len(ratings):\n",
    "    print('movie_id column indexing OK!!')\n",
    "    ratings['movie_id'] = temp_movie_data\n",
    "else:\n",
    "    print('movie column indexing Fail!!')\n",
    "\n",
    "ratings"
   ]
  },
  {
   "cell_type": "code",
   "execution_count": 15,
   "id": "513fbd43",
   "metadata": {},
   "outputs": [],
   "source": [
    "ratings.drop(['timestamp'], axis=1, inplace=True)"
   ]
  },
  {
   "cell_type": "code",
   "execution_count": 16,
   "id": "74609ac6",
   "metadata": {},
   "outputs": [
    {
     "data": {
      "text/html": [
       "<div>\n",
       "<style scoped>\n",
       "    .dataframe tbody tr th:only-of-type {\n",
       "        vertical-align: middle;\n",
       "    }\n",
       "\n",
       "    .dataframe tbody tr th {\n",
       "        vertical-align: top;\n",
       "    }\n",
       "\n",
       "    .dataframe thead th {\n",
       "        text-align: right;\n",
       "    }\n",
       "</style>\n",
       "<table border=\"1\" class=\"dataframe\">\n",
       "  <thead>\n",
       "    <tr style=\"text-align: right;\">\n",
       "      <th></th>\n",
       "      <th>user_id</th>\n",
       "      <th>movie_id</th>\n",
       "      <th>counts</th>\n",
       "    </tr>\n",
       "  </thead>\n",
       "  <tbody>\n",
       "    <tr>\n",
       "      <th>0</th>\n",
       "      <td>0</td>\n",
       "      <td>0</td>\n",
       "      <td>5.0</td>\n",
       "    </tr>\n",
       "    <tr>\n",
       "      <th>1</th>\n",
       "      <td>0</td>\n",
       "      <td>1</td>\n",
       "      <td>3.0</td>\n",
       "    </tr>\n",
       "    <tr>\n",
       "      <th>2</th>\n",
       "      <td>0</td>\n",
       "      <td>2</td>\n",
       "      <td>3.0</td>\n",
       "    </tr>\n",
       "    <tr>\n",
       "      <th>3</th>\n",
       "      <td>0</td>\n",
       "      <td>3</td>\n",
       "      <td>4.0</td>\n",
       "    </tr>\n",
       "    <tr>\n",
       "      <th>4</th>\n",
       "      <td>0</td>\n",
       "      <td>4</td>\n",
       "      <td>5.0</td>\n",
       "    </tr>\n",
       "    <tr>\n",
       "      <th>...</th>\n",
       "      <td>...</td>\n",
       "      <td>...</td>\n",
       "      <td>...</td>\n",
       "    </tr>\n",
       "    <tr>\n",
       "      <th>0</th>\n",
       "      <td>6039</td>\n",
       "      <td>191</td>\n",
       "      <td>4.0</td>\n",
       "    </tr>\n",
       "    <tr>\n",
       "      <th>1</th>\n",
       "      <td>6039</td>\n",
       "      <td>37</td>\n",
       "      <td>4.0</td>\n",
       "    </tr>\n",
       "    <tr>\n",
       "      <th>2</th>\n",
       "      <td>6039</td>\n",
       "      <td>14</td>\n",
       "      <td>5.0</td>\n",
       "    </tr>\n",
       "    <tr>\n",
       "      <th>3</th>\n",
       "      <td>6039</td>\n",
       "      <td>188</td>\n",
       "      <td>5.0</td>\n",
       "    </tr>\n",
       "    <tr>\n",
       "      <th>4</th>\n",
       "      <td>6039</td>\n",
       "      <td>40</td>\n",
       "      <td>4.0</td>\n",
       "    </tr>\n",
       "  </tbody>\n",
       "</table>\n",
       "<p>836483 rows × 3 columns</p>\n",
       "</div>"
      ],
      "text/plain": [
       "    user_id  movie_id  counts\n",
       "0         0         0     5.0\n",
       "1         0         1     3.0\n",
       "2         0         2     3.0\n",
       "3         0         3     4.0\n",
       "4         0         4     5.0\n",
       "..      ...       ...     ...\n",
       "0      6039       191     4.0\n",
       "1      6039        37     4.0\n",
       "2      6039        14     5.0\n",
       "3      6039       188     5.0\n",
       "4      6039        40     4.0\n",
       "\n",
       "[836483 rows x 3 columns]"
      ]
     },
     "execution_count": 16,
     "metadata": {},
     "output_type": "execute_result"
    }
   ],
   "source": [
    "ratings"
   ]
  },
  {
   "cell_type": "markdown",
   "id": "7c7830c3",
   "metadata": {},
   "source": [
    "## CSR matrix"
   ]
  },
  {
   "cell_type": "code",
   "execution_count": 17,
   "id": "24352432",
   "metadata": {},
   "outputs": [
    {
     "data": {
      "text/plain": [
       "0    5.0\n",
       "1    3.0\n",
       "2    3.0\n",
       "3    4.0\n",
       "4    5.0\n",
       "    ... \n",
       "0    4.0\n",
       "1    4.0\n",
       "2    5.0\n",
       "3    5.0\n",
       "4    4.0\n",
       "Name: counts, Length: 836483, dtype: float64"
      ]
     },
     "execution_count": 17,
     "metadata": {},
     "output_type": "execute_result"
    }
   ],
   "source": [
    "ratings['counts']"
   ]
  },
  {
   "cell_type": "code",
   "execution_count": 18,
   "id": "dd647cf0",
   "metadata": {},
   "outputs": [
    {
     "data": {
      "text/plain": [
       "<6040x3628 sparse matrix of type '<class 'numpy.float64'>'\n",
       "\twith 836483 stored elements in Compressed Sparse Row format>"
      ]
     },
     "execution_count": 18,
     "metadata": {},
     "output_type": "execute_result"
    }
   ],
   "source": [
    "num_user = ratings['user_id'].nunique()\n",
    "num_movie = ratings['movie_id'].nunique()\n",
    "\n",
    "csr_data = csr_matrix((ratings['counts'], (ratings.user_id, ratings.movie_id)), shape= (num_user, num_movie))\n",
    "csr_data"
   ]
  },
  {
   "cell_type": "markdown",
   "id": "7f08ecf6",
   "metadata": {},
   "source": [
    "## als_model = AlternatingLeastSquares 모델을 직접 구성하여 훈련시켜 봅시다."
   ]
  },
  {
   "cell_type": "code",
   "execution_count": 19,
   "id": "6798e0a0",
   "metadata": {},
   "outputs": [],
   "source": [
    "# implicit 라이브러리에서 권장하고 있는 설정. 학습내용과 무관.\n",
    "os.environ['OPENBLAS_NUM_THREADS']='1'\n",
    "os.environ['KMP_DUPLICATE_LIB_OK']='True'\n",
    "os.environ['MKL_NUM_THREADS']='1'"
   ]
  },
  {
   "cell_type": "code",
   "execution_count": 20,
   "id": "00756e05",
   "metadata": {},
   "outputs": [
    {
     "data": {
      "application/vnd.jupyter.widget-view+json": {
       "model_id": "3eac4bbf2c864ea9aa45c6dfc5bc7d73",
       "version_major": 2,
       "version_minor": 0
      },
      "text/plain": [
       "  0%|          | 0/30 [00:00<?, ?it/s]"
      ]
     },
     "metadata": {},
     "output_type": "display_data"
    }
   ],
   "source": [
    "# Implicit AlternatingLeastSquares 모델의 선언\n",
    "als_model = AlternatingLeastSquares(factors=640, regularization=0.01, use_gpu=False, iterations=30, dtype=np.float64)\n",
    "\n",
    "# als 모델은 input으로 (item X user 꼴의 matrix를 받기 때문에 Transpose해줍니다.)\n",
    "csr_data_transpose = csr_data.T\n",
    "csr_data_transpose\n",
    "\n",
    "# 모델 훈련\n",
    "als_model.fit(csr_data_transpose)"
   ]
  },
  {
   "cell_type": "markdown",
   "id": "33b73f5c",
   "metadata": {},
   "source": [
    "## 내가 선호하는 5가지 영화 중 하나와 그 외의 영화 하나를 골라 훈련된 모델이 예측한 나의 선호도를 파악해 보세요."
   ]
  },
  {
   "cell_type": "markdown",
   "id": "512c5292",
   "metadata": {},
   "source": [
    "- 내가 선호했던 영화\n",
    " - 내적의 값이 1에 가까워 선호 하는 영화를 잘 추천한다."
   ]
  },
  {
   "cell_type": "code",
   "execution_count": 22,
   "id": "76bbf0ad",
   "metadata": {},
   "outputs": [
    {
     "data": {
      "text/plain": [
       "0.8131583144349732"
      ]
     },
     "execution_count": 22,
     "metadata": {},
     "output_type": "execute_result"
    }
   ],
   "source": [
    "TH, little_mermaid = user_to_idx['TH'], movie_to_idx[2081]\n",
    "TH_vector, little_mermaid_vector = als_model.user_factors[TH], als_model.item_factors[little_mermaid]\n",
    "\n",
    "# 새로 추가한 사용자와 toy_story 내적\n",
    "np.dot(TH_vector, little_mermaid_vector)"
   ]
  },
  {
   "cell_type": "markdown",
   "id": "5d29d076",
   "metadata": {},
   "source": [
    "- 내가 선호하지 않았던 영화\n",
    " - 내적의 값이 낮아서 추천하지 않는 영화라고 볼수 있다."
   ]
  },
  {
   "cell_type": "code",
   "execution_count": 23,
   "id": "a79c9f9c",
   "metadata": {},
   "outputs": [
    {
     "data": {
      "text/plain": [
       "0.00488059690711571"
      ]
     },
     "execution_count": 23,
     "metadata": {},
     "output_type": "execute_result"
    }
   ],
   "source": [
    "jumanji_vector = als_model.item_factors[movie_to_idx[2]]    # 영화 jumanji\n",
    "np.dot(TH_vector, jumanji_vector)"
   ]
  },
  {
   "cell_type": "markdown",
   "id": "95ac9aa8",
   "metadata": {},
   "source": [
    "## 내가 좋아하는 영화와 비슷한 영화를 추천받아 봅시다."
   ]
  },
  {
   "cell_type": "code",
   "execution_count": 32,
   "id": "b4c44fd7",
   "metadata": {},
   "outputs": [],
   "source": [
    "def get_similar_movie(movie_id: str):\n",
    "    movie_id = movie_to_idx[movie_id]\n",
    "    similar_movie = als_model.similar_items(movie_id, N=15)\n",
    "    similar_movie = [idx_to_movie[i[0]] for i in similar_movie]\n",
    "    return similar_movie"
   ]
  },
  {
   "cell_type": "code",
   "execution_count": 34,
   "id": "f0d77f29",
   "metadata": {},
   "outputs": [
    {
     "data": {
      "text/html": [
       "<div>\n",
       "<style scoped>\n",
       "    .dataframe tbody tr th:only-of-type {\n",
       "        vertical-align: middle;\n",
       "    }\n",
       "\n",
       "    .dataframe tbody tr th {\n",
       "        vertical-align: top;\n",
       "    }\n",
       "\n",
       "    .dataframe thead th {\n",
       "        text-align: right;\n",
       "    }\n",
       "</style>\n",
       "<table border=\"1\" class=\"dataframe\">\n",
       "  <thead>\n",
       "    <tr style=\"text-align: right;\">\n",
       "      <th></th>\n",
       "      <th>movie_id</th>\n",
       "      <th>title</th>\n",
       "      <th>genre</th>\n",
       "    </tr>\n",
       "  </thead>\n",
       "  <tbody>\n",
       "    <tr>\n",
       "      <th>400</th>\n",
       "      <td>404</td>\n",
       "      <td>brother minister: the assassination of malcolm...</td>\n",
       "      <td>documentary</td>\n",
       "    </tr>\n",
       "    <tr>\n",
       "      <th>522</th>\n",
       "      <td>526</td>\n",
       "      <td>savage nights (nuits fauves, les) (1992)</td>\n",
       "      <td>drama</td>\n",
       "    </tr>\n",
       "    <tr>\n",
       "      <th>614</th>\n",
       "      <td>618</td>\n",
       "      <td>two much (1996)</td>\n",
       "      <td>comedy|romance</td>\n",
       "    </tr>\n",
       "    <tr>\n",
       "      <th>780</th>\n",
       "      <td>790</td>\n",
       "      <td>an unforgettable summer (1994)</td>\n",
       "      <td>drama</td>\n",
       "    </tr>\n",
       "    <tr>\n",
       "      <th>782</th>\n",
       "      <td>792</td>\n",
       "      <td>hungarian fairy tale, a (1987)</td>\n",
       "      <td>fantasy</td>\n",
       "    </tr>\n",
       "    <tr>\n",
       "      <th>969</th>\n",
       "      <td>981</td>\n",
       "      <td>dangerous ground (1997)</td>\n",
       "      <td>drama</td>\n",
       "    </tr>\n",
       "    <tr>\n",
       "      <th>1717</th>\n",
       "      <td>1773</td>\n",
       "      <td>tokyo fist (1995)</td>\n",
       "      <td>action|drama</td>\n",
       "    </tr>\n",
       "    <tr>\n",
       "      <th>1781</th>\n",
       "      <td>1850</td>\n",
       "      <td>i love you, don't touch me! (1998)</td>\n",
       "      <td>drama|romance</td>\n",
       "    </tr>\n",
       "    <tr>\n",
       "      <th>1809</th>\n",
       "      <td>1878</td>\n",
       "      <td>woo (1998)</td>\n",
       "      <td>comedy|romance</td>\n",
       "    </tr>\n",
       "    <tr>\n",
       "      <th>2012</th>\n",
       "      <td>2081</td>\n",
       "      <td>little mermaid, the (1989)</td>\n",
       "      <td>animation|children's|comedy|musical|romance</td>\n",
       "    </tr>\n",
       "    <tr>\n",
       "      <th>2417</th>\n",
       "      <td>2486</td>\n",
       "      <td>24-hour woman (1998)</td>\n",
       "      <td>drama</td>\n",
       "    </tr>\n",
       "    <tr>\n",
       "      <th>2533</th>\n",
       "      <td>2602</td>\n",
       "      <td>mighty peking man (hsing hsing wang) (1977)</td>\n",
       "      <td>adventure|sci-fi</td>\n",
       "    </tr>\n",
       "    <tr>\n",
       "      <th>3050</th>\n",
       "      <td>3119</td>\n",
       "      <td>bay of blood (reazione a catena) (1971)</td>\n",
       "      <td>horror</td>\n",
       "    </tr>\n",
       "    <tr>\n",
       "      <th>3731</th>\n",
       "      <td>3800</td>\n",
       "      <td>criminal lovers (les amants criminels) (1999)</td>\n",
       "      <td>drama|romance</td>\n",
       "    </tr>\n",
       "    <tr>\n",
       "      <th>3806</th>\n",
       "      <td>3876</td>\n",
       "      <td>jerry &amp; tom (1998)</td>\n",
       "      <td>drama</td>\n",
       "    </tr>\n",
       "  </tbody>\n",
       "</table>\n",
       "</div>"
      ],
      "text/plain": [
       "      movie_id                                              title  \\\n",
       "400        404  brother minister: the assassination of malcolm...   \n",
       "522        526           savage nights (nuits fauves, les) (1992)   \n",
       "614        618                                    two much (1996)   \n",
       "780        790                     an unforgettable summer (1994)   \n",
       "782        792                     hungarian fairy tale, a (1987)   \n",
       "969        981                            dangerous ground (1997)   \n",
       "1717      1773                                  tokyo fist (1995)   \n",
       "1781      1850                 i love you, don't touch me! (1998)   \n",
       "1809      1878                                         woo (1998)   \n",
       "2012      2081                         little mermaid, the (1989)   \n",
       "2417      2486                               24-hour woman (1998)   \n",
       "2533      2602        mighty peking man (hsing hsing wang) (1977)   \n",
       "3050      3119            bay of blood (reazione a catena) (1971)   \n",
       "3731      3800      criminal lovers (les amants criminels) (1999)   \n",
       "3806      3876                                 jerry & tom (1998)   \n",
       "\n",
       "                                            genre  \n",
       "400                                   documentary  \n",
       "522                                         drama  \n",
       "614                                comedy|romance  \n",
       "780                                         drama  \n",
       "782                                       fantasy  \n",
       "969                                         drama  \n",
       "1717                                 action|drama  \n",
       "1781                                drama|romance  \n",
       "1809                               comedy|romance  \n",
       "2012  animation|children's|comedy|musical|romance  \n",
       "2417                                        drama  \n",
       "2533                             adventure|sci-fi  \n",
       "3050                                       horror  \n",
       "3731                                drama|romance  \n",
       "3806                                        drama  "
      ]
     },
     "execution_count": 34,
     "metadata": {},
     "output_type": "execute_result"
    }
   ],
   "source": [
    "movies.loc[movies['movie_id'].isin(get_similar_movie(2081))]"
   ]
  },
  {
   "cell_type": "markdown",
   "id": "695bca14",
   "metadata": {},
   "source": [
    "- 비슷한 영화들인가...?"
   ]
  },
  {
   "cell_type": "markdown",
   "id": "c177d19a",
   "metadata": {},
   "source": [
    "## 내가 좋아할 만한 영화들을 추천받아보자"
   ]
  },
  {
   "cell_type": "code",
   "execution_count": 35,
   "id": "099aa789",
   "metadata": {},
   "outputs": [
    {
     "data": {
      "text/plain": [
       "[(572, 0.317843568823617),\n",
       " (8, 0.22438247899074376),\n",
       " (46, 0.22436415870498116),\n",
       " (45, 0.19380098475938173),\n",
       " (551, 0.1867054138015785),\n",
       " (547, 0.16593051320793972),\n",
       " (330, 0.14432758201556833),\n",
       " (172, 0.14400932926089066),\n",
       " (619, 0.13828639890940192),\n",
       " (548, 0.13614718325609051),\n",
       " (1844, 0.1359981420572879),\n",
       " (10, 0.13277533673727154),\n",
       " (360, 0.1290808022438052),\n",
       " (33, 0.12387532021049158),\n",
       " (536, 0.12199873186616278),\n",
       " (347, 0.11915127526009542),\n",
       " (1, 0.11181897519193851),\n",
       " (527, 0.10610793365909524),\n",
       " (685, 0.10542861675501775),\n",
       " (499, 0.10466162440288138)]"
      ]
     },
     "execution_count": 35,
     "metadata": {},
     "output_type": "execute_result"
    }
   ],
   "source": [
    "user = user_to_idx['TH']\n",
    "\n",
    "# recommend에서는 user*item CSR Matrix를 받습니다.\n",
    "movie_recommended = als_model.recommend(user, csr_data, N=20, filter_already_liked_items=True)\n",
    "movie_recommended"
   ]
  },
  {
   "cell_type": "code",
   "execution_count": 36,
   "id": "086eca11",
   "metadata": {
    "scrolled": false
   },
   "outputs": [
    {
     "data": {
      "text/html": [
       "<div>\n",
       "<style scoped>\n",
       "    .dataframe tbody tr th:only-of-type {\n",
       "        vertical-align: middle;\n",
       "    }\n",
       "\n",
       "    .dataframe tbody tr th {\n",
       "        vertical-align: top;\n",
       "    }\n",
       "\n",
       "    .dataframe thead th {\n",
       "        text-align: right;\n",
       "    }\n",
       "</style>\n",
       "<table border=\"1\" class=\"dataframe\">\n",
       "  <thead>\n",
       "    <tr style=\"text-align: right;\">\n",
       "      <th></th>\n",
       "      <th>movie_id</th>\n",
       "      <th>title</th>\n",
       "      <th>genre</th>\n",
       "    </tr>\n",
       "  </thead>\n",
       "  <tbody>\n",
       "    <tr>\n",
       "      <th>360</th>\n",
       "      <td>364</td>\n",
       "      <td>lion king, the (1994)</td>\n",
       "      <td>animation|children's|musical</td>\n",
       "    </tr>\n",
       "    <tr>\n",
       "      <th>584</th>\n",
       "      <td>588</td>\n",
       "      <td>aladdin (1992)</td>\n",
       "      <td>animation|children's|comedy|musical</td>\n",
       "    </tr>\n",
       "    <tr>\n",
       "      <th>588</th>\n",
       "      <td>592</td>\n",
       "      <td>batman (1989)</td>\n",
       "      <td>action|adventure|crime|drama</td>\n",
       "    </tr>\n",
       "    <tr>\n",
       "      <th>590</th>\n",
       "      <td>594</td>\n",
       "      <td>snow white and the seven dwarfs (1937)</td>\n",
       "      <td>animation|children's|musical</td>\n",
       "    </tr>\n",
       "    <tr>\n",
       "      <th>591</th>\n",
       "      <td>595</td>\n",
       "      <td>beauty and the beast (1991)</td>\n",
       "      <td>animation|children's|musical</td>\n",
       "    </tr>\n",
       "    <tr>\n",
       "      <th>655</th>\n",
       "      <td>661</td>\n",
       "      <td>james and the giant peach (1996)</td>\n",
       "      <td>animation|children's|musical</td>\n",
       "    </tr>\n",
       "    <tr>\n",
       "      <th>1015</th>\n",
       "      <td>1028</td>\n",
       "      <td>mary poppins (1964)</td>\n",
       "      <td>children's|comedy|musical</td>\n",
       "    </tr>\n",
       "    <tr>\n",
       "      <th>1016</th>\n",
       "      <td>1029</td>\n",
       "      <td>dumbo (1941)</td>\n",
       "      <td>animation|children's|musical</td>\n",
       "    </tr>\n",
       "    <tr>\n",
       "      <th>1019</th>\n",
       "      <td>1032</td>\n",
       "      <td>alice in wonderland (1951)</td>\n",
       "      <td>animation|children's|musical</td>\n",
       "    </tr>\n",
       "    <tr>\n",
       "      <th>1072</th>\n",
       "      <td>1088</td>\n",
       "      <td>dirty dancing (1987)</td>\n",
       "      <td>musical|romance</td>\n",
       "    </tr>\n",
       "    <tr>\n",
       "      <th>1262</th>\n",
       "      <td>1282</td>\n",
       "      <td>fantasia (1940)</td>\n",
       "      <td>animation|children's|musical</td>\n",
       "    </tr>\n",
       "    <tr>\n",
       "      <th>1271</th>\n",
       "      <td>1291</td>\n",
       "      <td>indiana jones and the last crusade (1989)</td>\n",
       "      <td>action|adventure</td>\n",
       "    </tr>\n",
       "    <tr>\n",
       "      <th>1882</th>\n",
       "      <td>1951</td>\n",
       "      <td>oliver! (1968)</td>\n",
       "      <td>musical</td>\n",
       "    </tr>\n",
       "    <tr>\n",
       "      <th>1985</th>\n",
       "      <td>2054</td>\n",
       "      <td>honey, i shrunk the kids (1989)</td>\n",
       "      <td>adventure|children's|comedy|fantasy|sci-fi</td>\n",
       "    </tr>\n",
       "    <tr>\n",
       "      <th>2009</th>\n",
       "      <td>2078</td>\n",
       "      <td>jungle book, the (1967)</td>\n",
       "      <td>animation|children's|comedy|musical</td>\n",
       "    </tr>\n",
       "    <tr>\n",
       "      <th>2011</th>\n",
       "      <td>2080</td>\n",
       "      <td>lady and the tramp (1955)</td>\n",
       "      <td>animation|children's|comedy|musical|romance</td>\n",
       "    </tr>\n",
       "    <tr>\n",
       "      <th>2018</th>\n",
       "      <td>2087</td>\n",
       "      <td>peter pan (1953)</td>\n",
       "      <td>animation|children's|fantasy|musical</td>\n",
       "    </tr>\n",
       "    <tr>\n",
       "      <th>2027</th>\n",
       "      <td>2096</td>\n",
       "      <td>sleeping beauty (1959)</td>\n",
       "      <td>animation|children's|musical</td>\n",
       "    </tr>\n",
       "    <tr>\n",
       "      <th>2460</th>\n",
       "      <td>2529</td>\n",
       "      <td>planet of the apes (1968)</td>\n",
       "      <td>action|sci-fi</td>\n",
       "    </tr>\n",
       "    <tr>\n",
       "      <th>3613</th>\n",
       "      <td>3682</td>\n",
       "      <td>magnum force (1973)</td>\n",
       "      <td>western</td>\n",
       "    </tr>\n",
       "  </tbody>\n",
       "</table>\n",
       "</div>"
      ],
      "text/plain": [
       "      movie_id                                      title  \\\n",
       "360        364                      lion king, the (1994)   \n",
       "584        588                             aladdin (1992)   \n",
       "588        592                              batman (1989)   \n",
       "590        594     snow white and the seven dwarfs (1937)   \n",
       "591        595                beauty and the beast (1991)   \n",
       "655        661           james and the giant peach (1996)   \n",
       "1015      1028                        mary poppins (1964)   \n",
       "1016      1029                               dumbo (1941)   \n",
       "1019      1032                 alice in wonderland (1951)   \n",
       "1072      1088                       dirty dancing (1987)   \n",
       "1262      1282                            fantasia (1940)   \n",
       "1271      1291  indiana jones and the last crusade (1989)   \n",
       "1882      1951                             oliver! (1968)   \n",
       "1985      2054            honey, i shrunk the kids (1989)   \n",
       "2009      2078                    jungle book, the (1967)   \n",
       "2011      2080                  lady and the tramp (1955)   \n",
       "2018      2087                           peter pan (1953)   \n",
       "2027      2096                     sleeping beauty (1959)   \n",
       "2460      2529                  planet of the apes (1968)   \n",
       "3613      3682                        magnum force (1973)   \n",
       "\n",
       "                                            genre  \n",
       "360                  animation|children's|musical  \n",
       "584           animation|children's|comedy|musical  \n",
       "588                  action|adventure|crime|drama  \n",
       "590                  animation|children's|musical  \n",
       "591                  animation|children's|musical  \n",
       "655                  animation|children's|musical  \n",
       "1015                    children's|comedy|musical  \n",
       "1016                 animation|children's|musical  \n",
       "1019                 animation|children's|musical  \n",
       "1072                              musical|romance  \n",
       "1262                 animation|children's|musical  \n",
       "1271                             action|adventure  \n",
       "1882                                      musical  \n",
       "1985   adventure|children's|comedy|fantasy|sci-fi  \n",
       "2009          animation|children's|comedy|musical  \n",
       "2011  animation|children's|comedy|musical|romance  \n",
       "2018         animation|children's|fantasy|musical  \n",
       "2027                 animation|children's|musical  \n",
       "2460                                action|sci-fi  \n",
       "3613                                      western  "
      ]
     },
     "execution_count": 36,
     "metadata": {},
     "output_type": "execute_result"
    }
   ],
   "source": [
    "movie_list = [idx_to_movie[i[0]] for i in movie_recommended]\n",
    "movies.loc[movies['movie_id'].isin(movie_list)]"
   ]
  },
  {
   "cell_type": "markdown",
   "id": "b1b8015d",
   "metadata": {},
   "source": [
    "## 추천을 받게된 기여도를 확인해보자"
   ]
  },
  {
   "cell_type": "code",
   "execution_count": 40,
   "id": "f29c59e5",
   "metadata": {},
   "outputs": [],
   "source": [
    "movie_idx = movie_to_idx[364]    # 라이온킹\n",
    "explain = als_model.explain(user, csr_data, itemid=movie_idx)"
   ]
  },
  {
   "cell_type": "code",
   "execution_count": 38,
   "id": "b1cbdcdf",
   "metadata": {},
   "outputs": [
    {
     "data": {
      "text/plain": [
       "[(1022, 0.07485961925501927),\n",
       " (2081, 0.03623867619537685),\n",
       " (1, 0.021844159360084818),\n",
       " (1035, 0.011538591653660665),\n",
       " (2115, -0.002187365195824211)]"
      ]
     },
     "execution_count": 38,
     "metadata": {},
     "output_type": "execute_result"
    }
   ],
   "source": [
    "[(idx_to_movie[i[0]], i[1]) for i in explain[1]]"
   ]
  },
  {
   "cell_type": "code",
   "execution_count": 39,
   "id": "ad2046cc",
   "metadata": {},
   "outputs": [
    {
     "data": {
      "text/html": [
       "<div>\n",
       "<style scoped>\n",
       "    .dataframe tbody tr th:only-of-type {\n",
       "        vertical-align: middle;\n",
       "    }\n",
       "\n",
       "    .dataframe tbody tr th {\n",
       "        vertical-align: top;\n",
       "    }\n",
       "\n",
       "    .dataframe thead th {\n",
       "        text-align: right;\n",
       "    }\n",
       "</style>\n",
       "<table border=\"1\" class=\"dataframe\">\n",
       "  <thead>\n",
       "    <tr style=\"text-align: right;\">\n",
       "      <th></th>\n",
       "      <th>movie_id</th>\n",
       "      <th>title</th>\n",
       "      <th>genre</th>\n",
       "    </tr>\n",
       "  </thead>\n",
       "  <tbody>\n",
       "    <tr>\n",
       "      <th>0</th>\n",
       "      <td>1</td>\n",
       "      <td>toy story (1995)</td>\n",
       "      <td>animation|children's|comedy</td>\n",
       "    </tr>\n",
       "    <tr>\n",
       "      <th>1009</th>\n",
       "      <td>1022</td>\n",
       "      <td>cinderella (1950)</td>\n",
       "      <td>animation|children's|musical</td>\n",
       "    </tr>\n",
       "    <tr>\n",
       "      <th>1022</th>\n",
       "      <td>1035</td>\n",
       "      <td>sound of music, the (1965)</td>\n",
       "      <td>musical</td>\n",
       "    </tr>\n",
       "    <tr>\n",
       "      <th>2012</th>\n",
       "      <td>2081</td>\n",
       "      <td>little mermaid, the (1989)</td>\n",
       "      <td>animation|children's|comedy|musical|romance</td>\n",
       "    </tr>\n",
       "    <tr>\n",
       "      <th>2046</th>\n",
       "      <td>2115</td>\n",
       "      <td>indiana jones and the temple of doom (1984)</td>\n",
       "      <td>action|adventure</td>\n",
       "    </tr>\n",
       "  </tbody>\n",
       "</table>\n",
       "</div>"
      ],
      "text/plain": [
       "      movie_id                                        title  \\\n",
       "0            1                             toy story (1995)   \n",
       "1009      1022                            cinderella (1950)   \n",
       "1022      1035                   sound of music, the (1965)   \n",
       "2012      2081                   little mermaid, the (1989)   \n",
       "2046      2115  indiana jones and the temple of doom (1984)   \n",
       "\n",
       "                                            genre  \n",
       "0                     animation|children's|comedy  \n",
       "1009                 animation|children's|musical  \n",
       "1022                                      musical  \n",
       "2012  animation|children's|comedy|musical|romance  \n",
       "2046                             action|adventure  "
      ]
     },
     "execution_count": 39,
     "metadata": {},
     "output_type": "execute_result"
    }
   ],
   "source": [
    "movie_list = [idx_to_movie[i[0]] for i in explain[1]]\n",
    "movies.loc[movies['movie_id'].isin(movie_list)]"
   ]
  },
  {
   "cell_type": "markdown",
   "id": "aacee316",
   "metadata": {},
   "source": [
    "- 신데렐라, 인어공주, 토이스토리 .. 이렇게 추천에 기여를 한것보니 장르가 많이 겹친 순서대로 제대로 기여가 된듯하다."
   ]
  },
  {
   "cell_type": "code",
   "execution_count": 41,
   "id": "1dca6445",
   "metadata": {},
   "outputs": [],
   "source": [
    "movie_idx = movie_to_idx[1088]    # 더티댄싱\n",
    "explain = als_model.explain(user, csr_data, itemid=movie_idx)"
   ]
  },
  {
   "cell_type": "code",
   "execution_count": 42,
   "id": "7fc36baf",
   "metadata": {},
   "outputs": [
    {
     "data": {
      "text/plain": [
       "[(2081, 0.07060911837444472),\n",
       " (1035, 0.04044399302836994),\n",
       " (1022, 0.022777353231977212),\n",
       " (2115, 0.013315893706809037),\n",
       " (1, -0.019658599828896443)]"
      ]
     },
     "execution_count": 42,
     "metadata": {},
     "output_type": "execute_result"
    }
   ],
   "source": [
    "[(idx_to_movie[i[0]], i[1]) for i in explain[1]]"
   ]
  },
  {
   "cell_type": "code",
   "execution_count": 43,
   "id": "c8ebd536",
   "metadata": {
    "scrolled": true
   },
   "outputs": [
    {
     "data": {
      "text/html": [
       "<div>\n",
       "<style scoped>\n",
       "    .dataframe tbody tr th:only-of-type {\n",
       "        vertical-align: middle;\n",
       "    }\n",
       "\n",
       "    .dataframe tbody tr th {\n",
       "        vertical-align: top;\n",
       "    }\n",
       "\n",
       "    .dataframe thead th {\n",
       "        text-align: right;\n",
       "    }\n",
       "</style>\n",
       "<table border=\"1\" class=\"dataframe\">\n",
       "  <thead>\n",
       "    <tr style=\"text-align: right;\">\n",
       "      <th></th>\n",
       "      <th>movie_id</th>\n",
       "      <th>title</th>\n",
       "      <th>genre</th>\n",
       "    </tr>\n",
       "  </thead>\n",
       "  <tbody>\n",
       "    <tr>\n",
       "      <th>0</th>\n",
       "      <td>1</td>\n",
       "      <td>toy story (1995)</td>\n",
       "      <td>animation|children's|comedy</td>\n",
       "    </tr>\n",
       "    <tr>\n",
       "      <th>1009</th>\n",
       "      <td>1022</td>\n",
       "      <td>cinderella (1950)</td>\n",
       "      <td>animation|children's|musical</td>\n",
       "    </tr>\n",
       "    <tr>\n",
       "      <th>1022</th>\n",
       "      <td>1035</td>\n",
       "      <td>sound of music, the (1965)</td>\n",
       "      <td>musical</td>\n",
       "    </tr>\n",
       "    <tr>\n",
       "      <th>2012</th>\n",
       "      <td>2081</td>\n",
       "      <td>little mermaid, the (1989)</td>\n",
       "      <td>animation|children's|comedy|musical|romance</td>\n",
       "    </tr>\n",
       "    <tr>\n",
       "      <th>2046</th>\n",
       "      <td>2115</td>\n",
       "      <td>indiana jones and the temple of doom (1984)</td>\n",
       "      <td>action|adventure</td>\n",
       "    </tr>\n",
       "  </tbody>\n",
       "</table>\n",
       "</div>"
      ],
      "text/plain": [
       "      movie_id                                        title  \\\n",
       "0            1                             toy story (1995)   \n",
       "1009      1022                            cinderella (1950)   \n",
       "1022      1035                   sound of music, the (1965)   \n",
       "2012      2081                   little mermaid, the (1989)   \n",
       "2046      2115  indiana jones and the temple of doom (1984)   \n",
       "\n",
       "                                            genre  \n",
       "0                     animation|children's|comedy  \n",
       "1009                 animation|children's|musical  \n",
       "1022                                      musical  \n",
       "2012  animation|children's|comedy|musical|romance  \n",
       "2046                             action|adventure  "
      ]
     },
     "execution_count": 43,
     "metadata": {},
     "output_type": "execute_result"
    }
   ],
   "source": [
    "movie_list = [idx_to_movie[i[0]] for i in explain[1]]\n",
    "movies.loc[movies['movie_id'].isin(movie_list)]"
   ]
  },
  {
   "cell_type": "markdown",
   "id": "7ee4a1b8",
   "metadata": {},
   "source": [
    "- 더티 댄싱의 경우에도 잘 추천된듯 하다!"
   ]
  },
  {
   "cell_type": "markdown",
   "id": "500eae3e",
   "metadata": {},
   "source": [
    "## 회고\n",
    "- 이번 추천 시스템 과제를 진행하면서 영화에 대한 전반적인 지식이 없다보니 진행은 하고 있지만, 진행이 제대로 되는지 판단하는데 약간 아쉬움이 느껴졌다.\n",
    "- 인어공주나, 토이스토릴 선호 영화로 선택을하고, 라이온킹과, 알라딘이 나온거보면 제대로 진행은 된듯하다.\n",
    "\n",
    "- 추천시스템은 도메인에 대한 지식도 잘 숙지해야하고, 추가적으로 데이터를 어떤식으로 분류하고 기준을 어떻게 세우는 것이 중요한 문제라고 생각이 든다.\n",
    "\n",
    "- 처음에는 모델을 다루기에 급급했다면, 이제는 모델을 다루기전 데이터를 어떻게 다루는가를 좀더 생각하게되는 과제였다."
   ]
  }
 ],
 "metadata": {
  "kernelspec": {
   "display_name": "Python 3 (ipykernel)",
   "language": "python",
   "name": "python3"
  },
  "language_info": {
   "codemirror_mode": {
    "name": "ipython",
    "version": 3
   },
   "file_extension": ".py",
   "mimetype": "text/x-python",
   "name": "python",
   "nbconvert_exporter": "python",
   "pygments_lexer": "ipython3",
   "version": "3.9.7"
  }
 },
 "nbformat": 4,
 "nbformat_minor": 5
}
