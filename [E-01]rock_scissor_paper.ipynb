{
 "cells": [
  {
   "cell_type": "code",
   "execution_count": 15,
   "id": "594d1524",
   "metadata": {},
   "outputs": [],
   "source": [
    "from PIL import Image\n",
    "import glob\n",
    "import os\n",
    "import numpy as np\n",
    "\n",
    "import tensorflow as tf\n",
    "from tensorflow import keras"
   ]
  },
  {
   "cell_type": "markdown",
   "id": "66f01242",
   "metadata": {},
   "source": [
    "## 모델 변수 설정"
   ]
  },
  {
   "cell_type": "code",
   "execution_count": 77,
   "id": "db8ba952",
   "metadata": {},
   "outputs": [],
   "source": [
    "# 리사이즈 변수\n",
    "resize_num = 112\n",
    "\n",
    "# 모델 설계 변수 설정\n",
    "Conv2D_1 = 64\n",
    "Conv2D_2 = 128\n",
    "Conv2D_3 = 512\n",
    "dense = 256\n",
    "\n",
    "kernel_size = (3,3)\n",
    "maxpool_size = (2,2)\n",
    "\n",
    "# 모델 학습 변수 설정\n",
    "epochs_nums = 20"
   ]
  },
  {
   "cell_type": "markdown",
   "id": "f81efa1d",
   "metadata": {},
   "source": [
    "### 파일 리사이즈 하는 함수"
   ]
  },
  {
   "cell_type": "code",
   "execution_count": 53,
   "id": "8c84b015",
   "metadata": {
    "scrolled": true
   },
   "outputs": [
    {
     "name": "stdout",
     "output_type": "stream",
     "text": [
      "100  images to be resized.\n",
      "100  images resized.\n",
      "가위 이미지 resize 완료!\n",
      "100  images to be resized.\n",
      "100  images resized.\n",
      "바위 이미지 resize 완료!\n",
      "100  images to be resized.\n",
      "100  images resized.\n",
      "보 이미지 resize 완료!\n",
      "300\n",
      "100  images to be resized.\n",
      "100  images resized.\n",
      "가위 이미지 resize 완료!\n",
      "100  images to be resized.\n",
      "100  images resized.\n",
      "바위 이미지 resize 완료!\n",
      "100  images to be resized.\n",
      "100  images resized.\n",
      "보 이미지 resize 완료!\n",
      "300\n"
     ]
    }
   ],
   "source": [
    " # 파일 리사이즈 하는 함수\n",
    "def resize_images(img_path, resize_number):\n",
    "    images=glob.glob(img_path + \"/*.jpg\")  \n",
    "    \n",
    "    print(len(images), \" images to be resized.\")\n",
    "\n",
    "    # 파일마다 모두 28x28 사이즈로 바꾸어 저장합니다.\n",
    "    target_size=(resize_number, resize_number)\n",
    "    save_path = img_path + \"/resize\" + str(resize_number)\n",
    "    \n",
    "    if not os.path.exists(save_path):\n",
    "        os.mkdir(save_path)\n",
    "    \n",
    "    for img in images:\n",
    "        old_img=Image.open(img)\n",
    "        new_img=old_img.resize(target_size,Image.ANTIALIAS)\n",
    "        new_img.save(save_path + \"/\" + img.split(\"/\")[-1], \"JPEG\")\n",
    "    \n",
    "    print(len(images), \" images resized.\")\n",
    "    \n",
    "    return len(images)\n",
    "\n",
    "# /aiffel/바꿀폴더/scissor or rock or paper 바꾸기\n",
    "image_dir_path = os.getenv(\"HOME\") + \"/aiffel/aiffel_rsp/scissor\"\n",
    "image_count = 0;\n",
    "\n",
    "image_count += resize_images(image_dir_path, resize_num)\n",
    "print(\"가위 이미지 resize 완료!\")\n",
    "\n",
    "image_dir_path = os.getenv(\"HOME\") + \"/aiffel/aiffel_rsp/rock\"\n",
    "image_count += resize_images(image_dir_path, resize_num)\n",
    "print(\"바위 이미지 resize 완료!\")\n",
    "\n",
    "image_dir_path = os.getenv(\"HOME\") + \"/aiffel/aiffel_rsp/paper\"\n",
    "image_count += resize_images(image_dir_path, resize_num)\n",
    "print(\"보 이미지 resize 완료!\")\n",
    "\n",
    "print(image_count)\n",
    "\n",
    "# test set\n",
    "image_dir_path = os.getenv(\"HOME\") + \"/aiffel/aiffel_rsp/test/scissor\"\n",
    "image_count = 0;\n",
    "\n",
    "image_count += resize_images(image_dir_path, resize_num)\n",
    "print(\"가위 이미지 resize 완료!\")\n",
    "\n",
    "image_dir_path = os.getenv(\"HOME\") + \"/aiffel/aiffel_rsp/test/rock\"\n",
    "image_count += resize_images(image_dir_path, resize_num)\n",
    "print(\"바위 이미지 resize 완료!\")\n",
    "\n",
    "image_dir_path = os.getenv(\"HOME\") + \"/aiffel/aiffel_rsp/test/paper\"\n",
    "image_count += resize_images(image_dir_path, resize_num)\n",
    "print(\"보 이미지 resize 완료!\")\n",
    "\n",
    "print(image_count)"
   ]
  },
  {
   "cell_type": "markdown",
   "id": "bac2532c",
   "metadata": {},
   "source": [
    "### 이미지 부풀리기"
   ]
  },
  {
   "cell_type": "code",
   "execution_count": 54,
   "id": "a81541c8",
   "metadata": {
    "scrolled": true
   },
   "outputs": [
    {
     "name": "stdout",
     "output_type": "stream",
     "text": [
      "가위 부풀리기 완료!\n",
      "바위 부풀리기 완료!\n",
      "보 부풀리기 완료!\n",
      "300\n"
     ]
    }
   ],
   "source": [
    "def image_generator (img_path):\n",
    "    \n",
    "    save_path = img_path\n",
    "    images=glob.glob(img_path + \"/*.jpg\")\n",
    "        \n",
    "    count = 0\n",
    "    \n",
    "    for img in images:\n",
    "        old_img = Image.open(img)\n",
    "        new_img = old_img.transpose(Image.FLIP_LEFT_RIGHT)\n",
    "        new_img.save(save_path + \"/\" + str(len(images)) + str(count) + \".jpg\", \"JPEG\")\n",
    "        count += 1\n",
    "        \n",
    "    for img in images:\n",
    "        old_img = Image.open(img)\n",
    "        new_img = old_img.transpose(Image.FLIP_TOP_BOTTOM)\n",
    "        new_img.save(save_path + \"/\" + str(len(images)) + str(count) + \".jpg\", \"JPEG\")\n",
    "        count += 1\n",
    "\n",
    "\n",
    "# 이미지 경로\n",
    "image_dir_path = os.getenv(\"HOME\") + \"/aiffel/aiffel_rsp/scissor/resize112\"\n",
    "image_generator(image_dir_path)\n",
    "print(\"가위 부풀리기 완료!\")\n",
    "\n",
    "image_dir_path = os.getenv(\"HOME\") + \"/aiffel/aiffel_rsp/rock/resize112\"\n",
    "image_generator(image_dir_path)\n",
    "print(\"바위 부풀리기 완료!\")\n",
    "\n",
    "image_dir_path = os.getenv(\"HOME\") + \"/aiffel/aiffel_rsp/paper/resize112\"\n",
    "image_generator(image_dir_path)\n",
    "print(\"보 부풀리기 완료!\")"
   ]
  },
  {
   "cell_type": "code",
   "execution_count": 60,
   "id": "fc804890",
   "metadata": {},
   "outputs": [
    {
     "name": "stdout",
     "output_type": "stream",
     "text": [
      "900\n"
     ]
    }
   ],
   "source": [
    "image_count = 0;\n",
    "\n",
    "image_dir_path = os.getenv(\"HOME\") + \"/aiffel/aiffel_rsp/scissor/resize112\"\n",
    "images=glob.glob(image_dir_path + \"/*.jpg\")\n",
    "image_count += len(images)\n",
    "\n",
    "image_dir_path = os.getenv(\"HOME\") + \"/aiffel/aiffel_rsp/rock/resize112\"\n",
    "images=glob.glob(image_dir_path + \"/*.jpg\")\n",
    "image_count += len(images)\n",
    "\n",
    "image_dir_path = os.getenv(\"HOME\") + \"/aiffel/aiffel_rsp/paper/resize112\"\n",
    "images=glob.glob(image_dir_path + \"/*.jpg\")\n",
    "image_count += len(images)\n",
    "\n",
    "print(image_count)"
   ]
  },
  {
   "cell_type": "markdown",
   "id": "becb258b",
   "metadata": {},
   "source": [
    "### 이미지 라벨링 하는 함수\n",
    "### 가위 0, 바위 1, 보 2"
   ]
  },
  {
   "cell_type": "code",
   "execution_count": 61,
   "id": "8aac04ab",
   "metadata": {
    "scrolled": false
   },
   "outputs": [
    {
     "name": "stdout",
     "output_type": "stream",
     "text": [
      "/aiffel/aiffel/aiffel_rsp/scissor/resize112/*.jpg\n",
      "학습데이터(x_train)의 이미지 개수는 900 입니다.\n",
      "x_train shape: (900, 112, 112, 3)\n",
      "y_train shape: (900,)\n"
     ]
    }
   ],
   "source": [
    "# 이미지 라벨링 하는 함수\n",
    "def load_data(img_path, number_of_data, param_img_size):  # 가위바위보 이미지 개수 총합에 주의하세요.\n",
    "    # 가위 : 0, 바위 : 1, 보 : 2\n",
    "    img_size=param_img_size\n",
    "    color=3\n",
    "    #이미지 데이터와 라벨(가위 : 0, 바위 : 1, 보 : 2) 데이터를 담을 행렬(matrix) 영역을 생성합니다.\n",
    "    imgs=np.zeros(number_of_data*img_size*img_size*color,dtype=np.int32).reshape(number_of_data,img_size,img_size,color)\n",
    "    labels=np.zeros(number_of_data,dtype=np.int32)\n",
    "\n",
    "    print(img_path + '/scissor/resize' + str(img_size) + '/*.jpg')\n",
    "    \n",
    "    idx=0\n",
    "    for file in glob.iglob(img_path + '/scissor/resize' + str(img_size) + '/*.jpg'):\n",
    "        img = np.array(Image.open(file),dtype=np.int32)\n",
    "        imgs[idx,:,:,:]=img    # 데이터 영역에 이미지 행렬을 복사\n",
    "        labels[idx]=0   # 가위 : 0\n",
    "        idx=idx+1\n",
    "\n",
    "    for file in glob.iglob(img_path+'/rock/resize' + str(img_size) + '/*.jpg'):\n",
    "        img = np.array(Image.open(file),dtype=np.int32)\n",
    "        imgs[idx,:,:,:]=img    # 데이터 영역에 이미지 행렬을 복사\n",
    "        labels[idx]=1   # 바위 : 1\n",
    "        idx=idx+1  \n",
    "    \n",
    "    for file in glob.iglob(img_path+'/paper/resize' + str(img_size) + '/*.jpg'):\n",
    "        img = np.array(Image.open(file),dtype=np.int32)\n",
    "        imgs[idx,:,:,:]=img    # 데이터 영역에 이미지 행렬을 복사\n",
    "        labels[idx]=2   # 보 : 2\n",
    "        idx=idx+1\n",
    "        \n",
    "    print(\"학습데이터(x_train)의 이미지 개수는\", idx,\"입니다.\")\n",
    "    return imgs, labels\n",
    "\n",
    "# /aiffel/바꿔야하는 폴더\n",
    "image_dir_path = os.getenv(\"HOME\") + \"/aiffel/aiffel_rsp\"\n",
    "(x_train, y_train)=load_data(image_dir_path,image_count, resize_num)\n",
    "x_train_norm = x_train/255.0   # 입력은 0~1 사이의 값으로 정규화\n",
    "\n",
    "print(\"x_train shape: {}\".format(x_train.shape))\n",
    "print(\"y_train shape: {}\".format(y_train.shape))"
   ]
  },
  {
   "cell_type": "markdown",
   "id": "81df587c",
   "metadata": {},
   "source": [
    "### 모델 설계"
   ]
  },
  {
   "cell_type": "code",
   "execution_count": 79,
   "id": "7a6988ca",
   "metadata": {},
   "outputs": [
    {
     "name": "stdout",
     "output_type": "stream",
     "text": [
      "Model에 추가된 Layer 개수:  9\n",
      "Model: \"sequential_9\"\n",
      "_________________________________________________________________\n",
      "Layer (type)                 Output Shape              Param #   \n",
      "=================================================================\n",
      "conv2d_24 (Conv2D)           (None, 110, 110, 64)      1792      \n",
      "_________________________________________________________________\n",
      "max_pooling2d_24 (MaxPooling (None, 55, 55, 64)        0         \n",
      "_________________________________________________________________\n",
      "conv2d_25 (Conv2D)           (None, 53, 53, 128)       73856     \n",
      "_________________________________________________________________\n",
      "max_pooling2d_25 (MaxPooling (None, 26, 26, 128)       0         \n",
      "_________________________________________________________________\n",
      "conv2d_26 (Conv2D)           (None, 24, 24, 512)       590336    \n",
      "_________________________________________________________________\n",
      "max_pooling2d_26 (MaxPooling (None, 12, 12, 512)       0         \n",
      "_________________________________________________________________\n",
      "flatten_9 (Flatten)          (None, 73728)             0         \n",
      "_________________________________________________________________\n",
      "dense_18 (Dense)             (None, 256)               18874624  \n",
      "_________________________________________________________________\n",
      "dense_19 (Dense)             (None, 3)                 771       \n",
      "=================================================================\n",
      "Total params: 19,541,379\n",
      "Trainable params: 19,541,379\n",
      "Non-trainable params: 0\n",
      "_________________________________________________________________\n"
     ]
    }
   ],
   "source": [
    "# model을 직접 만들어 보세요.\n",
    "# Hint! model의 입력/출력부에 특히 유의해 주세요. 가위바위보 데이터셋은 MNIST 데이터셋과 어떤 점이 달라졌나요?\n",
    "\n",
    "model=keras.models.Sequential()\n",
    "model.add(keras.layers.Conv2D(Conv2D_1, kernel_size, activation='relu', input_shape=(resize_num,resize_num,3)))\n",
    "model.add(keras.layers.MaxPool2D(maxpool_size))\n",
    "model.add(keras.layers.Conv2D(Conv2D_2, kernel_size, activation='relu'))\n",
    "model.add(keras.layers.MaxPooling2D(maxpool_size))\n",
    "model.add(keras.layers.Conv2D(Conv2D_3, kernel_size, activation='relu'))\n",
    "model.add(keras.layers.MaxPooling2D(maxpool_size))\n",
    "model.add(keras.layers.Flatten())\n",
    "model.add(keras.layers.Dense(dense, activation='relu'))\n",
    "model.add(keras.layers.Dense(3, activation='softmax'))\n",
    "\n",
    "print('Model에 추가된 Layer 개수: ', len(model.layers))\n",
    "\n",
    "# 모델 요약\n",
    "model.summary()"
   ]
  },
  {
   "cell_type": "markdown",
   "id": "ac039925",
   "metadata": {},
   "source": [
    "### 모델 학습"
   ]
  },
  {
   "cell_type": "code",
   "execution_count": 80,
   "id": "111754a9",
   "metadata": {},
   "outputs": [
    {
     "name": "stdout",
     "output_type": "stream",
     "text": [
      "Epoch 1/20\n",
      "29/29 [==============================] - 2s 35ms/step - loss: 62.7510 - accuracy: 0.3233\n",
      "Epoch 2/20\n",
      "29/29 [==============================] - 1s 28ms/step - loss: 1.0939 - accuracy: 0.3500\n",
      "Epoch 3/20\n",
      "29/29 [==============================] - 1s 28ms/step - loss: 1.0695 - accuracy: 0.4667\n",
      "Epoch 4/20\n",
      "29/29 [==============================] - 1s 28ms/step - loss: 1.0207 - accuracy: 0.5467\n",
      "Epoch 5/20\n",
      "29/29 [==============================] - 1s 28ms/step - loss: 0.9812 - accuracy: 0.5100\n",
      "Epoch 6/20\n",
      "29/29 [==============================] - 1s 28ms/step - loss: 0.8568 - accuracy: 0.5889\n",
      "Epoch 7/20\n",
      "29/29 [==============================] - 1s 28ms/step - loss: 0.7215 - accuracy: 0.6700\n",
      "Epoch 8/20\n",
      "29/29 [==============================] - 1s 28ms/step - loss: 0.6175 - accuracy: 0.7467\n",
      "Epoch 9/20\n",
      "29/29 [==============================] - 1s 28ms/step - loss: 0.6618 - accuracy: 0.7300\n",
      "Epoch 10/20\n",
      "29/29 [==============================] - 1s 28ms/step - loss: 0.5294 - accuracy: 0.7900\n",
      "Epoch 11/20\n",
      "29/29 [==============================] - 1s 28ms/step - loss: 0.3878 - accuracy: 0.8400\n",
      "Epoch 12/20\n",
      "29/29 [==============================] - 1s 28ms/step - loss: 0.2682 - accuracy: 0.8978\n",
      "Epoch 13/20\n",
      "29/29 [==============================] - 1s 28ms/step - loss: 0.1210 - accuracy: 0.9589\n",
      "Epoch 14/20\n",
      "29/29 [==============================] - 1s 28ms/step - loss: 0.1039 - accuracy: 0.9633 0s - loss: 0.1\n",
      "Epoch 15/20\n",
      "29/29 [==============================] - 1s 28ms/step - loss: 0.1472 - accuracy: 0.9622\n",
      "Epoch 16/20\n",
      "29/29 [==============================] - 1s 28ms/step - loss: 0.1351 - accuracy: 0.9556\n",
      "Epoch 17/20\n",
      "29/29 [==============================] - 1s 28ms/step - loss: 0.1205 - accuracy: 0.9522\n",
      "Epoch 18/20\n",
      "29/29 [==============================] - 1s 28ms/step - loss: 0.0524 - accuracy: 0.9833\n",
      "Epoch 19/20\n",
      "29/29 [==============================] - 1s 28ms/step - loss: 0.0840 - accuracy: 0.9667\n",
      "Epoch 20/20\n",
      "29/29 [==============================] - 1s 28ms/step - loss: 0.0655 - accuracy: 0.9789\n"
     ]
    },
    {
     "data": {
      "text/plain": [
       "<keras.callbacks.History at 0x7f8f235ef430>"
      ]
     },
     "execution_count": 80,
     "metadata": {},
     "output_type": "execute_result"
    }
   ],
   "source": [
    "# model을 학습시키는 코드를 직접 작성해 보세요.\n",
    "# Hint! model.compile()과 model.fit()을 사용해 봅시다.\n",
    "model.compile(optimizer='adam',\n",
    "             loss='sparse_categorical_crossentropy',\n",
    "             metrics=['accuracy'])\n",
    "\n",
    "model.fit(x_train, y_train, epochs=epochs_nums)"
   ]
  },
  {
   "cell_type": "markdown",
   "id": "8ae8d39c",
   "metadata": {},
   "source": [
    "### 트레이닝 셋 만들기"
   ]
  },
  {
   "cell_type": "code",
   "execution_count": 68,
   "id": "402ecb4a",
   "metadata": {
    "scrolled": true
   },
   "outputs": [
    {
     "name": "stdout",
     "output_type": "stream",
     "text": [
      "/aiffel/aiffel/aiffel_rsp/test\n",
      "/aiffel/aiffel/aiffel_rsp/test/scissor/resize112/*.jpg\n",
      "학습데이터(x_train)의 이미지 개수는 300 입니다.\n",
      "x_test shape: (300, 112, 112, 3)\n",
      "y_test shape: (300,)\n"
     ]
    }
   ],
   "source": [
    "# x_test, y_test를 만드는 방법은 x_train, y_train을 만드는 방법과 아주 유사합니다.\n",
    "\n",
    "image_dir_path = os.getenv(\"HOME\") + \"/aiffel/aiffel_rsp/test\"\n",
    "print(image_dir_path)\n",
    "(x_test, y_test)=load_data(image_dir_path, 300, resize_num)\n",
    "x_test_norm = x_train/255.0   # 입력은 0~1 사이의 값으로 정규화\n",
    "\n",
    "print(\"x_test shape: {}\".format(x_test.shape))\n",
    "print(\"y_test shape: {}\".format(y_test.shape))"
   ]
  },
  {
   "cell_type": "markdown",
   "id": "f3d80432",
   "metadata": {},
   "source": [
    "### 테스트 결과"
   ]
  },
  {
   "cell_type": "code",
   "execution_count": 81,
   "id": "e42c15ee",
   "metadata": {
    "scrolled": true
   },
   "outputs": [
    {
     "name": "stdout",
     "output_type": "stream",
     "text": [
      "10/10 - 0s - loss: 3.0801 - accuracy: 0.7600\n",
      "test_loss: 3.0801265239715576 \n",
      "test_accuracy: 0.7599999904632568\n"
     ]
    }
   ],
   "source": [
    "# model을 학습시키는 코드를 직접 작성해 보세요.\n",
    "# Hint! model.evaluate()을 사용해 봅시다.\n",
    "test_loss, test_accuracy = model.evaluate(x_test,y_test, verbose=2)\n",
    "print(\"test_loss: {} \".format(test_loss))\n",
    "print(\"test_accuracy: {}\".format(test_accuracy))"
   ]
  },
  {
   "cell_type": "code",
   "execution_count": 93,
   "id": "076fd591",
   "metadata": {},
   "outputs": [
    {
     "name": "stdout",
     "output_type": "stream",
     "text": [
      "예측확률분포: [4.6363512e-01 1.8406344e-12 5.3636491e-01]\n",
      "라벨: 0, 예측결과: 2\n",
      "예측확률분포: [1.8605009e-02 6.1053827e-12 9.8139495e-01]\n",
      "라벨: 0, 예측결과: 2\n",
      "예측확률분포: [4.2429030e-01 2.9905259e-17 5.7570964e-01]\n",
      "라벨: 0, 예측결과: 2\n",
      "예측확률분포: [2.3730168e-02 1.4963361e-16 9.7626978e-01]\n",
      "라벨: 0, 예측결과: 2\n",
      "예측확률분포: [1.0687573e-06 3.2899392e-34 9.9999893e-01]\n",
      "라벨: 0, 예측결과: 2\n",
      "예측확률분포: [2.0445584e-01 3.4525011e-13 7.9554415e-01]\n",
      "라벨: 0, 예측결과: 2\n",
      "예측확률분포: [2.2061105e-01 5.3844554e-13 7.7938896e-01]\n",
      "라벨: 0, 예측결과: 2\n",
      "예측확률분포: [5.6490112e-06 1.5277713e-17 9.9999440e-01]\n",
      "라벨: 0, 예측결과: 2\n",
      "예측확률분포: [7.102432e-02 4.650432e-17 9.289757e-01]\n",
      "라벨: 0, 예측결과: 2\n",
      "예측확률분포: [1.0418311e-05 0.0000000e+00 9.9998963e-01]\n",
      "라벨: 0, 예측결과: 2\n",
      "예측확률분포: [0.25290155 0.         0.74709845]\n",
      "라벨: 0, 예측결과: 2\n",
      "예측확률분포: [1.0507248e-01 6.2589997e-17 8.9492744e-01]\n",
      "라벨: 0, 예측결과: 2\n",
      "예측확률분포: [4.0247562e-04 2.3236551e-15 9.9959749e-01]\n",
      "라벨: 0, 예측결과: 2\n",
      "예측확률분포: [2.8545477e-05 2.9913863e-35 9.9997151e-01]\n",
      "라벨: 0, 예측결과: 2\n",
      "예측확률분포: [9.5107220e-07 8.9999513e-37 9.9999905e-01]\n",
      "라벨: 0, 예측결과: 2\n",
      "예측확률분포: [1.2264265e-04 0.0000000e+00 9.9987733e-01]\n",
      "라벨: 0, 예측결과: 2\n",
      "예측확률분포: [5.4364544e-05 0.0000000e+00 9.9994564e-01]\n",
      "라벨: 0, 예측결과: 2\n",
      "예측확률분포: [1.4321514e-02 4.1448875e-18 9.8567849e-01]\n",
      "라벨: 0, 예측결과: 2\n",
      "예측확률분포: [4.3291014e-04 7.0544563e-14 9.9956709e-01]\n",
      "라벨: 0, 예측결과: 2\n",
      "예측확률분포: [7.8304112e-02 1.1681547e-15 9.2169589e-01]\n",
      "라벨: 0, 예측결과: 2\n",
      "예측확률분포: [0.0239005 0.        0.9760995]\n",
      "라벨: 0, 예측결과: 2\n",
      "예측확률분포: [4.3677683e-03 6.6664579e-16 9.9563223e-01]\n",
      "라벨: 0, 예측결과: 2\n",
      "예측확률분포: [2.4526065e-02 7.2937729e-29 9.7547400e-01]\n",
      "라벨: 0, 예측결과: 2\n",
      "예측확률분포: [3.4821267e-12 1.0438298e-02 9.8956174e-01]\n",
      "라벨: 1, 예측결과: 2\n",
      "예측확률분포: [3.4749004e-04 3.3942743e-10 9.9965250e-01]\n",
      "라벨: 1, 예측결과: 2\n",
      "예측확률분포: [3.4606418e-09 2.6583078e-07 9.9999976e-01]\n",
      "라벨: 1, 예측결과: 2\n",
      "예측확률분포: [1.6514218e-01 9.7739183e-05 8.3476007e-01]\n",
      "라벨: 1, 예측결과: 2\n",
      "예측확률분포: [1.2741047e-05 3.9861921e-18 9.9998724e-01]\n",
      "라벨: 1, 예측결과: 2\n",
      "예측확률분포: [9.7181047e-15 5.9898646e-09 1.0000000e+00]\n",
      "라벨: 1, 예측결과: 2\n",
      "예측확률분포: [3.0083206e-12 4.8556289e-05 9.9995148e-01]\n",
      "라벨: 1, 예측결과: 2\n",
      "예측확률분포: [9.8828755e-15 9.9151030e-06 9.9999011e-01]\n",
      "라벨: 1, 예측결과: 2\n",
      "예측확률분포: [1.6124676e-27 6.1739723e-16 1.0000000e+00]\n",
      "라벨: 1, 예측결과: 2\n",
      "예측확률분포: [6.4482936e-20 4.8372303e-06 9.9999511e-01]\n",
      "라벨: 1, 예측결과: 2\n",
      "예측확률분포: [2.1537357e-06 5.0365518e-08 9.9999785e-01]\n",
      "라벨: 1, 예측결과: 2\n",
      "예측확률분포: [4.4399622e-16 2.5509744e-12 1.0000000e+00]\n",
      "라벨: 1, 예측결과: 2\n",
      "예측확률분포: [2.0686472e-29 5.8534692e-19 1.0000000e+00]\n",
      "라벨: 1, 예측결과: 2\n",
      "예측확률분포: [9.9787486e-01 8.7788976e-08 2.1250690e-03]\n",
      "라벨: 1, 예측결과: 0\n",
      "예측확률분포: [4.8234194e-10 1.2198035e-20 1.0000000e+00]\n",
      "라벨: 1, 예측결과: 2\n",
      "예측확률분포: [2.4130934e-12 3.5569078e-04 9.9964428e-01]\n",
      "라벨: 1, 예측결과: 2\n",
      "예측확률분포: [9.9926871e-01 4.6026884e-08 7.3124439e-04]\n",
      "라벨: 1, 예측결과: 0\n",
      "예측확률분포: [7.49940388e-11 1.20584766e-04 9.99879360e-01]\n",
      "라벨: 1, 예측결과: 2\n",
      "예측확률분포: [9.0526646e-17 2.9780303e-09 1.0000000e+00]\n",
      "라벨: 1, 예측결과: 2\n",
      "예측확률분포: [9.6445661e-03 6.5948376e-07 9.9035478e-01]\n",
      "라벨: 1, 예측결과: 2\n",
      "예측확률분포: [3.4026544e-07 4.9582310e-04 9.9950385e-01]\n",
      "라벨: 1, 예측결과: 2\n",
      "예측확률분포: [2.0262550e-11 9.5345422e-07 9.9999905e-01]\n",
      "라벨: 1, 예측결과: 2\n",
      "예측확률분포: [3.8410883e-04 3.9304808e-01 6.0656780e-01]\n",
      "라벨: 1, 예측결과: 2\n",
      "예측확률분포: [1.8699694e-32 1.2858622e-17 1.0000000e+00]\n",
      "라벨: 1, 예측결과: 2\n",
      "예측확률분포: [5.9199143e-09 8.9258784e-03 9.9107414e-01]\n",
      "라벨: 1, 예측결과: 2\n",
      "예측확률분포: [2.1703798e-23 3.5965093e-09 1.0000000e+00]\n",
      "라벨: 1, 예측결과: 2\n",
      "예측확률분포: [1.3677366e-09 1.0000000e+00 1.1480643e-14]\n",
      "라벨: 2, 예측결과: 1\n",
      "예측확률분포: [1.2332023e-06 7.3084831e-01 2.6915050e-01]\n",
      "라벨: 2, 예측결과: 1\n",
      "예측확률분포: [2.0296743e-13 1.0000000e+00 2.3601045e-18]\n",
      "라벨: 2, 예측결과: 1\n",
      "예측확률분포: [9.9996924e-01 1.8751449e-09 3.0753243e-05]\n",
      "라벨: 2, 예측결과: 0\n",
      "예측확률분포: [9.9989045e-01 6.1325312e-07 1.0892925e-04]\n",
      "라벨: 2, 예측결과: 0\n",
      "예측확률분포: [1.0000000e+00 2.8107587e-16 1.9011168e-10]\n",
      "라벨: 2, 예측결과: 0\n",
      "예측확률분포: [9.9999785e-01 5.9289552e-11 2.1959336e-06]\n",
      "라벨: 2, 예측결과: 0\n",
      "예측확률분포: [9.912117e-01 6.142774e-09 8.788229e-03]\n",
      "라벨: 2, 예측결과: 0\n",
      "예측확률분포: [9.6008080e-01 2.1848614e-04 3.9700668e-02]\n",
      "라벨: 2, 예측결과: 0\n",
      "예측확률분포: [1.0000000e+00 4.9843224e-13 7.2617952e-09]\n",
      "라벨: 2, 예측결과: 0\n",
      "예측확률분포: [9.9997973e-01 9.5632435e-09 2.0324229e-05]\n",
      "라벨: 2, 예측결과: 0\n",
      "예측확률분포: [3.5775743e-06 9.9999642e-01 1.9478183e-08]\n",
      "라벨: 2, 예측결과: 1\n",
      "예측확률분포: [7.3549766e-10 1.0000000e+00 1.1213807e-12]\n",
      "라벨: 2, 예측결과: 1\n",
      "예측확률분포: [9.9998629e-01 6.7957329e-09 1.3667388e-05]\n",
      "라벨: 2, 예측결과: 0\n",
      "예측확률분포: [1.3951687e-08 9.9935955e-01 6.4051355e-04]\n",
      "라벨: 2, 예측결과: 1\n",
      "예측확률분포: [1.0000000e+00 4.0083285e-15 2.2376502e-10]\n",
      "라벨: 2, 예측결과: 0\n",
      "예측확률분포: [9.5747119e-01 1.8327539e-04 4.2345483e-02]\n",
      "라벨: 2, 예측결과: 0\n",
      "예측확률분포: [6.4460132e-10 9.9999106e-01 8.9156601e-06]\n",
      "라벨: 2, 예측결과: 1\n",
      "예측확률분포: [5.708732e-10 9.999919e-01 8.059199e-06]\n",
      "라벨: 2, 예측결과: 1\n",
      "예측확률분포: [9.9962413e-01 9.7722959e-09 3.7583968e-04]\n",
      "라벨: 2, 예측결과: 0\n",
      "예측확률분포: [2.5827950e-08 9.9978906e-01 2.1100535e-04]\n",
      "라벨: 2, 예측결과: 1\n",
      "예측확률분포: [9.9999154e-01 2.9376046e-10 8.4616058e-06]\n",
      "라벨: 2, 예측결과: 0\n",
      "예측확률분포: [5.2257955e-01 6.7596152e-06 4.7741362e-01]\n",
      "라벨: 2, 예측결과: 0\n",
      "가위 : 23, 바위 : 26, 보 : 23\n"
     ]
    }
   ],
   "source": [
    "predicted_result = model.predict(x_test)  # model이 추론한 확률값. \n",
    "predicted_labels = np.argmax(predicted_result, axis=1)\n",
    "\n",
    "wrong_predict_list=[]\n",
    "for i, _ in enumerate(predicted_labels):\n",
    "    if predicted_labels[i] != y_test[i]:\n",
    "        wrong_predict_list.append(i)\n",
    "\n",
    "zero_count = 0\n",
    "one_count = 0\n",
    "two_count = 0\n",
    "\n",
    "for n in wrong_predict_list:\n",
    "    print(\"예측확률분포: \" + str(predicted_result[n]))\n",
    "    print(\"라벨: \" + str(y_test[n]) + \", 예측결과: \" + str(predicted_labels[n]))\n",
    "    if str(y_test[n]) == '0' :\n",
    "        zero_count += 1\n",
    "    elif str(y_test[n]) == '1':\n",
    "        one_count += 1\n",
    "    elif str(y_test[n]) == '2':\n",
    "        two_count += 1\n",
    "        \n",
    "print(\"가위 : \" + str(zero_count) + \", 바위 : \" + str(one_count) + \", 보 : \" + str(two_count))"
   ]
  },
  {
   "cell_type": "markdown",
   "id": "5305813b",
   "metadata": {},
   "source": [
    "### 테스트 기록"
   ]
  },
  {
   "cell_type": "markdown",
   "id": "9aef1632",
   "metadata": {},
   "source": [
    "### 1. 이미지 개수 300, 이미지 사이즈 28, Conv2D(64,128,256), Dense(128), epoch=10\n",
    "train accuracy = 0.84\n",
    "test accuracy : 0.54\n",
    "\n",
    "### 2. 이미지 개수 300, 이미지 사이즈 56, Conv2D(64,128,256), Dense(128), epoch=10\n",
    "train accuracy = 0.99\n",
    "test accuracy : 0.43\n",
    "\n",
    "### 3. 이미지 개수 300, 이미지 사이즈 112, Conv2D(64,128,256), Dense(128), epoch=10\n",
    "train accuracy = 0.72\n",
    "test accuracy : 0.31\n",
    "\n",
    "이미지가 커지면서 정확도가 증가할줄 알았는데, 사이즈를 늘릴때 줄어든거보니 epoch이 부족했던건 아닐까 생각이 들어 늘려보았다\n",
    "\n",
    "### 4. 이미지 개수 300, 이미지 사이즈 112, Conv2D(64,128,256), Dense(128), epoch=15\n",
    "train accuracy = 0.98\n",
    "test accuracy : 0.36\n",
    "\n",
    "### 5. 이미지 개수 300, 이미지 사이즈 112, Conv2D(64,128,256), Dense(128), epoch=20\n",
    "train accuracy = 1\n",
    "test accuracy : 0.37\n",
    "\n",
    "학습을 하는 중간에 1을 달성하는것을 보니 무작정 epoch를 늘리는것은 또 좋지 않은듯하다.\n",
    "이미지 사이즈 112, epoch는 20으로 고정하고 하이퍼 파라미터를 늘려보았다.\n",
    "\n",
    "### 6. 이미지 개수 300, 이미지 사이즈 112, Conv2D(128,256,512), Dense(128), epoch=20\n",
    "train accuracy = 0.98\n",
    "test accuracy : 0.45\n",
    "\n",
    "### 7. 이미지 개수 300, 이미지 사이즈 112, Conv2D(128,256,512), Dense(256), epoch=20\n",
    "train accuracy = 0.97\n",
    "test accuracy : 0.51\n",
    "\n",
    "커널 사이즈를 변경해볼까?\n",
    "kernel_size = (3,3) -> (4,4)\n",
    "maxpool_size = (2,2) -> (3,3)\n",
    "\n",
    "### 8. 이미지 개수 300, 이미지 사이즈 112, Conv2D(128,256,512), Dense(256), epoch=20\n",
    "train accuracy = 0.97\n",
    "test accuracy : 0.37\n",
    "\n",
    "커널 사이즈 변경은 아직인듯 하다. 다시 kernel_size = (3,3) maxpool_size = (2,2)으로 변경\n",
    "이미지의 갯수가 좀 부족한가?\n",
    "Image의 내장함수인 transpose로 좌우, 상하 반전을 시켜서 이미지 증가\n",
    "\n",
    "### 9. 이미지 개수 900, 이미지 사이즈 112, Conv2D(128,256,512), Dense(256), epoch=20\n",
    "train accuracy = 0.97\n",
    "test accuracy : 0.75"
   ]
  },
  {
   "cell_type": "markdown",
   "id": "234a2319",
   "metadata": {},
   "source": [
    "### 회고록"
   ]
  },
  {
   "cell_type": "markdown",
   "id": "38e52b9a",
   "metadata": {},
   "source": [
    "처음 시작할때는 팀원들의 데이터를 받아서 진행을 했었다.   \n",
    "내 이미지로 학습을 한다음에 팀원들의 이미지로 테스트를 해보니 학습 정확도는 높은데 테스트 정확도가 낮게 나왔다.  \n",
    "데이터를 살펴보니 손이 정확하게 구별이 안되게 배경에 옷이나 얼굴이 포함된 데이터가 몇몇 있어서, 구별을 잘 못하나 생각을 했었다.  \n",
    "그래서 웹캠이 없을때 자료를 준다는 lms 글이 생각나서 일단 그 자료를 사용해 보기로 했다.  \n",
    "매번 사이즈를 바꿀때마다 원본이 덮어 씌어지는게 안좋은듯해서 원본 데이터와 resize한 사진을 분리했다.  \n",
    "그런 다음 이미지의 사이즈 별로, 학습해보고, 하이퍼 파라미터를 바꾸거나, epoch의 횟수를 변경하면서 학습을 해봤다.  \n",
    "이러한 변수들을 변경하면서 정확도가 늘어나긴 했지만 가끔은 떨어지기도 했다.  \n",
    "그래서 데이터가 부족한것 같다는 생각이 들어 image패키지의 transpose함수를 이용해 좌우 상하 반전을 해서 데이터의 양을 늘렸다.  \n",
    "학습 데이터가 300 > 900개로 증가해서 그런지 정확도가 생각보다 많이 늘어나서 목표했던 0.6을 넘길 수 있었다.  \n",
    "이번 exploration을 진행하면서 학습을 하기전 데이터의 양이 중요할뿐만 아니라, 상하좌우반전이라던지 같은 사진이라도 다른 데이터가 될 수 있다는걸 깨달았다.  \n",
    "모델의 하이퍼 파라미터 값이라던지, 모델이 정확하게 어떻게 동작하는지 알고 사용했더라면 좀더 이미지를 학습하는데 도움이 될것 같다는 생각이 들었다.",
    "마지막으로 데이터를 좀더 다양한 배경이나 손을 가지고 학습을 해볼것이다.  \n"
   ]
  }
 ],
 "metadata": {
  "kernelspec": {
   "display_name": "Python 3 (ipykernel)",
   "language": "python",
   "name": "python3"
  },
  "language_info": {
   "codemirror_mode": {
    "name": "ipython",
    "version": 3
   },
   "file_extension": ".py",
   "mimetype": "text/x-python",
   "name": "python",
   "nbconvert_exporter": "python",
   "pygments_lexer": "ipython3",
   "version": "3.9.7"
  }
 },
 "nbformat": 4,
 "nbformat_minor": 5
}
