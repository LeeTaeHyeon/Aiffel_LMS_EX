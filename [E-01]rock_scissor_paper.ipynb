{
 "cells": [
  {
   "cell_type": "code",
   "execution_count": 15,
   "id": "d0712276",
   "metadata": {},
   "outputs": [],
   "source": [
    "from PIL import Image\n",
    "import glob\n",
    "import os\n",
    "import numpy as np\n",
    "\n",
    "import tensorflow as tf\n",
    "from tensorflow import keras"
   ]
  },
  {
   "cell_type": "markdown",
   "id": "2ea21a9d",
   "metadata": {},
   "source": [
    "## 모델 변수 설정"
   ]
  },
  {
   "cell_type": "code",
   "execution_count": 77,
   "id": "fbef0b7c",
   "metadata": {},
   "outputs": [],
   "source": [
    "# 리사이즈 변수\n",
    "resize_num = 112\n",
    "\n",
    "# 모델 설계 변수 설정\n",
    "Conv2D_1 = 64\n",
    "Conv2D_2 = 128\n",
    "Conv2D_3 = 512\n",
    "dense = 256\n",
    "\n",
    "kernel_size = (3,3)\n",
    "maxpool_size = (2,2)\n",
    "\n",
    "# 모델 학습 변수 설정\n",
    "epochs_nums = 20"
   ]
  },
  {
   "cell_type": "markdown",
   "id": "8d4bbe8d",
   "metadata": {},
   "source": [
    "### 파일 리사이즈 하는 함수"
   ]
  },
  {
   "cell_type": "code",
   "execution_count": 53,
   "id": "9ec4fba8",
   "metadata": {
    "scrolled": true
   },
   "outputs": [
    {
     "name": "stdout",
     "output_type": "stream",
     "text": [
      "100  images to be resized.\n",
      "100  images resized.\n",
      "가위 이미지 resize 완료!\n",
      "100  images to be resized.\n",
      "100  images resized.\n",
      "바위 이미지 resize 완료!\n",
      "100  images to be resized.\n",
      "100  images resized.\n",
      "보 이미지 resize 완료!\n",
      "300\n",
      "100  images to be resized.\n",
      "100  images resized.\n",
      "가위 이미지 resize 완료!\n",
      "100  images to be resized.\n",
      "100  images resized.\n",
      "바위 이미지 resize 완료!\n",
      "100  images to be resized.\n",
      "100  images resized.\n",
      "보 이미지 resize 완료!\n",
      "300\n"
     ]
    }
   ],
   "source": [
    " # 파일 리사이즈 하는 함수\n",
    "def resize_images(img_path, resize_number):\n",
    "    images=glob.glob(img_path + \"/*.jpg\")  \n",
    "    \n",
    "    print(len(images), \" images to be resized.\")\n",
    "\n",
    "    # 파일마다 모두 28x28 사이즈로 바꾸어 저장합니다.\n",
    "    target_size=(resize_number, resize_number)\n",
    "    save_path = img_path + \"/resize\" + str(resize_number)\n",
    "    \n",
    "    if not os.path.exists(save_path):\n",
    "        os.mkdir(save_path)\n",
    "    \n",
    "    for img in images:\n",
    "        old_img=Image.open(img)\n",
    "        new_img=old_img.resize(target_size,Image.ANTIALIAS)\n",
    "        new_img.save(save_path + \"/\" + img.split(\"/\")[-1], \"JPEG\")\n",
    "    \n",
    "    print(len(images), \" images resized.\")\n",
    "    \n",
    "    return len(images)\n",
    "\n",
    "# /aiffel/바꿀폴더/scissor or rock or paper 바꾸기\n",
    "image_dir_path = os.getenv(\"HOME\") + \"/aiffel/aiffel_rsp/scissor\"\n",
    "image_count = 0;\n",
    "\n",
    "image_count += resize_images(image_dir_path, resize_num)\n",
    "print(\"가위 이미지 resize 완료!\")\n",
    "\n",
    "image_dir_path = os.getenv(\"HOME\") + \"/aiffel/aiffel_rsp/rock\"\n",
    "image_count += resize_images(image_dir_path, resize_num)\n",
    "print(\"바위 이미지 resize 완료!\")\n",
    "\n",
    "image_dir_path = os.getenv(\"HOME\") + \"/aiffel/aiffel_rsp/paper\"\n",
    "image_count += resize_images(image_dir_path, resize_num)\n",
    "print(\"보 이미지 resize 완료!\")\n",
    "\n",
    "print(image_count)\n",
    "\n",
    "# test set\n",
    "image_dir_path = os.getenv(\"HOME\") + \"/aiffel/aiffel_rsp/test/scissor\"\n",
    "image_count = 0;\n",
    "\n",
    "image_count += resize_images(image_dir_path, resize_num)\n",
    "print(\"가위 이미지 resize 완료!\")\n",
    "\n",
    "image_dir_path = os.getenv(\"HOME\") + \"/aiffel/aiffel_rsp/test/rock\"\n",
    "image_count += resize_images(image_dir_path, resize_num)\n",
    "print(\"바위 이미지 resize 완료!\")\n",
    "\n",
    "image_dir_path = os.getenv(\"HOME\") + \"/aiffel/aiffel_rsp/test/paper\"\n",
    "image_count += resize_images(image_dir_path, resize_num)\n",
    "print(\"보 이미지 resize 완료!\")\n",
    "\n",
    "print(image_count)"
   ]
  },
  {
   "cell_type": "markdown",
   "id": "ac2c276c",
   "metadata": {},
   "source": [
    "### 이미지 부풀리기"
   ]
  },
  {
   "cell_type": "code",
   "execution_count": 54,
   "id": "4931622e",
   "metadata": {
    "scrolled": true
   },
   "outputs": [
    {
     "name": "stdout",
     "output_type": "stream",
     "text": [
      "가위 부풀리기 완료!\n",
      "바위 부풀리기 완료!\n",
      "보 부풀리기 완료!\n",
      "300\n"
     ]
    }
   ],
   "source": [
    "def image_generator (img_path):\n",
    "    \n",
    "    save_path = img_path\n",
    "    images=glob.glob(img_path + \"/*.jpg\")\n",
    "        \n",
    "    count = 0\n",
    "    \n",
    "    for img in images:\n",
    "        old_img = Image.open(img)\n",
    "        new_img = old_img.transpose(Image.FLIP_LEFT_RIGHT)\n",
    "        new_img.save(save_path + \"/\" + str(len(images)) + str(count) + \".jpg\", \"JPEG\")\n",
    "        count += 1\n",
    "        \n",
    "    for img in images:\n",
    "        old_img = Image.open(img)\n",
    "        new_img = old_img.transpose(Image.FLIP_TOP_BOTTOM)\n",
    "        new_img.save(save_path + \"/\" + str(len(images)) + str(count) + \".jpg\", \"JPEG\")\n",
    "        count += 1\n",
    "\n",
    "\n",
    "# 이미지 경로\n",
    "image_dir_path = os.getenv(\"HOME\") + \"/aiffel/aiffel_rsp/scissor/resize112\"\n",
    "image_generator(image_dir_path)\n",
    "print(\"가위 부풀리기 완료!\")\n",
    "\n",
    "image_dir_path = os.getenv(\"HOME\") + \"/aiffel/aiffel_rsp/rock/resize112\"\n",
    "image_generator(image_dir_path)\n",
    "print(\"바위 부풀리기 완료!\")\n",
    "\n",
    "image_dir_path = os.getenv(\"HOME\") + \"/aiffel/aiffel_rsp/paper/resize112\"\n",
    "image_generator(image_dir_path)\n",
    "print(\"보 부풀리기 완료!\")"
   ]
  },
  {
   "cell_type": "code",
   "execution_count": 60,
   "id": "3e1d7791",
   "metadata": {},
   "outputs": [
    {
     "name": "stdout",
     "output_type": "stream",
     "text": [
      "900\n"
     ]
    }
   ],
   "source": [
    "image_count = 0;\n",
    "\n",
    "image_dir_path = os.getenv(\"HOME\") + \"/aiffel/aiffel_rsp/scissor/resize112\"\n",
    "images=glob.glob(image_dir_path + \"/*.jpg\")\n",
    "image_count += len(images)\n",
    "\n",
    "image_dir_path = os.getenv(\"HOME\") + \"/aiffel/aiffel_rsp/rock/resize112\"\n",
    "images=glob.glob(image_dir_path + \"/*.jpg\")\n",
    "image_count += len(images)\n",
    "\n",
    "image_dir_path = os.getenv(\"HOME\") + \"/aiffel/aiffel_rsp/paper/resize112\"\n",
    "images=glob.glob(image_dir_path + \"/*.jpg\")\n",
    "image_count += len(images)\n",
    "\n",
    "print(image_count)"
   ]
  },
  {
   "cell_type": "markdown",
   "id": "1d3de780",
   "metadata": {},
   "source": [
    "### 이미지 라벨링 하는 함수\n",
    "### 가위 0, 바위 1, 보 2"
   ]
  },
  {
   "cell_type": "code",
   "execution_count": 61,
   "id": "e73fafc5",
   "metadata": {
    "scrolled": false
   },
   "outputs": [
    {
     "name": "stdout",
     "output_type": "stream",
     "text": [
      "/aiffel/aiffel/aiffel_rsp/scissor/resize112/*.jpg\n",
      "학습데이터(x_train)의 이미지 개수는 900 입니다.\n",
      "x_train shape: (900, 112, 112, 3)\n",
      "y_train shape: (900,)\n"
     ]
    }
   ],
   "source": [
    "# 이미지 라벨링 하는 함수\n",
    "def load_data(img_path, number_of_data, param_img_size):  # 가위바위보 이미지 개수 총합에 주의하세요.\n",
    "    # 가위 : 0, 바위 : 1, 보 : 2\n",
    "    img_size=param_img_size\n",
    "    color=3\n",
    "    #이미지 데이터와 라벨(가위 : 0, 바위 : 1, 보 : 2) 데이터를 담을 행렬(matrix) 영역을 생성합니다.\n",
    "    imgs=np.zeros(number_of_data*img_size*img_size*color,dtype=np.int32).reshape(number_of_data,img_size,img_size,color)\n",
    "    labels=np.zeros(number_of_data,dtype=np.int32)\n",
    "\n",
    "    print(img_path + '/scissor/resize' + str(img_size) + '/*.jpg')\n",
    "    \n",
    "    idx=0\n",
    "    for file in glob.iglob(img_path + '/scissor/resize' + str(img_size) + '/*.jpg'):\n",
    "        img = np.array(Image.open(file),dtype=np.int32)\n",
    "        imgs[idx,:,:,:]=img    # 데이터 영역에 이미지 행렬을 복사\n",
    "        labels[idx]=0   # 가위 : 0\n",
    "        idx=idx+1\n",
    "\n",
    "    for file in glob.iglob(img_path+'/rock/resize' + str(img_size) + '/*.jpg'):\n",
    "        img = np.array(Image.open(file),dtype=np.int32)\n",
    "        imgs[idx,:,:,:]=img    # 데이터 영역에 이미지 행렬을 복사\n",
    "        labels[idx]=1   # 바위 : 1\n",
    "        idx=idx+1  \n",
    "    \n",
    "    for file in glob.iglob(img_path+'/paper/resize' + str(img_size) + '/*.jpg'):\n",
    "        img = np.array(Image.open(file),dtype=np.int32)\n",
    "        imgs[idx,:,:,:]=img    # 데이터 영역에 이미지 행렬을 복사\n",
    "        labels[idx]=2   # 보 : 2\n",
    "        idx=idx+1\n",
    "        \n",
    "    print(\"학습데이터(x_train)의 이미지 개수는\", idx,\"입니다.\")\n",
    "    return imgs, labels\n",
    "\n",
    "# /aiffel/바꿔야하는 폴더\n",
    "image_dir_path = os.getenv(\"HOME\") + \"/aiffel/aiffel_rsp\"\n",
    "(x_train, y_train)=load_data(image_dir_path,image_count, resize_num)\n",
    "x_train_norm = x_train/255.0   # 입력은 0~1 사이의 값으로 정규화\n",
    "\n",
    "print(\"x_train shape: {}\".format(x_train.shape))\n",
    "print(\"y_train shape: {}\".format(y_train.shape))"
   ]
  },
  {
   "cell_type": "markdown",
   "id": "08e9a8c0",
   "metadata": {},
   "source": [
    "### 모델 설계"
   ]
  },
  {
   "cell_type": "code",
   "execution_count": 79,
   "id": "e8584ee9",
   "metadata": {},
   "outputs": [
    {
     "name": "stdout",
     "output_type": "stream",
     "text": [
      "Model에 추가된 Layer 개수:  9\n",
      "Model: \"sequential_9\"\n",
      "_________________________________________________________________\n",
      "Layer (type)                 Output Shape              Param #   \n",
      "=================================================================\n",
      "conv2d_24 (Conv2D)           (None, 110, 110, 64)      1792      \n",
      "_________________________________________________________________\n",
      "max_pooling2d_24 (MaxPooling (None, 55, 55, 64)        0         \n",
      "_________________________________________________________________\n",
      "conv2d_25 (Conv2D)           (None, 53, 53, 128)       73856     \n",
      "_________________________________________________________________\n",
      "max_pooling2d_25 (MaxPooling (None, 26, 26, 128)       0         \n",
      "_________________________________________________________________\n",
      "conv2d_26 (Conv2D)           (None, 24, 24, 512)       590336    \n",
      "_________________________________________________________________\n",
      "max_pooling2d_26 (MaxPooling (None, 12, 12, 512)       0         \n",
      "_________________________________________________________________\n",
      "flatten_9 (Flatten)          (None, 73728)             0         \n",
      "_________________________________________________________________\n",
      "dense_18 (Dense)             (None, 256)               18874624  \n",
      "_________________________________________________________________\n",
      "dense_19 (Dense)             (None, 3)                 771       \n",
      "=================================================================\n",
      "Total params: 19,541,379\n",
      "Trainable params: 19,541,379\n",
      "Non-trainable params: 0\n",
      "_________________________________________________________________\n"
     ]
    }
   ],
   "source": [
    "# model을 직접 만들어 보세요.\n",
    "# Hint! model의 입력/출력부에 특히 유의해 주세요. 가위바위보 데이터셋은 MNIST 데이터셋과 어떤 점이 달라졌나요?\n",
    "\n",
    "model=keras.models.Sequential()\n",
    "model.add(keras.layers.Conv2D(Conv2D_1, kernel_size, activation='relu', input_shape=(resize_num,resize_num,3)))\n",
    "model.add(keras.layers.MaxPool2D(maxpool_size))\n",
    "model.add(keras.layers.Conv2D(Conv2D_2, kernel_size, activation='relu'))\n",
    "model.add(keras.layers.MaxPooling2D(maxpool_size))\n",
    "model.add(keras.layers.Conv2D(Conv2D_3, kernel_size, activation='relu'))\n",
    "model.add(keras.layers.MaxPooling2D(maxpool_size))\n",
    "model.add(keras.layers.Flatten())\n",
    "model.add(keras.layers.Dense(dense, activation='relu'))\n",
    "model.add(keras.layers.Dense(3, activation='softmax'))\n",
    "\n",
    "print('Model에 추가된 Layer 개수: ', len(model.layers))\n",
    "\n",
    "# 모델 요약\n",
    "model.summary()"
   ]
  },
  {
   "cell_type": "markdown",
   "id": "6923e750",
   "metadata": {},
   "source": [
    "### 모델 학습"
   ]
  },
  {
   "cell_type": "code",
   "execution_count": 80,
   "id": "7d9936ad",
   "metadata": {},
   "outputs": [
    {
     "name": "stdout",
     "output_type": "stream",
     "text": [
      "Epoch 1/20\n",
      "29/29 [==============================] - 2s 35ms/step - loss: 62.7510 - accuracy: 0.3233\n",
      "Epoch 2/20\n",
      "29/29 [==============================] - 1s 28ms/step - loss: 1.0939 - accuracy: 0.3500\n",
      "Epoch 3/20\n",
      "29/29 [==============================] - 1s 28ms/step - loss: 1.0695 - accuracy: 0.4667\n",
      "Epoch 4/20\n",
      "29/29 [==============================] - 1s 28ms/step - loss: 1.0207 - accuracy: 0.5467\n",
      "Epoch 5/20\n",
      "29/29 [==============================] - 1s 28ms/step - loss: 0.9812 - accuracy: 0.5100\n",
      "Epoch 6/20\n",
      "29/29 [==============================] - 1s 28ms/step - loss: 0.8568 - accuracy: 0.5889\n",
      "Epoch 7/20\n",
      "29/29 [==============================] - 1s 28ms/step - loss: 0.7215 - accuracy: 0.6700\n",
      "Epoch 8/20\n",
      "29/29 [==============================] - 1s 28ms/step - loss: 0.6175 - accuracy: 0.7467\n",
      "Epoch 9/20\n",
      "29/29 [==============================] - 1s 28ms/step - loss: 0.6618 - accuracy: 0.7300\n",
      "Epoch 10/20\n",
      "29/29 [==============================] - 1s 28ms/step - loss: 0.5294 - accuracy: 0.7900\n",
      "Epoch 11/20\n",
      "29/29 [==============================] - 1s 28ms/step - loss: 0.3878 - accuracy: 0.8400\n",
      "Epoch 12/20\n",
      "29/29 [==============================] - 1s 28ms/step - loss: 0.2682 - accuracy: 0.8978\n",
      "Epoch 13/20\n",
      "29/29 [==============================] - 1s 28ms/step - loss: 0.1210 - accuracy: 0.9589\n",
      "Epoch 14/20\n",
      "29/29 [==============================] - 1s 28ms/step - loss: 0.1039 - accuracy: 0.9633 0s - loss: 0.1\n",
      "Epoch 15/20\n",
      "29/29 [==============================] - 1s 28ms/step - loss: 0.1472 - accuracy: 0.9622\n",
      "Epoch 16/20\n",
      "29/29 [==============================] - 1s 28ms/step - loss: 0.1351 - accuracy: 0.9556\n",
      "Epoch 17/20\n",
      "29/29 [==============================] - 1s 28ms/step - loss: 0.1205 - accuracy: 0.9522\n",
      "Epoch 18/20\n",
      "29/29 [==============================] - 1s 28ms/step - loss: 0.0524 - accuracy: 0.9833\n",
      "Epoch 19/20\n",
      "29/29 [==============================] - 1s 28ms/step - loss: 0.0840 - accuracy: 0.9667\n",
      "Epoch 20/20\n",
      "29/29 [==============================] - 1s 28ms/step - loss: 0.0655 - accuracy: 0.9789\n"
     ]
    },
    {
     "data": {
      "text/plain": [
       "<keras.callbacks.History at 0x7f8f235ef430>"
      ]
     },
     "execution_count": 80,
     "metadata": {},
     "output_type": "execute_result"
    }
   ],
   "source": [
    "# model을 학습시키는 코드를 직접 작성해 보세요.\n",
    "# Hint! model.compile()과 model.fit()을 사용해 봅시다.\n",
    "model.compile(optimizer='adam',\n",
    "             loss='sparse_categorical_crossentropy',\n",
    "             metrics=['accuracy'])\n",
    "\n",
    "model.fit(x_train, y_train, epochs=epochs_nums)"
   ]
  },
  {
   "cell_type": "markdown",
   "id": "613fe6fb",
   "metadata": {},
   "source": [
    "### 트레이닝 셋 만들기"
   ]
  },
  {
   "cell_type": "code",
   "execution_count": 68,
   "id": "87ec2029",
   "metadata": {
    "scrolled": true
   },
   "outputs": [
    {
     "name": "stdout",
     "output_type": "stream",
     "text": [
      "/aiffel/aiffel/aiffel_rsp/test\n",
      "/aiffel/aiffel/aiffel_rsp/test/scissor/resize112/*.jpg\n",
      "학습데이터(x_train)의 이미지 개수는 300 입니다.\n",
      "x_test shape: (300, 112, 112, 3)\n",
      "y_test shape: (300,)\n"
     ]
    }
   ],
   "source": [
    "# x_test, y_test를 만드는 방법은 x_train, y_train을 만드는 방법과 아주 유사합니다.\n",
    "\n",
    "image_dir_path = os.getenv(\"HOME\") + \"/aiffel/aiffel_rsp/test\"\n",
    "print(image_dir_path)\n",
    "(x_test, y_test)=load_data(image_dir_path, 300, resize_num)\n",
    "x_test_norm = x_train/255.0   # 입력은 0~1 사이의 값으로 정규화\n",
    "\n",
    "print(\"x_test shape: {}\".format(x_test.shape))\n",
    "print(\"y_test shape: {}\".format(y_test.shape))"
   ]
  },
  {
   "cell_type": "markdown",
   "id": "6a7a502c",
   "metadata": {},
   "source": [
    "### 테스트 결과"
   ]
  },
  {
   "cell_type": "code",
   "execution_count": 81,
   "id": "e5281dbc",
   "metadata": {
    "scrolled": true
   },
   "outputs": [
    {
     "name": "stdout",
     "output_type": "stream",
     "text": [
      "10/10 - 0s - loss: 3.0801 - accuracy: 0.7600\n",
      "test_loss: 3.0801265239715576 \n",
      "test_accuracy: 0.7599999904632568\n"
     ]
    }
   ],
   "source": [
    "# model을 학습시키는 코드를 직접 작성해 보세요.\n",
    "# Hint! model.evaluate()을 사용해 봅시다.\n",
    "test_loss, test_accuracy = model.evaluate(x_test,y_test, verbose=2)\n",
    "print(\"test_loss: {} \".format(test_loss))\n",
    "print(\"test_accuracy: {}\".format(test_accuracy))"
   ]
  },
  {
   "cell_type": "markdown",
   "id": "3b5d9f05",
   "metadata": {},
   "source": [
    "### 테스트 기록"
   ]
  },
  {
   "cell_type": "markdown",
   "id": "9c791ebd",
   "metadata": {},
   "source": [
    "### 1. 이미지 개수 300, 이미지 사이즈 28, Conv2D(64,128,256), Dense(128), epoch=10\n",
    "train accuracy = 0.84\n",
    "test accuracy : 0.54\n",
    "\n",
    "### 2. 이미지 개수 300, 이미지 사이즈 56, Conv2D(64,128,256), Dense(128), epoch=10\n",
    "train accuracy = 0.99\n",
    "test accuracy : 0.43\n",
    "\n",
    "### 3. 이미지 개수 300, 이미지 사이즈 112, Conv2D(64,128,256), Dense(128), epoch=10\n",
    "train accuracy = 0.72\n",
    "test accuracy : 0.31\n",
    "\n",
    "이미지가 커지면서 정확도가 증가할줄 알았는데, 사이즈를 늘릴때 줄어든거보니 epoch이 부족했던건 아닐까 생각이 들어 늘려보았다\n",
    "\n",
    "### 4. 이미지 개수 300, 이미지 사이즈 112, Conv2D(64,128,256), Dense(128), epoch=15\n",
    "train accuracy = 0.98\n",
    "test accuracy : 0.36\n",
    "\n",
    "### 5. 이미지 개수 300, 이미지 사이즈 112, Conv2D(64,128,256), Dense(128), epoch=20\n",
    "train accuracy = 1\n",
    "test accuracy : 0.37\n",
    "\n",
    "학습을 하는 중간에 1을 달성하는것을 보니 무작정 epoch를 늘리는것은 또 좋지 않은듯하다.\n",
    "이미지 사이즈 112, epoch는 20으로 고정하고 하이퍼 파라미터를 늘려보았다.\n",
    "\n",
    "### 6. 이미지 개수 300, 이미지 사이즈 112, Conv2D(128,256,512), Dense(128), epoch=20\n",
    "train accuracy = 0.98\n",
    "test accuracy : 0.45\n",
    "\n",
    "### 7. 이미지 개수 300, 이미지 사이즈 112, Conv2D(128,256,512), Dense(256), epoch=20\n",
    "train accuracy = 0.97\n",
    "test accuracy : 0.51\n",
    "\n",
    "커널 사이즈를 변경해볼까?\n",
    "kernel_size = (3,3) -> (4,4)\n",
    "maxpool_size = (2,2) -> (3,3)\n",
    "\n",
    "### 8. 이미지 개수 300, 이미지 사이즈 112, Conv2D(128,256,512), Dense(256), epoch=20\n",
    "train accuracy = 0.97\n",
    "test accuracy : 0.37\n",
    "\n",
    "커널 사이즈 변경은 아직인듯 하다. 다시 kernel_size = (3,3) maxpool_size = (2,2)으로 변경\n",
    "이미지의 갯수가 좀 부족한가?\n",
    "Image의 내장함수인 transpose로 좌우, 상하 반전을 시켜서 이미지 증가\n",
    "\n",
    "### 9. 이미지 개수 900, 이미지 사이즈 112, Conv2D(128,256,512), Dense(256), epoch=20\n",
    "train accuracy = 0.97\n",
    "test accuracy : 0.75"
   ]
  }
 ],
 "metadata": {
  "kernelspec": {
   "display_name": "Python 3 (ipykernel)",
   "language": "python",
   "name": "python3"
  },
  "language_info": {
   "codemirror_mode": {
    "name": "ipython",
    "version": 3
   },
   "file_extension": ".py",
   "mimetype": "text/x-python",
   "name": "python",
   "nbconvert_exporter": "python",
   "pygments_lexer": "ipython3",
   "version": "3.9.7"
  }
 },
 "nbformat": 4,
 "nbformat_minor": 5
}
