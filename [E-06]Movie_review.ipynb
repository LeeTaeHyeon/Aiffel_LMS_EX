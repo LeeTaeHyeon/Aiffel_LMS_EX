{
 "cells": [
  {
   "cell_type": "markdown",
   "id": "7fff59fe",
   "metadata": {},
   "source": [
    "## 패키지 로드"
   ]
  },
  {
   "cell_type": "code",
   "execution_count": 1,
   "id": "bdcd3fbd",
   "metadata": {},
   "outputs": [],
   "source": [
    "import pandas as pd\n",
    "import numpy as np\n",
    "import tensorflow as tf\n",
    "import os\n",
    "\n",
    "from konlpy.tag import Mecab\n",
    "from collections import Counter"
   ]
  },
  {
   "cell_type": "markdown",
   "id": "2a4dc27e",
   "metadata": {},
   "source": [
    "# 데이터 전처리"
   ]
  },
  {
   "cell_type": "markdown",
   "id": "14557ba4",
   "metadata": {},
   "source": [
    "## 데이터 읽어오기"
   ]
  },
  {
   "cell_type": "code",
   "execution_count": 2,
   "id": "97adb191",
   "metadata": {
    "scrolled": false
   },
   "outputs": [
    {
     "data": {
      "text/html": [
       "<div>\n",
       "<style scoped>\n",
       "    .dataframe tbody tr th:only-of-type {\n",
       "        vertical-align: middle;\n",
       "    }\n",
       "\n",
       "    .dataframe tbody tr th {\n",
       "        vertical-align: top;\n",
       "    }\n",
       "\n",
       "    .dataframe thead th {\n",
       "        text-align: right;\n",
       "    }\n",
       "</style>\n",
       "<table border=\"1\" class=\"dataframe\">\n",
       "  <thead>\n",
       "    <tr style=\"text-align: right;\">\n",
       "      <th></th>\n",
       "      <th>id</th>\n",
       "      <th>document</th>\n",
       "      <th>label</th>\n",
       "    </tr>\n",
       "  </thead>\n",
       "  <tbody>\n",
       "    <tr>\n",
       "      <th>0</th>\n",
       "      <td>9976970</td>\n",
       "      <td>아 더빙.. 진짜 짜증나네요 목소리</td>\n",
       "      <td>0</td>\n",
       "    </tr>\n",
       "    <tr>\n",
       "      <th>1</th>\n",
       "      <td>3819312</td>\n",
       "      <td>흠...포스터보고 초딩영화줄....오버연기조차 가볍지 않구나</td>\n",
       "      <td>1</td>\n",
       "    </tr>\n",
       "    <tr>\n",
       "      <th>2</th>\n",
       "      <td>10265843</td>\n",
       "      <td>너무재밓었다그래서보는것을추천한다</td>\n",
       "      <td>0</td>\n",
       "    </tr>\n",
       "    <tr>\n",
       "      <th>3</th>\n",
       "      <td>9045019</td>\n",
       "      <td>교도소 이야기구먼 ..솔직히 재미는 없다..평점 조정</td>\n",
       "      <td>0</td>\n",
       "    </tr>\n",
       "    <tr>\n",
       "      <th>4</th>\n",
       "      <td>6483659</td>\n",
       "      <td>사이몬페그의 익살스런 연기가 돋보였던 영화!스파이더맨에서 늙어보이기만 했던 커스틴 ...</td>\n",
       "      <td>1</td>\n",
       "    </tr>\n",
       "  </tbody>\n",
       "</table>\n",
       "</div>"
      ],
      "text/plain": [
       "         id                                           document  label\n",
       "0   9976970                                아 더빙.. 진짜 짜증나네요 목소리      0\n",
       "1   3819312                  흠...포스터보고 초딩영화줄....오버연기조차 가볍지 않구나      1\n",
       "2  10265843                                  너무재밓었다그래서보는것을추천한다      0\n",
       "3   9045019                      교도소 이야기구먼 ..솔직히 재미는 없다..평점 조정      0\n",
       "4   6483659  사이몬페그의 익살스런 연기가 돋보였던 영화!스파이더맨에서 늙어보이기만 했던 커스틴 ...      1"
      ]
     },
     "execution_count": 2,
     "metadata": {},
     "output_type": "execute_result"
    }
   ],
   "source": [
    "# 데이터를 읽어봅시다. \n",
    "train_data = pd.read_table('~/aiffel/sentiment_classification/data/ratings_train.txt')\n",
    "test_data = pd.read_table('~/aiffel/sentiment_classification/data/ratings_test.txt')\n",
    "\n",
    "train_data.head()"
   ]
  },
  {
   "cell_type": "markdown",
   "id": "2c29be4e",
   "metadata": {},
   "source": [
    "## 데이터로더 구성"
   ]
  },
  {
   "cell_type": "code",
   "execution_count": 3,
   "id": "d21ae90e",
   "metadata": {
    "scrolled": true
   },
   "outputs": [
    {
     "name": "stdout",
     "output_type": "stream",
     "text": [
      "25521 5704\n"
     ]
    }
   ],
   "source": [
    "tokenizer = Mecab()\n",
    "stopwords = ['의','가','이','은','들','는','좀','잘','걍','과','도','를','으로','자','에','와','한','하다']\n",
    "\n",
    "def load_data(train_data, test_data, num_words=10000):\n",
    "    # [[YOUR CODE]]\n",
    "    # 1. 데이터의 중복 제거 (리뷰-documnet가 중복된걸 제거하자)\n",
    "    train_data.drop_duplicates(['document'], inplace=True)\n",
    "    test_data.drop_duplicates(['document'], inplace=True)\n",
    "    \n",
    "    # 2. NaN 결측치 제거 (행기준)\n",
    "    train_data.dropna(axis=0, how='any')\n",
    "    test_data.dropna(axis=0, how='any')\n",
    "    \n",
    "    # 3. 한국어 토크나이저로 토큰화 (Mecab())\n",
    "    # 4. 불용어 제거 (stopwords)\n",
    "    X_train = []\n",
    "    for i, sentence in enumerate(train_data['document']):\n",
    "        try:\n",
    "            tmp_x = tokenizer.morphs(sentence)\n",
    "            tmp_x = [word for word in tmp_x if not word in stopwords]\n",
    "            X_train.append(tmp_x)\n",
    "        except:\n",
    "            traindrop = i\n",
    "        \n",
    "    X_test = []\n",
    "    for i, sentence in enumerate(test_data['document']):\n",
    "        try:\n",
    "            tmp_x = tokenizer.morphs(sentence)\n",
    "            tmp_x = [word for word in tmp_x if not word in stopwords]\n",
    "            X_test.append(tmp_x)\n",
    "        except:\n",
    "            testdrop = i\n",
    "        \n",
    "    # 2차월 배열을 1차원 리스트로 변환\n",
    "    words = np.concatenate(X_train).tolist()\n",
    "    counter = Counter(words) # counter 객체를 선언한다음 가장 많이 나온 순서대로 리스트화\n",
    "    counter = counter.most_common(10000-4)\n",
    "    vocab = ['', '', '', ''] + [key for key, _ in counter]\n",
    "    \n",
    "    # 5. 사전 word to index 구성\n",
    "    word_to_index = {word:index for index, word in enumerate(vocab)}\n",
    "    \n",
    "    # 6. 텍스트 스트링을 사전 인덱스 스트링으로 변환\n",
    "    def wordlist_to_indexlist(wordlist):\n",
    "        return [word_to_index[word] if word in word_to_index else word_to_index[''] for word in wordlist]\n",
    "    \n",
    "    print(traindrop, testdrop)\n",
    "    X_train = list(map(wordlist_to_indexlist, X_train))\n",
    "    X_test = list(map(wordlist_to_indexlist, X_test))\n",
    "    \n",
    "    train_data.drop([i])\n",
    "    test_data.drop([i])\n",
    "    # 7. X_train, y_train, X_test, y_test, word_to_index 값 리턴하기\n",
    "    return X_train, np.array(list(train_data['label'])), X_test, np.array(list(test_data['label'])), word_to_index\n",
    "    \n",
    "X_train, y_train, X_test, y_test, word_to_index = load_data(train_data, test_data)"
   ]
  },
  {
   "cell_type": "code",
   "execution_count": 4,
   "id": "f523073a",
   "metadata": {},
   "outputs": [],
   "source": [
    "y_train = np.delete(y_train, 25521)\n",
    "y_test = np.delete(y_test, 5704)"
   ]
  },
  {
   "cell_type": "markdown",
   "id": "757d4fbb",
   "metadata": {},
   "source": [
    "### 이게 무슨 에러람!?\n",
    "morphs() 함수를 진행하다보니 train_data의 25521 번째의 데이터에서 다음과 같은 에러가 나왔다.  \n",
    "> NotImplementedError: Wrong number or type of arguments for overloaded function 'Tagger_parse'.  \n",
    "\n",
    "그래서 try except 구문으로 에러가 안나는 부분만 토큰화를 진행하였다.\n"
   ]
  },
  {
   "cell_type": "markdown",
   "id": "667b2edc",
   "metadata": {},
   "source": [
    "### 단어 사전에 없지만 필요한 값들 추가"
   ]
  },
  {
   "cell_type": "code",
   "execution_count": 5,
   "id": "ba11911e",
   "metadata": {},
   "outputs": [],
   "source": [
    "word_to_index[\"<PAD>\"] = 0\n",
    "word_to_index[\"<BOS>\"] = 1\n",
    "word_to_index[\"<UNK>\"] = 2  # unknown\n",
    "word_to_index[\"<UNUSED>\"] = 3"
   ]
  },
  {
   "cell_type": "markdown",
   "id": "9c5a1696",
   "metadata": {},
   "source": [
    "### index_to_word"
   ]
  },
  {
   "cell_type": "code",
   "execution_count": 6,
   "id": "44ab7a2d",
   "metadata": {},
   "outputs": [],
   "source": [
    "index_to_word = {index:word for word, index in word_to_index.items()}"
   ]
  },
  {
   "cell_type": "markdown",
   "id": "a0b2b788",
   "metadata": {},
   "source": [
    "### encoder, decoder"
   ]
  },
  {
   "cell_type": "code",
   "execution_count": 7,
   "id": "f22c7f06",
   "metadata": {},
   "outputs": [],
   "source": [
    "# 문장 1개를 활용할 딕셔너리와 함께 주면, 단어 인덱스 리스트 벡터로 변환해 주는 함수입니다. \n",
    "# 단, 모든 문장은 <BOS>로 시작하는 것으로 합니다. \n",
    "def get_encoded_sentence(sentence, word_to_index):\n",
    "    return [word_to_index['<BOS>']]+[word_to_index[word] if word in word_to_index else word_to_index['<UNK>'] for word in sentence.split()]\n",
    "\n",
    "# 여러 개의 문장 리스트를 한꺼번에 단어 인덱스 리스트 벡터로 encode해 주는 함수입니다. \n",
    "def get_encoded_sentences(sentences, word_to_index):\n",
    "    return [get_encoded_sentence(sentence, word_to_index) for sentence in sentences]\n",
    "\n",
    "# 숫자 벡터로 encode된 문장을 원래대로 decode하는 함수입니다. \n",
    "def get_decoded_sentence(encoded_sentence, index_to_word):\n",
    "    return ' '.join(index_to_word[index] if index in index_to_word else '<UNK>' for index in encoded_sentence[1:])  #[1:]를 통해 <BOS>를 제외\n",
    "\n",
    "# 여러 개의 숫자 벡터로 encode된 문장을 한꺼번에 원래대로 decode하는 함수입니다. \n",
    "def get_decoded_sentences(encoded_sentences, index_to_word):\n",
    "    return [get_decoded_sentence(encoded_sentence, index_to_word) for encoded_sentence in encoded_sentences]"
   ]
  },
  {
   "cell_type": "markdown",
   "id": "bb6fd848",
   "metadata": {},
   "source": [
    "### 데이터셋 내 문장 길이 분포"
   ]
  },
  {
   "cell_type": "code",
   "execution_count": 8,
   "id": "f53d146b",
   "metadata": {},
   "outputs": [
    {
     "name": "stdout",
     "output_type": "stream",
     "text": [
      "문장길이 평균 :  15.96940191154864\n",
      "문장길이 최대 :  116\n",
      "문장길이 표준편차 :  12.843571191092\n",
      "pad_sequences maxlen :  41\n",
      "전체 문장의 0.9342988343341575%가 maxlen 설정값 이내에 포함됩니다. \n"
     ]
    }
   ],
   "source": [
    "total_data_text = list(X_train) + list(X_test)\n",
    "# 텍스트데이터 문장길이의 리스트를 생성한 후\n",
    "num_tokens = [len(tokens) for tokens in total_data_text]\n",
    "num_tokens = np.array(num_tokens)\n",
    "# 문장길이의 평균값, 최대값, 표준편차를 계산해 본다. \n",
    "print('문장길이 평균 : ', np.mean(num_tokens))\n",
    "print('문장길이 최대 : ', np.max(num_tokens))\n",
    "print('문장길이 표준편차 : ', np.std(num_tokens))\n",
    "\n",
    "# 예를들어, 최대 길이를 (평균 + 2*표준편차)로 한다면,  \n",
    "max_tokens = np.mean(num_tokens) + 2 * np.std(num_tokens)\n",
    "maxlen = int(max_tokens)\n",
    "print('pad_sequences maxlen : ', maxlen)\n",
    "print(f'전체 문장의 {np.sum(num_tokens < max_tokens) / len(num_tokens)}%가 maxlen 설정값 이내에 포함됩니다. ')"
   ]
  },
  {
   "cell_type": "markdown",
   "id": "230abd35",
   "metadata": {},
   "source": [
    "### 문장의 길이 맞추기 - pad 추가\n",
    "문장의 끝에 의미있는 값이 나오는게 성능에 좋다고 나와서 pre 옵션을 써준다."
   ]
  },
  {
   "cell_type": "code",
   "execution_count": 9,
   "id": "b41c43cc",
   "metadata": {},
   "outputs": [],
   "source": [
    "X_train = tf.keras.preprocessing.sequence.pad_sequences(X_train,\n",
    "                                                        value=word_to_index[\"<PAD>\"],\n",
    "                                                        padding='pre',\n",
    "                                                        maxlen=maxlen)\n",
    "\n",
    "X_test = tf.keras.preprocessing.sequence.pad_sequences(X_test,\n",
    "                                                       value=word_to_index[\"<PAD>\"],\n",
    "                                                       padding='pre',\n",
    "                                                       maxlen=maxlen)"
   ]
  },
  {
   "cell_type": "code",
   "execution_count": 10,
   "id": "03742f49",
   "metadata": {},
   "outputs": [
    {
     "name": "stdout",
     "output_type": "stream",
     "text": [
      "(146182, 41)\n",
      "(146182,)\n"
     ]
    }
   ],
   "source": [
    "print(X_train.shape)\n",
    "print(y_train.shape)"
   ]
  },
  {
   "cell_type": "markdown",
   "id": "f0b031d4",
   "metadata": {},
   "source": [
    "## train셋에서 train과 val 세트 나누기 (약 8:2)"
   ]
  },
  {
   "cell_type": "code",
   "execution_count": 11,
   "id": "4720a130",
   "metadata": {},
   "outputs": [
    {
     "name": "stdout",
     "output_type": "stream",
     "text": [
      "(116900, 41)\n",
      "(116900,)\n"
     ]
    }
   ],
   "source": [
    "# validation set 분리 \n",
    "X_val = X_train[116900:]   \n",
    "y_val = y_train[116900:]\n",
    "\n",
    "# validation set을 제외한 나머지\n",
    "partial_X_train = X_train[:116900]  \n",
    "partial_y_train = y_train[:116900]\n",
    "\n",
    "print(partial_X_train.shape)\n",
    "print(partial_y_train.shape)"
   ]
  },
  {
   "cell_type": "markdown",
   "id": "c9de490e",
   "metadata": {},
   "source": [
    "# 딥러닝 모델 설계와 훈련"
   ]
  },
  {
   "cell_type": "code",
   "execution_count": 13,
   "id": "f5a9d72f",
   "metadata": {},
   "outputs": [
    {
     "name": "stdout",
     "output_type": "stream",
     "text": [
      "Model: \"sequential\"\n",
      "_________________________________________________________________\n",
      "Layer (type)                 Output Shape              Param #   \n",
      "=================================================================\n",
      "embedding (Embedding)        (None, None, 16)          160000    \n",
      "_________________________________________________________________\n",
      "lstm (LSTM)                  (None, 8)                 800       \n",
      "_________________________________________________________________\n",
      "dense (Dense)                (None, 8)                 72        \n",
      "_________________________________________________________________\n",
      "dense_1 (Dense)              (None, 1)                 9         \n",
      "=================================================================\n",
      "Total params: 160,881\n",
      "Trainable params: 160,881\n",
      "Non-trainable params: 0\n",
      "_________________________________________________________________\n"
     ]
    }
   ],
   "source": [
    "vocab_size = 10000    # 어휘 사전의 크기입니다(10,000개의 단어)\n",
    "word_vector_dim = 16  # 워드 벡터의 차원 수 (변경 가능한 하이퍼파라미터)\n",
    "\n",
    "# model 설계 - 딥러닝 모델 코드를 직접 작성해 주세요.\n",
    "model = tf.keras.Sequential()\n",
    "# [[YOUR CODE]]\n",
    "model.add(tf.keras.layers.Embedding(vocab_size, word_vector_dim, input_shape=(None,)))\n",
    "model.add(tf.keras.layers.LSTM(8))   # 가장 널리 쓰이는 RNN인 LSTM 레이어를 사용하였습니다. 이때 LSTM state 벡터의 차원수는 8로 하였습니다. (변경 가능)\n",
    "model.add(tf.keras.layers.Dense(8, activation='relu'))\n",
    "model.add(tf.keras.layers.Dense(1, activation='sigmoid'))\n",
    "\n",
    "model.summary()"
   ]
  },
  {
   "cell_type": "code",
   "execution_count": 14,
   "id": "c97da723",
   "metadata": {},
   "outputs": [
    {
     "name": "stdout",
     "output_type": "stream",
     "text": [
      "Epoch 1/10\n",
      "229/229 [==============================] - 5s 7ms/step - loss: 0.4995 - accuracy: 0.7682 - val_loss: 0.3667 - val_accuracy: 0.8422\n",
      "Epoch 2/10\n",
      "229/229 [==============================] - 1s 6ms/step - loss: 0.3406 - accuracy: 0.8565 - val_loss: 0.3500 - val_accuracy: 0.8499\n",
      "Epoch 3/10\n",
      "229/229 [==============================] - 1s 6ms/step - loss: 0.3187 - accuracy: 0.8672 - val_loss: 0.3519 - val_accuracy: 0.8460\n",
      "Epoch 4/10\n",
      "229/229 [==============================] - 1s 6ms/step - loss: 0.3065 - accuracy: 0.8728 - val_loss: 0.3544 - val_accuracy: 0.8465\n",
      "Epoch 5/10\n",
      "229/229 [==============================] - 1s 6ms/step - loss: 0.2991 - accuracy: 0.8766 - val_loss: 0.3508 - val_accuracy: 0.8486\n",
      "Epoch 6/10\n",
      "229/229 [==============================] - 1s 6ms/step - loss: 0.2911 - accuracy: 0.8802 - val_loss: 0.3496 - val_accuracy: 0.8481\n",
      "Epoch 7/10\n",
      "229/229 [==============================] - 1s 6ms/step - loss: 0.2824 - accuracy: 0.8841 - val_loss: 0.3500 - val_accuracy: 0.8504\n",
      "Epoch 8/10\n",
      "229/229 [==============================] - 1s 6ms/step - loss: 0.2730 - accuracy: 0.8898 - val_loss: 0.3511 - val_accuracy: 0.8500\n",
      "Epoch 9/10\n",
      "229/229 [==============================] - 1s 6ms/step - loss: 0.2626 - accuracy: 0.8941 - val_loss: 0.3582 - val_accuracy: 0.8482\n",
      "Epoch 10/10\n",
      "229/229 [==============================] - 1s 6ms/step - loss: 0.2533 - accuracy: 0.8990 - val_loss: 0.3588 - val_accuracy: 0.8510\n"
     ]
    }
   ],
   "source": [
    "model.compile(optimizer='adam',\n",
    "              loss='binary_crossentropy',\n",
    "              metrics=['accuracy'])\n",
    "              \n",
    "epochs=10\n",
    "\n",
    "history = model.fit(partial_X_train,\n",
    "                    partial_y_train,\n",
    "                    epochs=epochs,\n",
    "                    batch_size=512,\n",
    "                    validation_data=(X_val, y_val),\n",
    "                    verbose=1)"
   ]
  },
  {
   "cell_type": "code",
   "execution_count": 15,
   "id": "13f4a165",
   "metadata": {},
   "outputs": [
    {
     "name": "stdout",
     "output_type": "stream",
     "text": [
      "1537/1537 - 3s - loss: 0.3677 - accuracy: 0.8457\n",
      "[0.3676881194114685, 0.8456781506538391]\n"
     ]
    }
   ],
   "source": [
    "results = model.evaluate(X_test,  y_test, verbose=2)\n",
    "\n",
    "print(results)"
   ]
  },
  {
   "cell_type": "code",
   "execution_count": 16,
   "id": "1c14ce30",
   "metadata": {
    "scrolled": true
   },
   "outputs": [
    {
     "data": {
      "image/png": "[encoded data removed]",
      "text/plain": [
       "<Figure size 432x288 with 1 Axes>"
      ]
     },
     "metadata": {
      "needs_background": "light"
     },
     "output_type": "display_data"
    }
   ],
   "source": [
    "history_dict = history.history\n",
    "\n",
    "import matplotlib.pyplot as plt\n",
    "\n",
    "acc = history_dict['accuracy']\n",
    "val_acc = history_dict['val_accuracy']\n",
    "loss = history_dict['loss']\n",
    "val_loss = history_dict['val_loss']\n",
    "\n",
    "epochs = range(1, len(acc) + 1)\n",
    "\n",
    "# \"bo\"는 \"파란색 점\"입니다\n",
    "plt.plot(epochs, loss, 'bo', label='Training loss')\n",
    "# b는 \"파란 실선\"입니다\n",
    "plt.plot(epochs, val_loss, 'b', label='Validation loss')\n",
    "plt.title('Training and validation loss')\n",
    "plt.xlabel('Epochs')\n",
    "plt.ylabel('Loss')\n",
    "plt.legend()\n",
    "\n",
    "plt.show()"
   ]
  },
  {
   "cell_type": "markdown",
   "id": "a61f4b95",
   "metadata": {},
   "source": [
    "### epoch 2부터 train loss 와 val loss가 벌어지는거 보니 학습에 의미가 없다..."
   ]
  },
  {
   "cell_type": "code",
   "execution_count": 17,
   "id": "51be7090",
   "metadata": {},
   "outputs": [
    {
     "data": {
      "image/png": "[encoded data removed]",
      "text/plain": [
       "<Figure size 432x288 with 1 Axes>"
      ]
     },
     "metadata": {
      "needs_background": "light"
     },
     "output_type": "display_data"
    }
   ],
   "source": [
    "plt.clf()   # 그림을 초기화합니다\n",
    "\n",
    "plt.plot(epochs, acc, 'bo', label='Training acc')\n",
    "plt.plot(epochs, val_acc, 'b', label='Validation acc')\n",
    "plt.title('Training and validation accuracy')\n",
    "plt.xlabel('Epochs')\n",
    "plt.ylabel('Accuracy')\n",
    "plt.legend()\n",
    "\n",
    "plt.show()"
   ]
  },
  {
   "cell_type": "code",
   "execution_count": 18,
   "id": "45310f23",
   "metadata": {},
   "outputs": [
    {
     "name": "stdout",
     "output_type": "stream",
     "text": [
      "(10000, 16)\n"
     ]
    }
   ],
   "source": [
    "embedding_layer = model.layers[0]\n",
    "weights = embedding_layer.get_weights()[0]\n",
    "print(weights.shape)    # shape: (vocab_size, embedding_dim)\n",
    "\n",
    "# 학습한 Embedding 파라미터를 파일에 써서 저장합니다. \n",
    "word2vec_file_path = os.getenv('HOME')+'/aiffel/sentiment_classification/data/my_word2vec.txt'\n",
    "f = open(word2vec_file_path, 'w')\n",
    "f.write('{} {}\\n'.format(vocab_size-4, word_vector_dim))  # 몇개의 벡터를 얼마 사이즈로 기재할지 타이틀을 씁니다.\n",
    "\n",
    "# 단어 개수(에서 특수문자 4개는 제외하고)만큼의 워드 벡터를 파일에 기록합니다. \n",
    "vectors = model.get_weights()[0]\n",
    "for i in range(4,vocab_size):\n",
    "    f.write('{} {}\\n'.format(index_to_word[i], ' '.join(map(str, list(vectors[i, :])))))\n",
    "f.close()"
   ]
  },
  {
   "cell_type": "code",
   "execution_count": 19,
   "id": "f0152fc8",
   "metadata": {},
   "outputs": [
    {
     "data": {
      "text/plain": [
       "array([-0.0021441 ,  0.02395369, -0.01168192,  0.09090191, -0.13208003,\n",
       "       -0.01216575,  0.09478901,  0.01602021,  0.04110524,  0.12834188,\n",
       "        0.03813002,  0.05657509, -0.03492283,  0.21783498, -0.02438914,\n",
       "       -0.10055645], dtype=float32)"
      ]
     },
     "execution_count": 19,
     "metadata": {},
     "output_type": "execute_result"
    }
   ],
   "source": [
    "from gensim.models.keyedvectors import Word2VecKeyedVectors\n",
    "\n",
    "word_vectors = Word2VecKeyedVectors.load_word2vec_format(word2vec_file_path, binary=False)\n",
    "vector = word_vectors['영화']\n",
    "vector"
   ]
  },
  {
   "cell_type": "code",
   "execution_count": 20,
   "id": "12d79d68",
   "metadata": {
    "scrolled": true
   },
   "outputs": [
    {
     "data": {
      "text/plain": [
       "[('게', 0.901257336139679),\n",
       " ('봄', 0.8784139156341553),\n",
       " ('줍니다', 0.8527549505233765),\n",
       " ('네요', 0.848176121711731),\n",
       " ('음', 0.8440788984298706),\n",
       " ('은지', 0.8369144797325134),\n",
       " ('남', 0.8320052623748779),\n",
       " ('........', 0.8199950456619263),\n",
       " ('.', 0.8191646337509155),\n",
       " ('된다면', 0.803630530834198)]"
      ]
     },
     "execution_count": 20,
     "metadata": {},
     "output_type": "execute_result"
    }
   ],
   "source": [
    "word_vectors.similar_by_word(\"영화\")"
   ]
  },
  {
   "cell_type": "markdown",
   "id": "b4375790",
   "metadata": {},
   "source": [
    "### 다양한 모델 사용해보기"
   ]
  },
  {
   "cell_type": "markdown",
   "id": "6c9c01d1",
   "metadata": {},
   "source": [
    "- CNN 모델 사용해보기"
   ]
  },
  {
   "cell_type": "code",
   "execution_count": 21,
   "id": "dfc0b59e",
   "metadata": {
    "scrolled": true
   },
   "outputs": [
    {
     "name": "stdout",
     "output_type": "stream",
     "text": [
      "Model: \"sequential_1\"\n",
      "_________________________________________________________________\n",
      "Layer (type)                 Output Shape              Param #   \n",
      "=================================================================\n",
      "embedding_1 (Embedding)      (None, None, 16)          160000    \n",
      "_________________________________________________________________\n",
      "conv1d (Conv1D)              (None, None, 16)          1808      \n",
      "_________________________________________________________________\n",
      "max_pooling1d (MaxPooling1D) (None, None, 16)          0         \n",
      "_________________________________________________________________\n",
      "conv1d_1 (Conv1D)            (None, None, 16)          1808      \n",
      "_________________________________________________________________\n",
      "global_max_pooling1d (Global (None, 16)                0         \n",
      "_________________________________________________________________\n",
      "dense_2 (Dense)              (None, 8)                 136       \n",
      "_________________________________________________________________\n",
      "dense_3 (Dense)              (None, 1)                 9         \n",
      "=================================================================\n",
      "Total params: 163,761\n",
      "Trainable params: 163,761\n",
      "Non-trainable params: 0\n",
      "_________________________________________________________________\n"
     ]
    }
   ],
   "source": [
    "vocab_size = 10000  # 어휘 사전의 크기입니다(10개의 단어)\n",
    "word_vector_dim = 16   # 단어 하나를 표현하는 임베딩 벡터의 차원 수입니다. \n",
    "\n",
    "cnn_model = tf.keras.Sequential()\n",
    "cnn_model.add(tf.keras.layers.Embedding(vocab_size, word_vector_dim, input_shape=(None,)))\n",
    "cnn_model.add(tf.keras.layers.Conv1D(16, 7, activation='relu'))\n",
    "cnn_model.add(tf.keras.layers.MaxPooling1D(5))\n",
    "cnn_model.add(tf.keras.layers.Conv1D(16, 7, activation='relu'))\n",
    "cnn_model.add(tf.keras.layers.GlobalMaxPooling1D())\n",
    "cnn_model.add(tf.keras.layers.Dense(8, activation='relu'))\n",
    "cnn_model.add(tf.keras.layers.Dense(1, activation='sigmoid'))  # 최종 출력은 긍정/부정을 나타내는 1dim 입니다.\n",
    "\n",
    "cnn_model.summary()"
   ]
  },
  {
   "cell_type": "code",
   "execution_count": 22,
   "id": "6a61813a",
   "metadata": {},
   "outputs": [
    {
     "name": "stdout",
     "output_type": "stream",
     "text": [
      "Epoch 1/10\n",
      "229/229 [==============================] - 3s 6ms/step - loss: 0.5099 - accuracy: 0.7339 - val_loss: 0.3641 - val_accuracy: 0.8435\n",
      "Epoch 2/10\n",
      "229/229 [==============================] - 1s 5ms/step - loss: 0.3333 - accuracy: 0.8585 - val_loss: 0.3503 - val_accuracy: 0.8475\n",
      "Epoch 3/10\n",
      "229/229 [==============================] - 1s 5ms/step - loss: 0.3000 - accuracy: 0.8751 - val_loss: 0.3410 - val_accuracy: 0.8537\n",
      "Epoch 4/10\n",
      "229/229 [==============================] - 1s 5ms/step - loss: 0.2745 - accuracy: 0.8878 - val_loss: 0.3410 - val_accuracy: 0.8552\n",
      "Epoch 5/10\n",
      "229/229 [==============================] - 1s 5ms/step - loss: 0.2461 - accuracy: 0.9025 - val_loss: 0.3535 - val_accuracy: 0.8538\n",
      "Epoch 6/10\n",
      "229/229 [==============================] - 1s 5ms/step - loss: 0.2164 - accuracy: 0.9169 - val_loss: 0.3730 - val_accuracy: 0.8510\n",
      "Epoch 7/10\n",
      "229/229 [==============================] - 1s 5ms/step - loss: 0.1857 - accuracy: 0.9319 - val_loss: 0.3975 - val_accuracy: 0.8463\n",
      "Epoch 8/10\n",
      "229/229 [==============================] - 1s 5ms/step - loss: 0.1555 - accuracy: 0.9458 - val_loss: 0.4391 - val_accuracy: 0.8441\n",
      "Epoch 9/10\n",
      "229/229 [==============================] - 1s 5ms/step - loss: 0.1291 - accuracy: 0.9573 - val_loss: 0.4789 - val_accuracy: 0.8378\n",
      "Epoch 10/10\n",
      "229/229 [==============================] - 1s 5ms/step - loss: 0.1081 - accuracy: 0.9652 - val_loss: 0.5346 - val_accuracy: 0.8355\n"
     ]
    }
   ],
   "source": [
    "cnn_model.compile(optimizer='adam',\n",
    "              loss='binary_crossentropy',\n",
    "              metrics=['accuracy'])\n",
    "              \n",
    "epochs=10\n",
    "\n",
    "cnn_history = cnn_model.fit(partial_X_train,\n",
    "                    partial_y_train,\n",
    "                    epochs=epochs,\n",
    "                    batch_size=512,\n",
    "                    validation_data=(X_val, y_val),\n",
    "                    verbose=1)"
   ]
  },
  {
   "cell_type": "code",
   "execution_count": 23,
   "id": "456dabde",
   "metadata": {},
   "outputs": [
    {
     "name": "stdout",
     "output_type": "stream",
     "text": [
      "1537/1537 - 2s - loss: 0.5386 - accuracy: 0.8334\n",
      "[0.5386031866073608, 0.8334316611289978]\n"
     ]
    }
   ],
   "source": [
    "results = cnn_model.evaluate(X_test,  y_test, verbose=2)\n",
    "\n",
    "print(results)"
   ]
  },
  {
   "cell_type": "code",
   "execution_count": 24,
   "id": "973c4d8b",
   "metadata": {},
   "outputs": [
    {
     "data": {
      "image/png": "[encoded data removed]",
      "text/plain": [
       "<Figure size 432x288 with 1 Axes>"
      ]
     },
     "metadata": {
      "needs_background": "light"
     },
     "output_type": "display_data"
    }
   ],
   "source": [
    "cnn_history_dict = cnn_history.history\n",
    "\n",
    "import matplotlib.pyplot as plt\n",
    "\n",
    "acc = cnn_history_dict['accuracy']\n",
    "val_acc = cnn_history_dict['val_accuracy']\n",
    "loss = cnn_history_dict['loss']\n",
    "val_loss = cnn_history_dict['val_loss']\n",
    "\n",
    "epochs = range(1, len(acc) + 1)\n",
    "\n",
    "# \"bo\"는 \"파란색 점\"입니다\n",
    "plt.plot(epochs, loss, 'bo', label='Training loss')\n",
    "# b는 \"파란 실선\"입니다\n",
    "plt.plot(epochs, val_loss, 'b', label='Validation loss')\n",
    "plt.title('Training and validation loss')\n",
    "plt.xlabel('Epochs')\n",
    "plt.ylabel('Loss')\n",
    "plt.legend()\n",
    "\n",
    "plt.show()"
   ]
  },
  {
   "cell_type": "code",
   "execution_count": 25,
   "id": "60753036",
   "metadata": {
    "scrolled": true
   },
   "outputs": [
    {
     "data": {
      "image/png": "[encoded data removed]",
      "text/plain": [
       "<Figure size 432x288 with 1 Axes>"
      ]
     },
     "metadata": {
      "needs_background": "light"
     },
     "output_type": "display_data"
    }
   ],
   "source": [
    "plt.clf()   # 그림을 초기화합니다\n",
    "\n",
    "plt.plot(epochs, acc, 'bo', label='Training acc')\n",
    "plt.plot(epochs, val_acc, 'b', label='Validation acc')\n",
    "plt.title('Training and validation accuracy')\n",
    "plt.xlabel('Epochs')\n",
    "plt.ylabel('Accuracy')\n",
    "plt.legend()\n",
    "\n",
    "plt.show()"
   ]
  },
  {
   "cell_type": "code",
   "execution_count": 26,
   "id": "111e7c0b",
   "metadata": {},
   "outputs": [
    {
     "name": "stdout",
     "output_type": "stream",
     "text": [
      "(10000, 16)\n"
     ]
    },
    {
     "data": {
      "text/plain": [
       "[('변해', 0.8248113989830017),\n",
       " ('열매', 0.7831493616104126),\n",
       " ('긍정', 0.7535608410835266),\n",
       " ('잔상', 0.7485314011573792),\n",
       " ('다이하드', 0.7257590889930725),\n",
       " ('충족', 0.7238792181015015),\n",
       " ('디즈니', 0.7201597690582275),\n",
       " ('기영', 0.7181894183158875),\n",
       " ('벅스', 0.7101703882217407),\n",
       " ('...........', 0.7059231996536255)]"
      ]
     },
     "execution_count": 26,
     "metadata": {},
     "output_type": "execute_result"
    }
   ],
   "source": [
    "embedding_layer = cnn_model.layers[0]\n",
    "weights = embedding_layer.get_weights()[0]\n",
    "print(weights.shape)    # shape: (vocab_size, embedding_dim)\n",
    "\n",
    "# 학습한 Embedding 파라미터를 파일에 써서 저장합니다. \n",
    "word2vec_file_path = os.getenv('HOME')+'/aiffel/sentiment_classification/data/my_word2vec_cnn.txt'\n",
    "f = open(word2vec_file_path, 'w')\n",
    "f.write('{} {}\\n'.format(vocab_size-4, word_vector_dim))  # 몇개의 벡터를 얼마 사이즈로 기재할지 타이틀을 씁니다.\n",
    "\n",
    "# 단어 개수(에서 특수문자 4개는 제외하고)만큼의 워드 벡터를 파일에 기록합니다. \n",
    "vectors = cnn_model.get_weights()[0]\n",
    "for i in range(4,vocab_size):\n",
    "    f.write('{} {}\\n'.format(index_to_word[i], ' '.join(map(str, list(vectors[i, :])))))\n",
    "f.close()\n",
    "\n",
    "word_vectors = Word2VecKeyedVectors.load_word2vec_format(word2vec_file_path, binary=False)\n",
    "word_vectors.similar_by_word(\"영화\")"
   ]
  },
  {
   "cell_type": "markdown",
   "id": "3faf19c0",
   "metadata": {},
   "source": [
    "- GlobalMaxPooling 사용해보기"
   ]
  },
  {
   "cell_type": "code",
   "execution_count": 27,
   "id": "df841d56",
   "metadata": {
    "scrolled": true
   },
   "outputs": [
    {
     "name": "stdout",
     "output_type": "stream",
     "text": [
      "Model: \"sequential_2\"\n",
      "_________________________________________________________________\n",
      "Layer (type)                 Output Shape              Param #   \n",
      "=================================================================\n",
      "embedding_2 (Embedding)      (None, None, 16)          160000    \n",
      "_________________________________________________________________\n",
      "global_max_pooling1d_1 (Glob (None, 16)                0         \n",
      "_________________________________________________________________\n",
      "dense_4 (Dense)              (None, 8)                 136       \n",
      "_________________________________________________________________\n",
      "dense_5 (Dense)              (None, 1)                 9         \n",
      "=================================================================\n",
      "Total params: 160,145\n",
      "Trainable params: 160,145\n",
      "Non-trainable params: 0\n",
      "_________________________________________________________________\n"
     ]
    }
   ],
   "source": [
    "vocab_size = 10000  # 어휘 사전의 크기입니다(10개의 단어)\n",
    "word_vector_dim = 16   # 단어 하나를 표현하는 임베딩 벡터의 차원 수입니다. \n",
    "\n",
    "gmp_model = tf.keras.Sequential()\n",
    "gmp_model.add(tf.keras.layers.Embedding(vocab_size, word_vector_dim, input_shape=(None,)))\n",
    "gmp_model.add(tf.keras.layers.GlobalMaxPooling1D())\n",
    "gmp_model.add(tf.keras.layers.Dense(8, activation='relu'))\n",
    "gmp_model.add(tf.keras.layers.Dense(1, activation='sigmoid'))  # 최종 출력은 긍정/부정을 나타내는 1dim 입니다.\n",
    "\n",
    "gmp_model.summary()"
   ]
  },
  {
   "cell_type": "code",
   "execution_count": 28,
   "id": "2b039427",
   "metadata": {},
   "outputs": [
    {
     "name": "stdout",
     "output_type": "stream",
     "text": [
      "Epoch 1/10\n",
      "229/229 [==============================] - 1s 4ms/step - loss: 0.6173 - accuracy: 0.7230 - val_loss: 0.4848 - val_accuracy: 0.8094\n",
      "Epoch 2/10\n",
      "229/229 [==============================] - 1s 4ms/step - loss: 0.4013 - accuracy: 0.8317 - val_loss: 0.3755 - val_accuracy: 0.8368\n",
      "Epoch 3/10\n",
      "229/229 [==============================] - 1s 4ms/step - loss: 0.3361 - accuracy: 0.8565 - val_loss: 0.3583 - val_accuracy: 0.8437\n",
      "Epoch 4/10\n",
      "229/229 [==============================] - 1s 3ms/step - loss: 0.3068 - accuracy: 0.8718 - val_loss: 0.3548 - val_accuracy: 0.8463\n",
      "Epoch 5/10\n",
      "229/229 [==============================] - 1s 3ms/step - loss: 0.2863 - accuracy: 0.8816 - val_loss: 0.3566 - val_accuracy: 0.8458\n",
      "Epoch 6/10\n",
      "229/229 [==============================] - 1s 4ms/step - loss: 0.2695 - accuracy: 0.8901 - val_loss: 0.3616 - val_accuracy: 0.8453\n",
      "Epoch 7/10\n",
      "229/229 [==============================] - 1s 4ms/step - loss: 0.2554 - accuracy: 0.8967 - val_loss: 0.3677 - val_accuracy: 0.8449\n",
      "Epoch 8/10\n",
      "229/229 [==============================] - 1s 4ms/step - loss: 0.2432 - accuracy: 0.9025 - val_loss: 0.3761 - val_accuracy: 0.8435\n",
      "Epoch 9/10\n",
      "229/229 [==============================] - 1s 4ms/step - loss: 0.2321 - accuracy: 0.9079 - val_loss: 0.3852 - val_accuracy: 0.8414\n",
      "Epoch 10/10\n",
      "229/229 [==============================] - 1s 4ms/step - loss: 0.2220 - accuracy: 0.9126 - val_loss: 0.3956 - val_accuracy: 0.8403\n"
     ]
    }
   ],
   "source": [
    "gmp_model.compile(optimizer='adam',\n",
    "              loss='binary_crossentropy',\n",
    "              metrics=['accuracy'])\n",
    "              \n",
    "epochs=10\n",
    "\n",
    "gmp_history = gmp_model.fit(partial_X_train,\n",
    "                    partial_y_train,\n",
    "                    epochs=epochs,\n",
    "                    batch_size=512,\n",
    "                    validation_data=(X_val, y_val),\n",
    "                    verbose=1)"
   ]
  },
  {
   "cell_type": "code",
   "execution_count": 29,
   "id": "ba9a558c",
   "metadata": {},
   "outputs": [
    {
     "name": "stdout",
     "output_type": "stream",
     "text": [
      "1537/1537 - 2s - loss: 0.4037 - accuracy: 0.8382\n",
      "[0.4036770164966583, 0.8382325768470764]\n"
     ]
    }
   ],
   "source": [
    "results = gmp_model.evaluate(X_test,  y_test, verbose=2)\n",
    "\n",
    "print(results)"
   ]
  },
  {
   "cell_type": "code",
   "execution_count": 30,
   "id": "257d2ab7",
   "metadata": {},
   "outputs": [
    {
     "data": {
      "image/png": "[encoded data removed]",
      "text/plain": [
       "<Figure size 432x288 with 1 Axes>"
      ]
     },
     "metadata": {
      "needs_background": "light"
     },
     "output_type": "display_data"
    }
   ],
   "source": [
    "gmp_history_dict = gmp_history.history\n",
    "\n",
    "import matplotlib.pyplot as plt\n",
    "\n",
    "acc = gmp_history_dict['accuracy']\n",
    "val_acc = gmp_history_dict['val_accuracy']\n",
    "loss = gmp_history_dict['loss']\n",
    "val_loss = gmp_history_dict['val_loss']\n",
    "\n",
    "epochs = range(1, len(acc) + 1)\n",
    "\n",
    "# \"bo\"는 \"파란색 점\"입니다\n",
    "plt.plot(epochs, loss, 'bo', label='Training loss')\n",
    "# b는 \"파란 실선\"입니다\n",
    "plt.plot(epochs, val_loss, 'b', label='Validation loss')\n",
    "plt.title('Training and validation loss')\n",
    "plt.xlabel('Epochs')\n",
    "plt.ylabel('Loss')\n",
    "plt.legend()\n",
    "\n",
    "plt.show()"
   ]
  },
  {
   "cell_type": "code",
   "execution_count": 31,
   "id": "9c26bebd",
   "metadata": {},
   "outputs": [
    {
     "data": {
      "image/png": "[encoded data removed]",
      "text/plain": [
       "<Figure size 432x288 with 1 Axes>"
      ]
     },
     "metadata": {
      "needs_background": "light"
     },
     "output_type": "display_data"
    }
   ],
   "source": [
    "plt.clf()   # 그림을 초기화합니다\n",
    "\n",
    "plt.plot(epochs, acc, 'bo', label='Training acc')\n",
    "plt.plot(epochs, val_acc, 'b', label='Validation acc')\n",
    "plt.title('Training and validation accuracy')\n",
    "plt.xlabel('Epochs')\n",
    "plt.ylabel('Accuracy')\n",
    "plt.legend()\n",
    "\n",
    "plt.show()"
   ]
  },
  {
   "cell_type": "code",
   "execution_count": 32,
   "id": "50f4184b",
   "metadata": {},
   "outputs": [
    {
     "name": "stdout",
     "output_type": "stream",
     "text": [
      "(10000, 16)\n"
     ]
    },
    {
     "data": {
      "text/plain": [
       "[('을', 0.9913325309753418),\n",
       " ('...', 0.9908831715583801),\n",
       " ('..', 0.9888812303543091),\n",
       " ('만드', 0.9846879839897156),\n",
       " ('같', 0.984250009059906),\n",
       " ('본', 0.9816907644271851),\n",
       " (',', 0.9814178347587585),\n",
       " ('언제', 0.9802953600883484),\n",
       " ('느낌', 0.9784504175186157),\n",
       " ('어', 0.9755862951278687)]"
      ]
     },
     "execution_count": 32,
     "metadata": {},
     "output_type": "execute_result"
    }
   ],
   "source": [
    "embedding_layer = gmp_model.layers[0]\n",
    "weights = embedding_layer.get_weights()[0]\n",
    "print(weights.shape)    # shape: (vocab_size, embedding_dim)\n",
    "\n",
    "# 학습한 Embedding 파라미터를 파일에 써서 저장합니다. \n",
    "word2vec_file_path = os.getenv('HOME')+'/aiffel/sentiment_classification/data/my_word2vec_gmp.txt'\n",
    "f = open(word2vec_file_path, 'w')\n",
    "f.write('{} {}\\n'.format(vocab_size-4, word_vector_dim))  # 몇개의 벡터를 얼마 사이즈로 기재할지 타이틀을 씁니다.\n",
    "\n",
    "# 단어 개수(에서 특수문자 4개는 제외하고)만큼의 워드 벡터를 파일에 기록합니다. \n",
    "vectors = gmp_model.get_weights()[0]\n",
    "for i in range(4,vocab_size):\n",
    "    f.write('{} {}\\n'.format(index_to_word[i], ' '.join(map(str, list(vectors[i, :])))))\n",
    "f.close()\n",
    "\n",
    "word_vectors = Word2VecKeyedVectors.load_word2vec_format(word2vec_file_path, binary=False)\n",
    "word_vectors.similar_by_word(\"영화\")"
   ]
  },
  {
   "cell_type": "markdown",
   "id": "db4e3ae1",
   "metadata": {},
   "source": [
    "### 세가지 모델을 사용해봤지만 영화와 관련된 문자가 나오지는 않았다.\n",
    "한글 Word2Vec을 활용해보자!  \n",
    "버전을 낮추지 않고 (gensim 4.1.2) 실행했떠니 오류가 났었다.  \n",
    "그래서 3.8.1점대로 낮추고 진행하엿다."
   ]
  },
  {
   "cell_type": "code",
   "execution_count": 12,
   "id": "4f4dcbab",
   "metadata": {},
   "outputs": [
    {
     "name": "stderr",
     "output_type": "stream",
     "text": [
      "/tmp/ipykernel_99/2032836925.py:6: DeprecationWarning: Call to deprecated `__getitem__` (Method will be removed in 4.0.0, use self.wv.__getitem__() instead).\n",
      "  vector = word2vec['영화']\n"
     ]
    },
    {
     "data": {
      "text/plain": [
       "array([-1.7577837 , -1.0874279 ,  1.5300866 , -0.1115231 , -0.37980682,\n",
       "        1.4828517 ,  1.3180419 ,  0.11094163,  0.7430535 , -0.45461136,\n",
       "        0.58841336,  0.5763913 ,  1.210707  ,  1.3132795 , -0.86962503,\n",
       "       -0.18507595, -0.47440064,  1.5100725 ,  1.0965794 ,  1.0600823 ,\n",
       "       -0.27457932, -0.70003706,  2.3117511 ,  1.4944884 ,  0.25560892,\n",
       "       -2.866659  , -0.28312334,  0.34263936, -0.67723423,  0.71714777,\n",
       "        0.25549442,  0.71732044, -0.13262457,  0.01792452, -0.3184774 ,\n",
       "        0.5271619 ,  0.7561084 , -2.1247065 ,  1.061429  , -0.21065854,\n",
       "        0.6877343 , -1.4956383 ,  0.60346967, -2.6955893 ,  0.37694618,\n",
       "       -1.0164185 ,  0.5430663 ,  0.1200121 , -2.6315718 ,  0.6216742 ,\n",
       "        1.1583976 , -2.5385962 ,  1.326312  , -0.10284371, -0.0286147 ,\n",
       "       -0.9132947 ,  0.7647564 ,  0.79202783, -1.8625957 , -0.7418395 ,\n",
       "        0.5884277 , -0.9917992 , -0.62114453,  1.5367815 , -0.6628939 ,\n",
       "        0.6712103 ,  0.12914915,  0.21228492,  0.9017655 , -0.25083402,\n",
       "        0.71500814,  0.08644514,  0.59993285,  0.5766137 ,  0.64095974,\n",
       "        0.47888306, -2.8426213 , -2.8502681 , -0.140544  , -1.5917364 ,\n",
       "        0.26691505,  0.59476066,  0.85868204,  1.0322351 ,  0.25671318,\n",
       "       -0.34831643,  1.752927  , -0.21967097, -0.77352476,  1.6995213 ,\n",
       "        1.3996491 , -0.9419836 ,  0.85996443, -1.8812876 , -2.5428605 ,\n",
       "        0.39351937, -1.2882805 ,  0.56548136,  1.006273  ,  1.2217585 ,\n",
       "        3.5744793 ,  1.717737  ,  1.6917158 , -2.2176905 , -0.3167447 ,\n",
       "        1.2449    , -1.255284  , -2.1539652 , -1.096709  , -0.74976933,\n",
       "       -0.16744931, -1.8507233 ,  2.1861036 , -0.05389732,  1.038033  ,\n",
       "        0.33730686, -1.4647075 , -1.264041  ,  0.25509247,  0.0622906 ,\n",
       "        0.27852032, -0.52661455,  0.8529616 ,  0.58257025, -0.57665855,\n",
       "        1.3990631 ,  0.28237963,  1.6566037 ,  1.9912103 ,  0.63888913,\n",
       "        0.7732426 , -1.3757724 ,  0.17209321, -0.2433672 ,  0.6328291 ,\n",
       "        1.486971  ,  2.3435354 , -1.7037928 ,  3.1944559 , -1.9049606 ,\n",
       "       -0.51309574,  0.79082954, -1.4480313 , -0.68631476,  0.62008876,\n",
       "       -2.3400223 , -0.5785594 ,  0.5270694 ,  3.0061607 , -1.3661511 ,\n",
       "       -2.7953272 , -1.1794031 , -0.27734265,  0.71130925, -0.06620383,\n",
       "        0.33663416,  0.7204997 , -0.923218  , -2.1603265 , -0.8904896 ,\n",
       "       -1.4137112 , -0.4189144 ,  0.42834592,  1.8104875 , -1.8274456 ,\n",
       "       -0.26700613,  0.7743727 ,  0.80048114,  1.1333636 ,  3.2746978 ,\n",
       "       -0.0188297 ,  0.9245737 , -0.1246058 , -0.5802861 , -0.01926111,\n",
       "        1.05892   , -1.4247856 ,  1.0689156 ,  2.5728712 , -1.294882  ,\n",
       "        0.74771804,  1.3066916 , -1.3213431 ,  1.6501019 , -0.12401557,\n",
       "        0.96340084,  0.26050946,  1.3826336 , -0.02877662,  2.3431563 ,\n",
       "       -0.26337367,  1.9162012 , -0.77454543,  1.7392642 ,  0.08038983,\n",
       "       -0.60325927,  0.29508227,  0.4812675 ,  0.5271086 ,  0.94171894],\n",
       "      dtype=float32)"
      ]
     },
     "execution_count": 12,
     "metadata": {},
     "output_type": "execute_result"
    }
   ],
   "source": [
    "import gensim\n",
    "\n",
    "word2vec_path = os.getenv('HOME')+'/aiffel/sentiment_classification/data/ko.bin'\n",
    "\n",
    "word2vec = gensim.models.Word2Vec.load(word2vec_path)\n",
    "vector = word2vec['영화']\n",
    "vector"
   ]
  },
  {
   "cell_type": "markdown",
   "id": "31a9f277",
   "metadata": {},
   "source": [
    "### 미리 학습된 벡터를 이용하니 그래도 유사한 단어들이 나왔다."
   ]
  },
  {
   "cell_type": "code",
   "execution_count": 13,
   "id": "2bab3034",
   "metadata": {
    "scrolled": false
   },
   "outputs": [
    {
     "name": "stderr",
     "output_type": "stream",
     "text": [
      "/tmp/ipykernel_99/2210671227.py:1: DeprecationWarning: Call to deprecated `similar_by_word` (Method will be removed in 4.0.0, use self.wv.similar_by_word() instead).\n",
      "  word2vec.similar_by_word(\"영화\")\n"
     ]
    },
    {
     "data": {
      "text/plain": [
       "[('다큐멘터리', 0.7265259027481079),\n",
       " ('영화사', 0.715214192867279),\n",
       " ('드라마', 0.705294132232666),\n",
       " ('뮤지컬', 0.6947016716003418),\n",
       " ('코미디', 0.69093257188797),\n",
       " ('영화인', 0.6702202558517456),\n",
       " ('서부극', 0.6571458578109741),\n",
       " ('스릴러', 0.6533164978027344),\n",
       " ('로맨스', 0.6428799629211426),\n",
       " ('애니메이션', 0.6425570249557495)]"
      ]
     },
     "execution_count": 13,
     "metadata": {},
     "output_type": "execute_result"
    }
   ],
   "source": [
    "word2vec.similar_by_word(\"영화\")"
   ]
  },
  {
   "cell_type": "markdown",
   "id": "04d4cb45",
   "metadata": {},
   "source": [
    "### Word2Vec을 이용해서 모델 학습하기"
   ]
  },
  {
   "cell_type": "code",
   "execution_count": 15,
   "id": "a3482af3",
   "metadata": {},
   "outputs": [
    {
     "name": "stderr",
     "output_type": "stream",
     "text": [
      "/tmp/ipykernel_99/1730871920.py:7: DeprecationWarning: Call to deprecated `__contains__` (Method will be removed in 4.0.0, use self.wv.__contains__() instead).\n",
      "  if index_to_word[i] in word2vec:\n",
      "/tmp/ipykernel_99/1730871920.py:8: DeprecationWarning: Call to deprecated `__getitem__` (Method will be removed in 4.0.0, use self.wv.__getitem__() instead).\n",
      "  embedding_matrix[i] = word2vec[index_to_word[i]]\n"
     ]
    }
   ],
   "source": [
    "vocab_size = 10000    # 어휘 사전의 크기입니다(10,000개의 단어)\n",
    "word_vector_dim = 200  # 워드 벡터의 차원수\n",
    "embedding_matrix = np.random.rand(vocab_size, word_vector_dim)\n",
    "\n",
    "# embedding_matrix에 Word2Vec 워드 벡터를 단어 하나씩마다 차례차례 카피한다.\n",
    "for i in range(4,vocab_size):\n",
    "    if index_to_word[i] in word2vec:\n",
    "        embedding_matrix[i] = word2vec[index_to_word[i]]"
   ]
  },
  {
   "cell_type": "code",
   "execution_count": 35,
   "id": "324109f5",
   "metadata": {
    "scrolled": true
   },
   "outputs": [
    {
     "name": "stdout",
     "output_type": "stream",
     "text": [
      "WARNING:tensorflow:Layer lstm_1 will not use cuDNN kernels since it doesn't meet the criteria. It will use a generic GPU kernel as fallback when running on GPU.\n",
      "Model: \"sequential_5\"\n",
      "_________________________________________________________________\n",
      "Layer (type)                 Output Shape              Param #   \n",
      "=================================================================\n",
      "embedding_4 (Embedding)      (None, 41, 200)           2000000   \n",
      "_________________________________________________________________\n",
      "lstm_1 (LSTM)                (None, 48)                47808     \n",
      "_________________________________________________________________\n",
      "dense_4 (Dense)              (None, 8)                 392       \n",
      "_________________________________________________________________\n",
      "dense_5 (Dense)              (None, 1)                 9         \n",
      "=================================================================\n",
      "Total params: 2,048,209\n",
      "Trainable params: 2,048,209\n",
      "Non-trainable params: 0\n",
      "_________________________________________________________________\n"
     ]
    }
   ],
   "source": [
    "from tensorflow.keras.initializers import Constant\n",
    "\n",
    "# 모델 구성\n",
    "W2V_model = tf.keras.Sequential()\n",
    "W2V_model.add(tf.keras.layers.Embedding(vocab_size, \n",
    "                                 word_vector_dim, \n",
    "                                 embeddings_initializer=Constant(embedding_matrix),  # 카피한 임베딩을 여기서 활용\n",
    "                                 input_length=maxlen, \n",
    "                                 trainable=True))   # trainable을 True로 주면 Fine-tuning\n",
    "\n",
    "W2V_model.add(tf.keras.layers.LSTM(48, activation='relu'))\n",
    "W2V_model.add(tf.keras.layers.Dense(8, activation='relu'))\n",
    "W2V_model.add(tf.keras.layers.Dense(1, activation='sigmoid')) \n",
    "\n",
    "W2V_model.summary()"
   ]
  },
  {
   "cell_type": "code",
   "execution_count": 36,
   "id": "ea143a7d",
   "metadata": {
    "scrolled": false
   },
   "outputs": [
    {
     "name": "stdout",
     "output_type": "stream",
     "text": [
      "Epoch 1/10\n",
      "229/229 [==============================] - 19s 77ms/step - loss: 0.4894 - accuracy: 0.7555 - val_loss: 0.3957 - val_accuracy: 0.8212\n",
      "Epoch 2/10\n",
      "229/229 [==============================] - 17s 76ms/step - loss: 0.3511 - accuracy: 0.8469 - val_loss: 0.3453 - val_accuracy: 0.8480\n",
      "Epoch 3/10\n",
      "229/229 [==============================] - 17s 75ms/step - loss: 0.3044 - accuracy: 0.8707 - val_loss: 0.3293 - val_accuracy: 0.8585\n",
      "Epoch 4/10\n",
      "229/229 [==============================] - 17s 76ms/step - loss: 0.2786 - accuracy: 0.8836 - val_loss: 0.3265 - val_accuracy: 0.8610\n",
      "Epoch 5/10\n",
      "229/229 [==============================] - 17s 75ms/step - loss: 0.2595 - accuracy: 0.8922 - val_loss: 0.3271 - val_accuracy: 0.8611\n",
      "Epoch 6/10\n",
      "229/229 [==============================] - 17s 76ms/step - loss: 0.2401 - accuracy: 0.9024 - val_loss: 0.3303 - val_accuracy: 0.8648\n",
      "Epoch 7/10\n",
      "229/229 [==============================] - 17s 75ms/step - loss: 0.2230 - accuracy: 0.9108 - val_loss: 0.3559 - val_accuracy: 0.8531\n",
      "Epoch 8/10\n",
      "229/229 [==============================] - 17s 76ms/step - loss: 0.2060 - accuracy: 0.9186 - val_loss: 0.3501 - val_accuracy: 0.8630\n",
      "Epoch 9/10\n",
      "229/229 [==============================] - 17s 75ms/step - loss: 0.1871 - accuracy: 0.9275 - val_loss: 0.3690 - val_accuracy: 0.8615\n",
      "Epoch 10/10\n",
      "229/229 [==============================] - 17s 75ms/step - loss: 0.1741 - accuracy: 0.9329 - val_loss: 0.3940 - val_accuracy: 0.8583\n"
     ]
    }
   ],
   "source": [
    "# 학습의 진행\n",
    "W2V_model.compile(optimizer='adam',\n",
    "              loss='binary_crossentropy',\n",
    "              metrics=['accuracy'])\n",
    "              \n",
    "epochs=10  # 몇 epoch를 훈련하면 좋을지 결과를 보면서 바꾸어 봅시다. \n",
    "\n",
    "W2V_history = W2V_model.fit(partial_X_train,\n",
    "                    partial_y_train,\n",
    "                    epochs=epochs,\n",
    "                    batch_size=512,\n",
    "                    validation_data=(X_val, y_val),\n",
    "                    verbose=1)"
   ]
  },
  {
   "cell_type": "code",
   "execution_count": 37,
   "id": "dfb66b67",
   "metadata": {},
   "outputs": [
    {
     "name": "stdout",
     "output_type": "stream",
     "text": [
      "1537/1537 - 10s - loss: 0.4098 - accuracy: 0.8535\n",
      "[0.4097968339920044, 0.8534694910049438]\n"
     ]
    }
   ],
   "source": [
    "# 테스트셋을 통한 모델 평가\n",
    "results = W2V_model.evaluate(X_test,  y_test, verbose=2)\n",
    "\n",
    "print(results)"
   ]
  },
  {
   "cell_type": "code",
   "execution_count": 38,
   "id": "42b0de20",
   "metadata": {},
   "outputs": [
    {
     "data": {
      "image/png": "[encoded data removed]",
      "text/plain": [
       "<Figure size 432x288 with 1 Axes>"
      ]
     },
     "metadata": {
      "needs_background": "light"
     },
     "output_type": "display_data"
    }
   ],
   "source": [
    "W2V_history_dict = W2V_history.history\n",
    "\n",
    "import matplotlib.pyplot as plt\n",
    "\n",
    "acc = W2V_history_dict['accuracy']\n",
    "val_acc = W2V_history_dict['val_accuracy']\n",
    "loss = W2V_history_dict['loss']\n",
    "val_loss = W2V_history_dict['val_loss']\n",
    "\n",
    "epochs = range(1, len(acc) + 1)\n",
    "\n",
    "# \"bo\"는 \"파란색 점\"입니다\n",
    "plt.plot(epochs, loss, 'bo', label='Training loss')\n",
    "# b는 \"파란 실선\"입니다\n",
    "plt.plot(epochs, val_loss, 'b', label='Validation loss')\n",
    "plt.title('Training and validation loss')\n",
    "plt.xlabel('Epochs')\n",
    "plt.ylabel('Loss')\n",
    "plt.legend()\n",
    "\n",
    "plt.show()"
   ]
  },
  {
   "cell_type": "code",
   "execution_count": 39,
   "id": "f849da54",
   "metadata": {
    "scrolled": false
   },
   "outputs": [
    {
     "data": {
      "image/png": "[encoded data removed]",
      "text/plain": [
       "<Figure size 432x288 with 1 Axes>"
      ]
     },
     "metadata": {
      "needs_background": "light"
     },
     "output_type": "display_data"
    }
   ],
   "source": [
    "plt.clf()   # 그림을 초기화합니다\n",
    "\n",
    "plt.plot(epochs, acc, 'bo', label='Training acc')\n",
    "plt.plot(epochs, val_acc, 'b', label='Validation acc')\n",
    "plt.title('Training and validation accuracy')\n",
    "plt.xlabel('Epochs')\n",
    "plt.ylabel('Accuracy')\n",
    "plt.legend()\n",
    "\n",
    "plt.show()"
   ]
  },
  {
   "cell_type": "code",
   "execution_count": 41,
   "id": "2ed8559f",
   "metadata": {},
   "outputs": [
    {
     "name": "stdout",
     "output_type": "stream",
     "text": [
      "(10000, 200)\n"
     ]
    }
   ],
   "source": [
    "embedding_layer = W2V_model.layers[0]\n",
    "weights = embedding_layer.get_weights()[0]\n",
    "print(weights.shape)    # shape: (vocab_size, embedding_dim)\n",
    "\n",
    "# 학습한 Embedding 파라미터를 파일에 써서 저장합니다. \n",
    "word2vec_file_path = os.getenv('HOME')+'/aiffel/sentiment_classification/data/my_word2vec_W2V.txt'\n",
    "f = open(word2vec_file_path, 'w')\n",
    "f.write('{} {}\\n'.format(vocab_size-4, word_vector_dim))  # 몇개의 벡터를 얼마 사이즈로 기재할지 타이틀을 씁니다.\n",
    "\n",
    "# 단어 개수(에서 특수문자 4개는 제외하고)만큼의 워드 벡터를 파일에 기록합니다. \n",
    "vectors = W2V_model.get_weights()[0]\n",
    "for i in range(4,vocab_size):\n",
    "    f.write('{} {}\\n'.format(index_to_word[i], ' '.join(map(str, list(vectors[i, :])))))\n",
    "f.close()\n",
    "\n",
    "word_vectors = Word2VecKeyedVectors.load_word2vec_format(word2vec_file_path, binary=False)"
   ]
  },
  {
   "cell_type": "code",
   "execution_count": 42,
   "id": "b0740b34",
   "metadata": {},
   "outputs": [
    {
     "data": {
      "text/plain": [
       "[('다큐멘터리', 0.7283183932304382),\n",
       " ('영화사', 0.7134581208229065),\n",
       " ('드라마', 0.6989931464195251),\n",
       " ('뮤지컬', 0.6934480667114258),\n",
       " ('코미디', 0.6843423843383789),\n",
       " ('영화인', 0.6625460386276245),\n",
       " ('스릴러', 0.6605284810066223),\n",
       " ('애니메이션', 0.638838529586792),\n",
       " ('로맨스', 0.6348001956939697),\n",
       " ('시트콤', 0.6181972026824951)]"
      ]
     },
     "execution_count": 42,
     "metadata": {},
     "output_type": "execute_result"
    }
   ],
   "source": [
    "word_vectors.similar_by_word(\"영화\")"
   ]
  },
  {
   "cell_type": "code",
   "execution_count": 43,
   "id": "a2e24e08",
   "metadata": {},
   "outputs": [
    {
     "data": {
      "text/plain": [
       "[('이만', 0.4694383442401886),\n",
       " ('삽입곡', 0.46221593022346497),\n",
       " ('하이라이트', 0.4596475660800934),\n",
       " ('ㅠㅠ', 0.4592939019203186),\n",
       " ('여운', 0.4485509395599365),\n",
       " ('후편', 0.44719362258911133),\n",
       " ('보람', 0.44626039266586304),\n",
       " ('절규', 0.44622570276260376),\n",
       " ('재밌', 0.4442387819290161),\n",
       " ('울림', 0.4441693127155304)]"
      ]
     },
     "execution_count": 43,
     "metadata": {},
     "output_type": "execute_result"
    }
   ],
   "source": [
    "word_vectors.similar_by_word(\"대박\")"
   ]
  },
  {
   "cell_type": "code",
   "execution_count": 44,
   "id": "aaf225f2",
   "metadata": {},
   "outputs": [
    {
     "data": {
      "text/plain": [
       "[('그다지', 0.5364997982978821),\n",
       " ('따로', 0.49396246671676636),\n",
       " ('전혀', 0.4821472465991974),\n",
       " ('딱히', 0.4795222282409668),\n",
       " ('별반', 0.4722910523414612),\n",
       " ('마다', 0.46448707580566406),\n",
       " ('별', 0.43834179639816284),\n",
       " ('각', 0.43156740069389343),\n",
       " ('다소', 0.3967580199241638),\n",
       " ('대체로', 0.39293810725212097)]"
      ]
     },
     "execution_count": 44,
     "metadata": {},
     "output_type": "execute_result"
    }
   ],
   "source": [
    "word_vectors.similar_by_word(\"별로\")"
   ]
  },
  {
   "cell_type": "code",
   "execution_count": 45,
   "id": "e567c0ae",
   "metadata": {},
   "outputs": [
    {
     "data": {
      "text/plain": [
       "[('취미', 0.5773895978927612),\n",
       " ('매력', 0.5613220930099487),\n",
       " ('유머', 0.5177605748176575),\n",
       " ('흥미', 0.5098336935043335),\n",
       " ('향수', 0.4934113621711731),\n",
       " ('즐거움', 0.47398313879966736),\n",
       " ('개그', 0.4718540906906128),\n",
       " ('말투', 0.4639205038547516),\n",
       " ('카리스마', 0.4590345621109009),\n",
       " ('호기심', 0.45643192529678345)]"
      ]
     },
     "execution_count": 45,
     "metadata": {},
     "output_type": "execute_result"
    }
   ],
   "source": [
    "word_vectors.similar_by_word(\"재미\")"
   ]
  },
  {
   "cell_type": "code",
   "execution_count": 47,
   "id": "991518ec",
   "metadata": {},
   "outputs": [
    {
     "data": {
      "text/plain": [
       "[('당황', 0.7323004007339478),\n",
       " ('분노', 0.677782416343689),\n",
       " ('경악', 0.672283411026001),\n",
       " ('원망', 0.5859050154685974),\n",
       " ('후회', 0.5831568241119385),\n",
       " ('걱정', 0.5687434077262878),\n",
       " ('감동', 0.5684541463851929),\n",
       " ('무식', 0.565112829208374),\n",
       " ('조심', 0.5573939085006714),\n",
       " ('열광', 0.5551813840866089)]"
      ]
     },
     "execution_count": 47,
     "metadata": {},
     "output_type": "execute_result"
    }
   ],
   "source": [
    "word_vectors.similar_by_word(\"실망\")"
   ]
  },
  {
   "cell_type": "markdown",
   "id": "29be2ad4",
   "metadata": {},
   "source": [
    "## 회고"
   ]
  },
  {
   "cell_type": "markdown",
   "id": "a724df59",
   "metadata": {},
   "source": [
    "이번 Exploration에서는 내가 만든 워드 벡터와 전이학습을 통해 만든 벡터의 차이점을 알 수 있는 섹션이였다.  \n",
    "내가 만든 벡터는 단순히 자주 나온 순으로 정렬을해서 벡터화를 시켜서 그런지는 몰라도 \"영화\" 라는 단어에 엉뚱한 값들이 나왔다.  \n",
    "이를 바탕으로 세가지 모델로 학습을 해서 정확도가 약 80~83%가 나왓지만, 결과는 엉뚱한 값이 나왔다.  \n",
    "하지만 한국어 word2vec을 이용해서 의미가 유사한 단어들을 뽑으니 납득이 갈만한 단어들이 나왔다.  \n",
    "\n",
    "Exploration 중간에 나온 에뛰드하우스의 경우처럼 영화에서 자주 나오는 말이나, 신조어 사전들을 추가한다면 어떻게 될지 궁금하다.  \n",
    "아직은 코드의 흐름을 이해하기에 급급해서 추가적인 실험은 하지 못했지만, 앞으로 열심히 배워서 사전을 추가한던가, 불용어를 좀 더 추가하거 수정해서 좀더 나은 성능을 가진 모델을 해봐야겠다."
   ]
  }
 ],
 "metadata": {
  "kernelspec": {
   "display_name": "Python 3 (ipykernel)",
   "language": "python",
   "name": "python3"
  },
  "language_info": {
   "codemirror_mode": {
    "name": "ipython",
    "version": 3
   },
   "file_extension": ".py",
   "mimetype": "text/x-python",
   "name": "python",
   "nbconvert_exporter": "python",
   "pygments_lexer": "ipython3",
   "version": "3.9.7"
  }
 },
 "nbformat": 4,
 "nbformat_minor": 5
}
