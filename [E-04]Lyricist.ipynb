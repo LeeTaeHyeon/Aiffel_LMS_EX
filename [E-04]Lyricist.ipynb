{
 "cells": [
  {
   "cell_type": "markdown",
   "id": "ed160891",
   "metadata": {},
   "source": [
    "# 데이터 전처리"
   ]
  },
  {
   "cell_type": "markdown",
   "id": "6ca23d67",
   "metadata": {},
   "source": [
    "## 데이터 불러오기"
   ]
  },
  {
   "cell_type": "code",
   "execution_count": 1,
   "id": "da53f42a",
   "metadata": {},
   "outputs": [],
   "source": [
    "import glob\n",
    "import os, re\n",
    "import numpy as np\n",
    "import tensorflow as tf\n",
    "from sklearn.model_selection import train_test_split\n",
    "\n",
    "import time\n",
    "import matplotlib.pyplot as plt"
   ]
  },
  {
   "cell_type": "code",
   "execution_count": 8,
   "id": "da8eaa03",
   "metadata": {
    "scrolled": true
   },
   "outputs": [
    {
     "name": "stdout",
     "output_type": "stream",
     "text": [
      "데이터 크기: 187088\n",
      "Examples:\n",
      " [\"Now I've heard there was a secret chord\", 'That David played, and it pleased the Lord', \"But you don't really care for music, do you?\"]\n"
     ]
    }
   ],
   "source": [
    "txt_file_path = os.getenv('HOME')+'/aiffel/lyricist/data/lyrics/*'\n",
    "\n",
    "txt_list = glob.glob(txt_file_path)\n",
    "\n",
    "raw_corpus = []\n",
    "\n",
    "# 여러개의 txt 파일을 모두 읽어서 raw_corpus 에 담습니다.\n",
    "for txt_file in txt_list:\n",
    "    with open(txt_file, \"r\") as f:\n",
    "        raw = f.read().splitlines()\n",
    "        raw_corpus.extend(raw)\n",
    "\n",
    "print(\"데이터 크기:\", len(raw_corpus))\n",
    "print(\"Examples:\\n\", raw_corpus[:3])"
   ]
  },
  {
   "cell_type": "markdown",
   "id": "a11ba281",
   "metadata": {},
   "source": [
    "### 데이터 확인하기\n",
    "데이터 정제를 위해 훑어본다.  \n",
    "시작이 괄호거나, 따옴표로 시작하는 문장을 카운트 해본다."
   ]
  },
  {
   "cell_type": "code",
   "execution_count": 9,
   "id": "478141fb",
   "metadata": {
    "scrolled": false
   },
   "outputs": [
    {
     "name": "stdout",
     "output_type": "stream",
     "text": [
      "6294\n"
     ]
    }
   ],
   "source": [
    "count = 0;\n",
    "for i, text in enumerate(raw_corpus):\n",
    "    if len(text) == 0: continue\n",
    "    if text[0] == '(' or text[0] == '[' or text[0] == '\"' or text[0] == \"'\":\n",
    "        count += 1\n",
    "        \n",
    "print(count)"
   ]
  },
  {
   "cell_type": "markdown",
   "id": "39991917",
   "metadata": {},
   "source": [
    "### ()소괄호, []대괄호, \"(큰따옴표) 삭제하기\n"
   ]
  },
  {
   "cell_type": "markdown",
   "id": "3aa5fcd6",
   "metadata": {},
   "source": [
    "### 데이터를 토큰화 할수 있게 정재하기"
   ]
  },
  {
   "cell_type": "code",
   "execution_count": 10,
   "id": "4eaf30ee",
   "metadata": {},
   "outputs": [],
   "source": [
    "# 1. 공백제거\n",
    "# 2. 특수문자 양 옆에 공백 넣기\n",
    "# 3. 여러 공백을 한개의 공백으로\n",
    "# 4. 문자, 특수문자가 아닌것들을 공백으로\n",
    "# 5. 좌우 공백 제거\n",
    "# 6. 문장 양옆에 start , end 토큰 넣기\n",
    "# 7. 토큰이 15개가 넘어가면 문장 제외하기\n",
    "\n",
    "def preprocess_sentence(sentence):\n",
    "    sentence = sentence.lower().strip() # 1\n",
    "    sentence = re.sub(r\"([?.!,¿\\)\\(\\\"])\", r\" \\1 \", sentence) # 2\n",
    "    sentence = re.sub(r'[\" \"]+', \" \", sentence) # 3\n",
    "    sentence = re.sub(r\"[^a-zA-Z?.!,¿\\)\\(\\\"]+\", \" \", sentence) # 4\n",
    "    sentence = sentence.strip() # 5\n",
    "    sentence = '<start> ' + sentence + ' <end>' # 6\n",
    "    \n",
    "    if len(sentence.split()) > 15: # 7\n",
    "        return None;\n",
    "    return sentence\n",
    "\n",
    "corpus = []\n",
    "for sentence in raw_corpus:\n",
    "    # 길이가 0이면 pass\n",
    "    if len(sentence) == 0: continue\n",
    "        \n",
    "    preprocessed_sentence = preprocess_sentence(sentence)\n",
    "    \n",
    "    # 토큰이 15개가 넘어가서 안나왔으면 pass\n",
    "    if preprocessed_sentence == None:\n",
    "        continue\n",
    "    \n",
    "    corpus.append(preprocessed_sentence)\n"
   ]
  },
  {
   "cell_type": "code",
   "execution_count": 6,
   "id": "c465ac6a",
   "metadata": {},
   "outputs": [
    {
     "name": "stdout",
     "output_type": "stream",
     "text": [
      "['<start> now i ve heard there was a secret chord <end>', '<start> that david played , and it pleased the lord <end>', '<start> but you don t really care for music , do you ? <end>']\n",
      "155031\n"
     ]
    }
   ],
   "source": [
    "print(corpus[:3])\n",
    "print(len(corpus))"
   ]
  },
  {
   "cell_type": "markdown",
   "id": "19391f96",
   "metadata": {},
   "source": [
    "### 토큰화 및 데이터 분리"
   ]
  },
  {
   "cell_type": "code",
   "execution_count": 11,
   "id": "1f6c8922",
   "metadata": {},
   "outputs": [],
   "source": [
    "def tokenize(corpus):\n",
    "    # tokenizer 설정\n",
    "    tokenizer = tf.keras.preprocessing.text.Tokenizer(\n",
    "        # 단어수 12000개\n",
    "        num_words=12000, \n",
    "        filters=' ',\n",
    "        oov_token=\"<unk>\"\n",
    "    )\n",
    "    \n",
    "    # 단어장 만들기\n",
    "    tokenizer.fit_on_texts(corpus)\n",
    "    \n",
    "    # tokenizer를 이용해 tensor로 변환\n",
    "    tensor = tokenizer.texts_to_sequences(corpus)\n",
    "    \n",
    "    # 시퀀스 길이 일정하게 해주기, 패딩을 붙여 길이를 맞춘다.\n",
    "    tensor = tf.keras.preprocessing.sequence.pad_sequences(tensor, padding='post')\n",
    "    \n",
    "    return tensor, tokenizer\n",
    "\n",
    "tensor, tokenizer = tokenize(corpus)"
   ]
  },
  {
   "cell_type": "code",
   "execution_count": 8,
   "id": "71ab2876",
   "metadata": {},
   "outputs": [
    {
     "name": "stdout",
     "output_type": "stream",
     "text": [
      "[[   2   52    4   97  302   63   54    9  946 6242    3    0    0    0\n",
      "     0]\n",
      " [   2   15 2949  873    5    8   11 5727    6  372    3    0    0    0\n",
      "     0]\n",
      " [   2   35    7   42   16  168  287   30  340    5   49    7   48    3\n",
      "     0]]\n",
      "(155031, 15)\n"
     ]
    }
   ],
   "source": [
    "print(tensor[:3, :15] )\n",
    "print(tensor.shape)"
   ]
  },
  {
   "cell_type": "code",
   "execution_count": 13,
   "id": "3e074d89",
   "metadata": {},
   "outputs": [],
   "source": [
    "# source input\n",
    "source_input = tensor[:,:-1]\n",
    "# target output\n",
    "target_input = tensor[:, 1:]"
   ]
  },
  {
   "cell_type": "code",
   "execution_count": 10,
   "id": "5d087a9c",
   "metadata": {},
   "outputs": [
    {
     "name": "stdout",
     "output_type": "stream",
     "text": [
      "[   2   52    4   97  302   63   54    9  946 6242    3    0    0    0]\n",
      "[  52    4   97  302   63   54    9  946 6242    3    0    0    0    0]\n"
     ]
    }
   ],
   "source": [
    "print(source_input[0])\n",
    "print(target_input[0])"
   ]
  },
  {
   "cell_type": "markdown",
   "id": "525f7b6d",
   "metadata": {},
   "source": [
    "### enc(train)과 enc(test)로 데이터 나누기"
   ]
  },
  {
   "cell_type": "code",
   "execution_count": 14,
   "id": "9a3be1b3",
   "metadata": {},
   "outputs": [],
   "source": [
    "enc_train, enc_val, dec_train, dec_val = train_test_split(source_input, target_input, \n",
    "                                                          test_size=0.2,  \n",
    "                                                          random_state=34)"
   ]
  },
  {
   "cell_type": "code",
   "execution_count": 12,
   "id": "ce15fdcb",
   "metadata": {},
   "outputs": [
    {
     "name": "stdout",
     "output_type": "stream",
     "text": [
      "Source Train: (124024, 14)\n",
      "Target Train: (124024, 14)\n"
     ]
    }
   ],
   "source": [
    "print(\"Source Train:\", enc_train.shape)\n",
    "print(\"Target Train:\", dec_train.shape)"
   ]
  },
  {
   "cell_type": "markdown",
   "id": "a8114e1f",
   "metadata": {},
   "source": [
    "### 데이터 객체 생성"
   ]
  },
  {
   "cell_type": "code",
   "execution_count": 15,
   "id": "04996e78",
   "metadata": {
    "scrolled": true
   },
   "outputs": [
    {
     "data": {
      "text/plain": [
       "<BatchDataset shapes: ((256, 14), (256, 14)), types: (tf.int32, tf.int32)>"
      ]
     },
     "execution_count": 15,
     "metadata": {},
     "output_type": "execute_result"
    }
   ],
   "source": [
    "BUFFER_SIZE = len(source_input)\n",
    "BATCH_SIZE = 256\n",
    "\n",
    "dataset = tf.data.Dataset.from_tensor_slices((enc_train, dec_train)) \\\n",
    "                        .shuffle(BUFFER_SIZE) \\\n",
    "                        .batch(BATCH_SIZE, drop_remainder=True)\n",
    "dataset"
   ]
  },
  {
   "cell_type": "markdown",
   "id": "7cd53a98",
   "metadata": {},
   "source": [
    "# 모델 구성"
   ]
  },
  {
   "cell_type": "code",
   "execution_count": 14,
   "id": "8d9e36a9",
   "metadata": {},
   "outputs": [],
   "source": [
    "class TextGenerator(tf.keras.Model):\n",
    "    def __init__(self, vocab_size, embedding_size, hidden_size):\n",
    "        super().__init__()\n",
    "        \n",
    "        self.embedding = tf.keras.layers.Embedding(vocab_size, embedding_size)\n",
    "        self.rnn_1 = tf.keras.layers.LSTM(hidden_size, return_sequences=True)\n",
    "        self.rnn_2 = tf.keras.layers.LSTM(hidden_size, return_sequences=True)\n",
    "        self.linear = tf.keras.layers.Dense(vocab_size)\n",
    "        \n",
    "    def call(self, x):\n",
    "        out = self.embedding(x)\n",
    "        out = self.rnn_1(out)\n",
    "        out = self.rnn_2(out)\n",
    "        out = self.linear(out)\n",
    "        \n",
    "        return out  \n"
   ]
  },
  {
   "cell_type": "markdown",
   "id": "6f48b38d",
   "metadata": {},
   "source": [
    "### 3) 모델 학습\n",
    "이번 Exploration에서 제공한 loss 함수를 사용한다.\n",
    "Embedding Size와 Hidden Size를 조절해 10 epoch 안에 val_loss값을 2.2수준으로 줄이는 모델을 설계하자!  \n",
    "\n",
    "val_loss 값을 확인하려면 fit() 파라미터에 validation_data를 넣어주어야 한다."
   ]
  },
  {
   "cell_type": "markdown",
   "id": "378f019c",
   "metadata": {},
   "source": [
    "### embedding_size = 256, hidden_size = 1024"
   ]
  },
  {
   "cell_type": "code",
   "execution_count": 47,
   "id": "0a0ff547",
   "metadata": {},
   "outputs": [],
   "source": [
    "embedding_size = 256\n",
    "hidden_size = 1024\n",
    "model1 = TextGenerator(tokenizer.num_words + 1, embedding_size , hidden_size)"
   ]
  },
  {
   "cell_type": "code",
   "execution_count": 48,
   "id": "93deff40",
   "metadata": {
    "scrolled": true
   },
   "outputs": [
    {
     "name": "stdout",
     "output_type": "stream",
     "text": [
      "Model: \"text_generator_5\"\n",
      "_________________________________________________________________\n",
      "Layer (type)                 Output Shape              Param #   \n",
      "=================================================================\n",
      "embedding_5 (Embedding)      multiple                  3072256   \n",
      "_________________________________________________________________\n",
      "lstm_10 (LSTM)               multiple                  5246976   \n",
      "_________________________________________________________________\n",
      "lstm_11 (LSTM)               multiple                  8392704   \n",
      "_________________________________________________________________\n",
      "dense_5 (Dense)              multiple                  12301025  \n",
      "=================================================================\n",
      "Total params: 29,012,961\n",
      "Trainable params: 29,012,961\n",
      "Non-trainable params: 0\n",
      "_________________________________________________________________\n"
     ]
    }
   ],
   "source": [
    "# 데이터셋에서 데이터 한 배치만 불러와서, 데이터 모델에 넣는다.\n",
    "for src_sample, tgt_sample in dataset.take(1): break\n",
    "model1(src_sample)\n",
    "model1.summary()"
   ]
  },
  {
   "cell_type": "code",
   "execution_count": 51,
   "id": "f3362055",
   "metadata": {
    "scrolled": false
   },
   "outputs": [
    {
     "name": "stdout",
     "output_type": "stream",
     "text": [
      "Epoch 1/10\n",
      "484/484 [==============================] - 101s 204ms/step - loss: 3.1953 - val_loss: 2.9898\n",
      "Epoch 2/10\n",
      "484/484 [==============================] - 99s 204ms/step - loss: 2.8190 - val_loss: 2.7897\n",
      "Epoch 3/10\n",
      "484/484 [==============================] - 99s 204ms/step - loss: 2.5948 - val_loss: 2.6697\n",
      "Epoch 4/10\n",
      "484/484 [==============================] - 99s 205ms/step - loss: 2.4036 - val_loss: 2.5801\n",
      "Epoch 5/10\n",
      "484/484 [==============================] - 99s 204ms/step - loss: 2.2348 - val_loss: 2.5144\n",
      "Epoch 6/10\n",
      "484/484 [==============================] - 99s 203ms/step - loss: 2.0841 - val_loss: 2.4618\n",
      "Epoch 7/10\n",
      "484/484 [==============================] - 99s 205ms/step - loss: 1.9486 - val_loss: 2.4213\n",
      "Epoch 8/10\n",
      "484/484 [==============================] - 99s 204ms/step - loss: 1.8261 - val_loss: 2.3917\n",
      "Epoch 9/10\n",
      "484/484 [==============================] - 99s 205ms/step - loss: 1.7146 - val_loss: 2.3681\n",
      "Epoch 10/10\n",
      "484/484 [==============================] - 99s 204ms/step - loss: 1.6126 - val_loss: 2.3499\n"
     ]
    }
   ],
   "source": [
    "start = time.time()\n",
    "\n",
    "#Loss\n",
    "loss = tf.keras.losses.SparseCategoricalCrossentropy(\n",
    "    from_logits=True, reduction='none')\n",
    "# optimizer\n",
    "optimizer = tf.keras.optimizers.Adam()\n",
    "\n",
    "model1.compile(loss=loss, optimizer=optimizer)\n",
    "history1 = model1.fit(dataset, epochs=10, validation_data = (enc_val, dec_val))\n",
    "\n",
    "end = time.time()"
   ]
  },
  {
   "cell_type": "code",
   "execution_count": 53,
   "id": "cbfabbc0",
   "metadata": {},
   "outputs": [
    {
     "name": "stdout",
     "output_type": "stream",
     "text": [
      "990.9419877529144 sec\n"
     ]
    },
    {
     "data": {
      "text/plain": [
       "<function matplotlib.pyplot.show(close=None, block=None)>"
      ]
     },
     "execution_count": 53,
     "metadata": {},
     "output_type": "execute_result"
    },
    {
     "data": {
      "image/png": "[encoded data removed]",
      "text/plain": [
       "<Figure size 432x288 with 1 Axes>"
      ]
     },
     "metadata": {
      "needs_background": "light"
     },
     "output_type": "display_data"
    }
   ],
   "source": [
    "print(\"{} sec\".format(end - start))\n",
    "\n",
    "plt.plot(history1.history['loss'])\n",
    "plt.plot(history1.history['val_loss'])\n",
    "plt.title('train loss and validation loss')\n",
    "plt.ylabel('loss')\n",
    "plt.xlabel('epoch')\n",
    "plt.legend(['train','validation'], loc='upper right')\n",
    "plt.show"
   ]
  },
  {
   "cell_type": "markdown",
   "id": "e3720ae9",
   "metadata": {},
   "source": [
    "### embedding_size = 512 hidden_size = 1024"
   ]
  },
  {
   "cell_type": "code",
   "execution_count": 54,
   "id": "5d375177",
   "metadata": {},
   "outputs": [],
   "source": [
    "embedding_size = 512\n",
    "hidden_size = 1024\n",
    "model2 = TextGenerator(tokenizer.num_words + 1, embedding_size , hidden_size)"
   ]
  },
  {
   "cell_type": "code",
   "execution_count": 55,
   "id": "61d2c400",
   "metadata": {},
   "outputs": [
    {
     "name": "stdout",
     "output_type": "stream",
     "text": [
      "Model: \"text_generator_6\"\n",
      "_________________________________________________________________\n",
      "Layer (type)                 Output Shape              Param #   \n",
      "=================================================================\n",
      "embedding_6 (Embedding)      multiple                  6144512   \n",
      "_________________________________________________________________\n",
      "lstm_12 (LSTM)               multiple                  6295552   \n",
      "_________________________________________________________________\n",
      "lstm_13 (LSTM)               multiple                  8392704   \n",
      "_________________________________________________________________\n",
      "dense_6 (Dense)              multiple                  12301025  \n",
      "=================================================================\n",
      "Total params: 33,133,793\n",
      "Trainable params: 33,133,793\n",
      "Non-trainable params: 0\n",
      "_________________________________________________________________\n"
     ]
    }
   ],
   "source": [
    "# 데이터셋에서 데이터 한 배치만 불러와서, 데이터 모델에 넣는다.\n",
    "for src_sample, tgt_sample in dataset.take(1): break\n",
    "model2(src_sample)\n",
    "model2.summary()"
   ]
  },
  {
   "cell_type": "code",
   "execution_count": 56,
   "id": "a9b9bfba",
   "metadata": {},
   "outputs": [
    {
     "name": "stdout",
     "output_type": "stream",
     "text": [
      "Epoch 1/10\n",
      "484/484 [==============================] - 105s 212ms/step - loss: 3.4515 - val_loss: 3.1422\n",
      "Epoch 2/10\n",
      "484/484 [==============================] - 103s 213ms/step - loss: 2.9924 - val_loss: 2.9426\n",
      "Epoch 3/10\n",
      "484/484 [==============================] - 103s 213ms/step - loss: 2.8092 - val_loss: 2.8210\n",
      "Epoch 4/10\n",
      "484/484 [==============================] - 103s 212ms/step - loss: 2.6735 - val_loss: 2.7379\n",
      "Epoch 5/10\n",
      "484/484 [==============================] - 103s 212ms/step - loss: 2.5567 - val_loss: 2.6732\n",
      "Epoch 6/10\n",
      "484/484 [==============================] - 103s 213ms/step - loss: 2.4507 - val_loss: 2.6236\n",
      "Epoch 7/10\n",
      "484/484 [==============================] - 103s 213ms/step - loss: 2.3533 - val_loss: 2.5769\n",
      "Epoch 8/10\n",
      "484/484 [==============================] - 103s 213ms/step - loss: 2.2616 - val_loss: 2.5376\n",
      "Epoch 9/10\n",
      "484/484 [==============================] - 103s 213ms/step - loss: 2.1752 - val_loss: 2.5080\n",
      "Epoch 10/10\n",
      "484/484 [==============================] - 103s 213ms/step - loss: 2.0928 - val_loss: 2.4829\n"
     ]
    }
   ],
   "source": [
    "start = time.time()\n",
    "\n",
    "#Loss\n",
    "loss = tf.keras.losses.SparseCategoricalCrossentropy(\n",
    "    from_logits=True, reduction='none')\n",
    "# optimizer\n",
    "optimizer = tf.keras.optimizers.Adam()\n",
    "\n",
    "model2.compile(loss=loss, optimizer=optimizer)\n",
    "history2 = model2.fit(dataset, epochs=10, validation_data = (enc_val, dec_val))\n",
    "\n",
    "end = time.time()"
   ]
  },
  {
   "cell_type": "code",
   "execution_count": 57,
   "id": "ecf450b5",
   "metadata": {},
   "outputs": [
    {
     "name": "stdout",
     "output_type": "stream",
     "text": [
      "1032.9228966236115 sec\n"
     ]
    },
    {
     "data": {
      "text/plain": [
       "<function matplotlib.pyplot.show(close=None, block=None)>"
      ]
     },
     "execution_count": 57,
     "metadata": {},
     "output_type": "execute_result"
    },
    {
     "data": {
      "image/png": "[encoded data removed]",
      "text/plain": [
       "<Figure size 432x288 with 1 Axes>"
      ]
     },
     "metadata": {
      "needs_background": "light"
     },
     "output_type": "display_data"
    }
   ],
   "source": [
    "print(\"{} sec\".format(end - start))\n",
    "\n",
    "plt.plot(history2.history['loss'])\n",
    "plt.plot(history2.history['val_loss'])\n",
    "plt.title('train loss and validation loss')\n",
    "plt.ylabel('loss')\n",
    "plt.xlabel('epoch')\n",
    "plt.legend(['train','validation'], loc='upper right')\n",
    "plt.show"
   ]
  },
  {
   "cell_type": "markdown",
   "id": "9220ed6f",
   "metadata": {},
   "source": [
    "### embedding_size = 512 hidden_size = 2048"
   ]
  },
  {
   "cell_type": "code",
   "execution_count": 58,
   "id": "667fb6d1",
   "metadata": {},
   "outputs": [],
   "source": [
    "embedding_size = 512\n",
    "hidden_size = 2048\n",
    "model3 = TextGenerator(tokenizer.num_words + 1, embedding_size , hidden_size)"
   ]
  },
  {
   "cell_type": "code",
   "execution_count": 59,
   "id": "8b9bf56b",
   "metadata": {},
   "outputs": [
    {
     "name": "stdout",
     "output_type": "stream",
     "text": [
      "Model: \"text_generator_7\"\n",
      "_________________________________________________________________\n",
      "Layer (type)                 Output Shape              Param #   \n",
      "=================================================================\n",
      "embedding_7 (Embedding)      multiple                  6144512   \n",
      "_________________________________________________________________\n",
      "lstm_14 (LSTM)               multiple                  20979712  \n",
      "_________________________________________________________________\n",
      "lstm_15 (LSTM)               multiple                  33562624  \n",
      "_________________________________________________________________\n",
      "dense_7 (Dense)              multiple                  24590049  \n",
      "=================================================================\n",
      "Total params: 85,276,897\n",
      "Trainable params: 85,276,897\n",
      "Non-trainable params: 0\n",
      "_________________________________________________________________\n"
     ]
    }
   ],
   "source": [
    "# 데이터셋에서 데이터 한 배치만 불러와서, 데이터 모델에 넣는다.\n",
    "for src_sample, tgt_sample in dataset.take(1): break\n",
    "model3(src_sample)\n",
    "model3.summary()"
   ]
  },
  {
   "cell_type": "code",
   "execution_count": 60,
   "id": "8df856b2",
   "metadata": {
    "scrolled": true
   },
   "outputs": [
    {
     "name": "stdout",
     "output_type": "stream",
     "text": [
      "Epoch 1/10\n",
      "484/484 [==============================] - 279s 572ms/step - loss: 3.3815 - val_loss: 3.0246\n",
      "Epoch 2/10\n",
      "484/484 [==============================] - 277s 573ms/step - loss: 2.8459 - val_loss: 2.7898\n",
      "Epoch 3/10\n",
      "484/484 [==============================] - 277s 573ms/step - loss: 2.5957 - val_loss: 2.6375\n",
      "Epoch 4/10\n",
      "484/484 [==============================] - 278s 574ms/step - loss: 2.3653 - val_loss: 2.5155\n",
      "Epoch 5/10\n",
      "484/484 [==============================] - 278s 574ms/step - loss: 2.1438 - val_loss: 2.4169\n",
      "Epoch 6/10\n",
      "484/484 [==============================] - 278s 574ms/step - loss: 1.9329 - val_loss: 2.3424\n",
      "Epoch 7/10\n",
      "484/484 [==============================] - 278s 574ms/step - loss: 1.7320 - val_loss: 2.2828\n",
      "Epoch 8/10\n",
      "484/484 [==============================] - 278s 573ms/step - loss: 1.5458 - val_loss: 2.2428\n",
      "Epoch 9/10\n",
      "484/484 [==============================] - 278s 574ms/step - loss: 1.3817 - val_loss: 2.2158\n",
      "Epoch 10/10\n",
      "484/484 [==============================] - 278s 573ms/step - loss: 1.2419 - val_loss: 2.2111\n"
     ]
    }
   ],
   "source": [
    "import time\n",
    "\n",
    "start = time.time()\n",
    "\n",
    "#Loss\n",
    "loss = tf.keras.losses.SparseCategoricalCrossentropy(\n",
    "    from_logits=True, reduction='none')\n",
    "# optimizer\n",
    "optimizer = tf.keras.optimizers.Adam()\n",
    "\n",
    "model3.compile(loss=loss, optimizer=optimizer)\n",
    "history3 = model3.fit(dataset, epochs=10, validation_data = (enc_val, dec_val))\n",
    "\n",
    "end = time.time()"
   ]
  },
  {
   "cell_type": "code",
   "execution_count": 61,
   "id": "a01655f8",
   "metadata": {
    "scrolled": true
   },
   "outputs": [
    {
     "name": "stdout",
     "output_type": "stream",
     "text": [
      "2777.9640583992004 sec\n"
     ]
    },
    {
     "data": {
      "text/plain": [
       "<function matplotlib.pyplot.show(close=None, block=None)>"
      ]
     },
     "execution_count": 61,
     "metadata": {},
     "output_type": "execute_result"
    },
    {
     "data": {
      "image/png": "[encoded data removed]",
      "text/plain": [
       "<Figure size 432x288 with 1 Axes>"
      ]
     },
     "metadata": {
      "needs_background": "light"
     },
     "output_type": "display_data"
    }
   ],
   "source": [
    "print(\"{} sec\".format(end - start))\n",
    "\n",
    "plt.plot(history3.history['loss'])\n",
    "plt.plot(history3.history['val_loss'])\n",
    "plt.title('train loss and validation loss')\n",
    "plt.ylabel('loss')\n",
    "plt.xlabel('epoch')\n",
    "plt.legend(['train','validation'], loc='upper right')\n",
    "plt.show"
   ]
  },
  {
   "cell_type": "markdown",
   "id": "4f8431e6",
   "metadata": {},
   "source": [
    "embedding_size만 2배 늘렸을땐 train_loss와 val_loss의 격차가 이전에 비해서 조금 줄어들었다.  \n",
    "하지만 embedding_size와 hidden_size를 각각 2배 늘린 모델에선 loss의 격차가 다시 늘어났다.  \n",
    "embedding_size, hidden_size를 무작정 늘린다고 모델이 좋아지는 것은 아니라고 생각했다.  \n",
    "시간은 990, 1030, 2770 sec로 점점 시간이 너무 늘어났고, 마지막 모델은 시간에 비해 성능이 제대로 나오지 않은 모습을 보인다.  \n",
    "인터넷에 찾아보니 lstm을 개선한 gru로 바꾸면 성능이 좀 괜찮아 진다고해서 한번 바꿔 보았따."
   ]
  },
  {
   "cell_type": "markdown",
   "id": "b78801eb",
   "metadata": {},
   "source": [
    "## 모델 바꿔보기 LSTM -> GRU\n",
    "LSTM의 구조를 간소화해 성능을 향상시킨 모델이라고 한다."
   ]
  },
  {
   "cell_type": "code",
   "execution_count": 4,
   "id": "41f5db60",
   "metadata": {},
   "outputs": [],
   "source": [
    "class TextGenerator(tf.keras.Model):\n",
    "    def __init__(self, vocab_size, embedding_size, hidden_size):\n",
    "        super().__init__()\n",
    "        \n",
    "        self.embedding = tf.keras.layers.Embedding(vocab_size, embedding_size)\n",
    "        self.rnn_1 = tf.keras.layers.GRU(hidden_size, return_sequences=True)\n",
    "        self.rnn_2 = tf.keras.layers.GRU(hidden_size, return_sequences=True)\n",
    "        self.linear = tf.keras.layers.Dense(vocab_size)\n",
    "        \n",
    "    def call(self, x):\n",
    "        out = self.embedding(x)\n",
    "        out = self.rnn_1(out)\n",
    "        out = self.rnn_2(out)\n",
    "        out = self.linear(out)\n",
    "        \n",
    "        return out  "
   ]
  },
  {
   "cell_type": "code",
   "execution_count": 19,
   "id": "498b3607",
   "metadata": {},
   "outputs": [],
   "source": [
    "embedding_size = 256\n",
    "hidden_size = 1024\n",
    "model4 = TextGenerator(tokenizer.num_words + 1, embedding_size , hidden_size)"
   ]
  },
  {
   "cell_type": "code",
   "execution_count": 20,
   "id": "534461b5",
   "metadata": {},
   "outputs": [
    {
     "name": "stdout",
     "output_type": "stream",
     "text": [
      "Model: \"text_generator_1\"\n",
      "_________________________________________________________________\n",
      "Layer (type)                 Output Shape              Param #   \n",
      "=================================================================\n",
      "embedding_1 (Embedding)      multiple                  3072256   \n",
      "_________________________________________________________________\n",
      "gru_2 (GRU)                  multiple                  3938304   \n",
      "_________________________________________________________________\n",
      "gru_3 (GRU)                  multiple                  6297600   \n",
      "_________________________________________________________________\n",
      "dense_1 (Dense)              multiple                  12301025  \n",
      "=================================================================\n",
      "Total params: 25,609,185\n",
      "Trainable params: 25,609,185\n",
      "Non-trainable params: 0\n",
      "_________________________________________________________________\n"
     ]
    }
   ],
   "source": [
    "# 데이터셋에서 데이터 한 배치만 불러와서, 데이터 모델에 넣는다.\n",
    "for src_sample, tgt_sample in dataset.take(1): break\n",
    "model4(src_sample)\n",
    "model4.summary()"
   ]
  },
  {
   "cell_type": "code",
   "execution_count": 22,
   "id": "45b2015a",
   "metadata": {},
   "outputs": [
    {
     "name": "stdout",
     "output_type": "stream",
     "text": [
      "Epoch 1/10\n",
      "484/484 [==============================] - 77s 156ms/step - loss: 3.4074 - val_loss: 3.0237\n",
      "Epoch 2/10\n",
      "484/484 [==============================] - 78s 161ms/step - loss: 2.8498 - val_loss: 2.7923\n",
      "Epoch 3/10\n",
      "484/484 [==============================] - 78s 161ms/step - loss: 2.6059 - val_loss: 2.6570\n",
      "Epoch 4/10\n",
      "484/484 [==============================] - 78s 161ms/step - loss: 2.4055 - val_loss: 2.5652\n",
      "Epoch 5/10\n",
      "484/484 [==============================] - 78s 160ms/step - loss: 2.2345 - val_loss: 2.4975\n",
      "Epoch 6/10\n",
      "484/484 [==============================] - 78s 160ms/step - loss: 2.0848 - val_loss: 2.4437\n",
      "Epoch 7/10\n",
      "484/484 [==============================] - 78s 160ms/step - loss: 1.9514 - val_loss: 2.4049\n",
      "Epoch 8/10\n",
      "484/484 [==============================] - 78s 161ms/step - loss: 1.8296 - val_loss: 2.3718\n",
      "Epoch 9/10\n",
      "484/484 [==============================] - 78s 161ms/step - loss: 1.7187 - val_loss: 2.3522\n",
      "Epoch 10/10\n",
      "484/484 [==============================] - 78s 161ms/step - loss: 1.6177 - val_loss: 2.3378\n"
     ]
    }
   ],
   "source": [
    "start = time.time()\n",
    "\n",
    "#Loss\n",
    "loss = tf.keras.losses.SparseCategoricalCrossentropy(\n",
    "    from_logits=True, reduction='none')\n",
    "# optimizer\n",
    "optimizer = tf.keras.optimizers.Adam()\n",
    "\n",
    "model4.compile(loss=loss, optimizer=optimizer)\n",
    "history4 = model4.fit(dataset, epochs=10, validation_data = (enc_val, dec_val))\n",
    "\n",
    "end = time.time()"
   ]
  },
  {
   "cell_type": "code",
   "execution_count": 23,
   "id": "5a681d38",
   "metadata": {},
   "outputs": [
    {
     "name": "stdout",
     "output_type": "stream",
     "text": [
      "778.4752266407013 sec\n"
     ]
    },
    {
     "data": {
      "text/plain": [
       "<function matplotlib.pyplot.show(close=None, block=None)>"
      ]
     },
     "execution_count": 23,
     "metadata": {},
     "output_type": "execute_result"
    },
    {
     "data": {
      "image/png": "[encoded data removed]",
      "text/plain": [
       "<Figure size 432x288 with 1 Axes>"
      ]
     },
     "metadata": {
      "needs_background": "light"
     },
     "output_type": "display_data"
    }
   ],
   "source": [
    "print(\"{} sec\".format(end - start))\n",
    "\n",
    "plt.plot(history4.history['loss'])\n",
    "plt.plot(history4.history['val_loss'])\n",
    "plt.title('train loss and validation loss')\n",
    "plt.ylabel('loss')\n",
    "plt.xlabel('epoch')\n",
    "plt.legend(['train','validation'], loc='upper right')\n",
    "plt.show"
   ]
  },
  {
   "cell_type": "markdown",
   "id": "9f92bdc1",
   "metadata": {},
   "source": [
    "### embedding_size = 512, hidden_size = 1024"
   ]
  },
  {
   "cell_type": "code",
   "execution_count": 28,
   "id": "e8bb2288",
   "metadata": {},
   "outputs": [],
   "source": [
    "embedding_size = 512\n",
    "hidden_size = 1024\n",
    "model5 = TextGenerator(tokenizer.num_words + 1, embedding_size , hidden_size)"
   ]
  },
  {
   "cell_type": "code",
   "execution_count": 29,
   "id": "939a630f",
   "metadata": {},
   "outputs": [
    {
     "name": "stdout",
     "output_type": "stream",
     "text": [
      "Model: \"text_generator_3\"\n",
      "_________________________________________________________________\n",
      "Layer (type)                 Output Shape              Param #   \n",
      "=================================================================\n",
      "embedding_3 (Embedding)      multiple                  6144512   \n",
      "_________________________________________________________________\n",
      "gru_6 (GRU)                  multiple                  4724736   \n",
      "_________________________________________________________________\n",
      "gru_7 (GRU)                  multiple                  6297600   \n",
      "_________________________________________________________________\n",
      "dense_3 (Dense)              multiple                  12301025  \n",
      "=================================================================\n",
      "Total params: 29,467,873\n",
      "Trainable params: 29,467,873\n",
      "Non-trainable params: 0\n",
      "_________________________________________________________________\n"
     ]
    }
   ],
   "source": [
    "# 데이터셋에서 데이터 한 배치만 불러와서, 데이터 모델에 넣는다.\n",
    "for src_sample, tgt_sample in dataset.take(1): break\n",
    "model5(src_sample)\n",
    "model5.summary()"
   ]
  },
  {
   "cell_type": "code",
   "execution_count": 30,
   "id": "3c37343f",
   "metadata": {},
   "outputs": [
    {
     "name": "stdout",
     "output_type": "stream",
     "text": [
      "Epoch 1/10\n",
      "484/484 [==============================] - 80s 162ms/step - loss: 3.2577 - val_loss: 2.8766\n",
      "Epoch 2/10\n",
      "484/484 [==============================] - 81s 167ms/step - loss: 2.6729 - val_loss: 2.6281\n",
      "Epoch 3/10\n",
      "484/484 [==============================] - 81s 166ms/step - loss: 2.3626 - val_loss: 2.4880\n",
      "Epoch 4/10\n",
      "484/484 [==============================] - 81s 166ms/step - loss: 2.1105 - val_loss: 2.3959\n",
      "Epoch 5/10\n",
      "484/484 [==============================] - 81s 166ms/step - loss: 1.9012 - val_loss: 2.3350\n",
      "Epoch 6/10\n",
      "484/484 [==============================] - 81s 166ms/step - loss: 1.7234 - val_loss: 2.2959\n",
      "Epoch 7/10\n",
      "484/484 [==============================] - 81s 166ms/step - loss: 1.5717 - val_loss: 2.2757\n",
      "Epoch 8/10\n",
      "484/484 [==============================] - 81s 167ms/step - loss: 1.4432 - val_loss: 2.2657\n",
      "Epoch 9/10\n",
      "484/484 [==============================] - 81s 166ms/step - loss: 1.3362 - val_loss: 2.2688\n",
      "Epoch 10/10\n",
      "484/484 [==============================] - 81s 166ms/step - loss: 1.2492 - val_loss: 2.2769\n"
     ]
    }
   ],
   "source": [
    "start = time.time()\n",
    "\n",
    "#Loss\n",
    "loss = tf.keras.losses.SparseCategoricalCrossentropy(\n",
    "    from_logits=True, reduction='none')\n",
    "# optimizer\n",
    "optimizer = tf.keras.optimizers.Adam()\n",
    "\n",
    "model5.compile(loss=loss, optimizer=optimizer)\n",
    "history5 = model5.fit(dataset, epochs=10, validation_data = (enc_val, dec_val))\n",
    "\n",
    "end = time.time()"
   ]
  },
  {
   "cell_type": "code",
   "execution_count": 34,
   "id": "df37fd2b",
   "metadata": {
    "scrolled": false
   },
   "outputs": [
    {
     "name": "stdout",
     "output_type": "stream",
     "text": [
      "806.5143747329712 sec\n"
     ]
    },
    {
     "data": {
      "text/plain": [
       "<function matplotlib.pyplot.show(close=None, block=None)>"
      ]
     },
     "execution_count": 34,
     "metadata": {},
     "output_type": "execute_result"
    },
    {
     "data": {
      "image/png": "[encoded data removed]",
      "text/plain": [
       "<Figure size 432x288 with 1 Axes>"
      ]
     },
     "metadata": {
      "needs_background": "light"
     },
     "output_type": "display_data"
    }
   ],
   "source": [
    "print(\"{} sec\".format(end - start))\n",
    "\n",
    "plt.plot(history5.history['loss'])\n",
    "plt.plot(history5.history['val_loss'])\n",
    "plt.title('train loss and validation loss')\n",
    "plt.ylabel('loss')\n",
    "plt.xlabel('epoch')\n",
    "plt.legend(['train','validation'], loc='upper right')\n",
    "plt.show"
   ]
  },
  {
   "cell_type": "markdown",
   "id": "b34ecd6c",
   "metadata": {},
   "source": [
    "### 모델을 바꾼 후\n",
    "모델을 학습하는 속도는 조금 빨라졌지만 성능에는 큰 영향을 주지 않는듯 하다."
   ]
  },
  {
   "cell_type": "markdown",
   "id": "cb00ee55",
   "metadata": {},
   "source": [
    "### 모델이 과적합이 되서 val_loss 가 목표치에 도달을 못하는건가?\n",
    "dropout을 적용해 과적합 되는걸 방지해보자.\n"
   ]
  },
  {
   "cell_type": "code",
   "execution_count": 46,
   "id": "68534f56",
   "metadata": {},
   "outputs": [],
   "source": [
    "class TextGeneratorPlusDropout(tf.keras.Model):\n",
    "    def __init__(self, vocab_size, embedding_size, hidden_size):\n",
    "        super().__init__()\n",
    "        \n",
    "        self.embedding = tf.keras.layers.Embedding(vocab_size, embedding_size)\n",
    "        self.rnn_1 = tf.keras.layers.GRU(hidden_size, return_sequences=True)\n",
    "        self.rnn_2 = tf.keras.layers.GRU(hidden_size, return_sequences=True)\n",
    "        self.drop = tf.keras.layers.Dropout(0.3)\n",
    "        self.linear = tf.keras.layers.Dense(vocab_size)\n",
    "        \n",
    "    def call(self, x):\n",
    "        out = self.embedding(x)\n",
    "        out = self.rnn_1(out)\n",
    "        out = self.rnn_2(out)\n",
    "        out = self.drop(out)\n",
    "        out = self.linear(out)\n",
    "        \n",
    "        return out  "
   ]
  },
  {
   "cell_type": "code",
   "execution_count": 48,
   "id": "cc574f5a",
   "metadata": {},
   "outputs": [
    {
     "name": "stdout",
     "output_type": "stream",
     "text": [
      "Model: \"text_generator_24\"\n",
      "_________________________________________________________________\n",
      "Layer (type)                 Output Shape              Param #   \n",
      "=================================================================\n",
      "embedding_24 (Embedding)     multiple                  6144512   \n",
      "_________________________________________________________________\n",
      "gru_48 (GRU)                 multiple                  4724736   \n",
      "_________________________________________________________________\n",
      "gru_49 (GRU)                 multiple                  6297600   \n",
      "_________________________________________________________________\n",
      "dense_24 (Dense)             multiple                  12301025  \n",
      "=================================================================\n",
      "Total params: 29,467,873\n",
      "Trainable params: 29,467,873\n",
      "Non-trainable params: 0\n",
      "_________________________________________________________________\n"
     ]
    }
   ],
   "source": [
    "embedding_size = 512\n",
    "hidden_size = 1024\n",
    "model6 = TextGenerator(tokenizer.num_words + 1, embedding_size , hidden_size)\n",
    "\n",
    "# 데이터셋에서 데이터 한 배치만 불러와서, 데이터 모델에 넣는다.\n",
    "for src_sample, tgt_sample in dataset.take(1): break\n",
    "model6(src_sample)\n",
    "model6.summary()"
   ]
  },
  {
   "cell_type": "code",
   "execution_count": 50,
   "id": "efcfcf26",
   "metadata": {},
   "outputs": [
    {
     "name": "stdout",
     "output_type": "stream",
     "text": [
      "Epoch 1/10\n",
      "484/484 [==============================] - 92s 185ms/step - loss: 3.3210 - val_loss: 2.9341\n",
      "Epoch 2/10\n",
      "484/484 [==============================] - 89s 184ms/step - loss: 2.7499 - val_loss: 2.7034\n",
      "Epoch 3/10\n",
      "484/484 [==============================] - 89s 184ms/step - loss: 2.4806 - val_loss: 2.5679\n",
      "Epoch 4/10\n",
      "484/484 [==============================] - 89s 183ms/step - loss: 2.2584 - val_loss: 2.4743\n",
      "Epoch 5/10\n",
      "484/484 [==============================] - 89s 183ms/step - loss: 2.0696 - val_loss: 2.4049\n",
      "Epoch 6/10\n",
      "484/484 [==============================] - 89s 183ms/step - loss: 1.9053 - val_loss: 2.3609\n",
      "Epoch 7/10\n",
      "484/484 [==============================] - 89s 183ms/step - loss: 1.7608 - val_loss: 2.3242\n",
      "Epoch 8/10\n",
      "484/484 [==============================] - 89s 183ms/step - loss: 1.6320 - val_loss: 2.3025\n",
      "Epoch 9/10\n",
      "484/484 [==============================] - 89s 183ms/step - loss: 1.5178 - val_loss: 2.2868\n",
      "Epoch 10/10\n",
      "484/484 [==============================] - 89s 183ms/step - loss: 1.4182 - val_loss: 2.2871\n"
     ]
    }
   ],
   "source": [
    "start = time.time()\n",
    "\n",
    "#Loss\n",
    "loss = tf.keras.losses.SparseCategoricalCrossentropy(\n",
    "    from_logits=True, reduction='none')\n",
    "# optimizer\n",
    "optimizer = tf.keras.optimizers.Adam()\n",
    "\n",
    "model6.compile(loss=loss, optimizer=optimizer)\n",
    "history6 = model6.fit(dataset, epochs=10, validation_data = (enc_val, dec_val))\n",
    "\n",
    "end = time.time()"
   ]
  },
  {
   "cell_type": "code",
   "execution_count": 52,
   "id": "8a597fa6",
   "metadata": {},
   "outputs": [
    {
     "name": "stdout",
     "output_type": "stream",
     "text": [
      "890.6639084815979 sec\n"
     ]
    },
    {
     "data": {
      "text/plain": [
       "<function matplotlib.pyplot.show(close=None, block=None)>"
      ]
     },
     "execution_count": 52,
     "metadata": {},
     "output_type": "execute_result"
    },
    {
     "data": {
      "image/png": "[encoded data removed]",
      "text/plain": [
       "<Figure size 432x288 with 1 Axes>"
      ]
     },
     "metadata": {
      "needs_background": "light"
     },
     "output_type": "display_data"
    }
   ],
   "source": [
    "print(\"{} sec\".format(end - start))\n",
    "\n",
    "plt.plot(history6.history['loss'])\n",
    "plt.plot(history6.history['val_loss'])\n",
    "plt.title('train loss and validation loss')\n",
    "plt.ylabel('loss')\n",
    "plt.xlabel('epoch')\n",
    "plt.legend(['train','validation'], loc='upper right')\n",
    "plt.show"
   ]
  },
  {
   "cell_type": "markdown",
   "id": "0be276b6",
   "metadata": {},
   "source": [
    "### 히든 사이즈를 좀더 늘려보자"
   ]
  },
  {
   "cell_type": "code",
   "execution_count": 54,
   "id": "55370824",
   "metadata": {},
   "outputs": [
    {
     "name": "stdout",
     "output_type": "stream",
     "text": [
      "Model: \"text_generator_26\"\n",
      "_________________________________________________________________\n",
      "Layer (type)                 Output Shape              Param #   \n",
      "=================================================================\n",
      "embedding_26 (Embedding)     multiple                  6144512   \n",
      "_________________________________________________________________\n",
      "gru_52 (GRU)                 multiple                  10147200  \n",
      "_________________________________________________________________\n",
      "gru_53 (GRU)                 multiple                  15369600  \n",
      "_________________________________________________________________\n",
      "dense_26 (Dense)             multiple                  19213601  \n",
      "=================================================================\n",
      "Total params: 50,874,913\n",
      "Trainable params: 50,874,913\n",
      "Non-trainable params: 0\n",
      "_________________________________________________________________\n"
     ]
    }
   ],
   "source": [
    "embedding_size = 512\n",
    "hidden_size = 1600\n",
    "model7 = TextGenerator(tokenizer.num_words + 1, embedding_size , hidden_size)\n",
    "\n",
    "# 데이터셋에서 데이터 한 배치만 불러와서, 데이터 모델에 넣는다.\n",
    "for src_sample, tgt_sample in dataset.take(1): break\n",
    "model7(src_sample)\n",
    "model7.summary()"
   ]
  },
  {
   "cell_type": "code",
   "execution_count": 56,
   "id": "7c018f51",
   "metadata": {},
   "outputs": [
    {
     "name": "stdout",
     "output_type": "stream",
     "text": [
      "Epoch 1/10\n",
      "484/484 [==============================] - 177s 362ms/step - loss: 3.1760 - val_loss: 2.8159\n",
      "Epoch 2/10\n",
      "484/484 [==============================] - 174s 360ms/step - loss: 2.5783 - val_loss: 2.5297\n",
      "Epoch 3/10\n",
      "484/484 [==============================] - 175s 361ms/step - loss: 2.1764 - val_loss: 2.3668\n",
      "Epoch 4/10\n",
      "484/484 [==============================] - 175s 361ms/step - loss: 1.8371 - val_loss: 2.2852\n",
      "Epoch 5/10\n",
      "484/484 [==============================] - 175s 362ms/step - loss: 1.5797 - val_loss: 2.2396\n",
      "Epoch 6/10\n",
      "484/484 [==============================] - 175s 361ms/step - loss: 1.3859 - val_loss: 2.2288\n",
      "Epoch 7/10\n",
      "484/484 [==============================] - 175s 362ms/step - loss: 1.2441 - val_loss: 2.2404\n",
      "Epoch 8/10\n",
      "484/484 [==============================] - 175s 362ms/step - loss: 1.1480 - val_loss: 2.2664\n",
      "Epoch 9/10\n",
      "484/484 [==============================] - 175s 361ms/step - loss: 1.0868 - val_loss: 2.2923\n",
      "Epoch 10/10\n",
      "484/484 [==============================] - 175s 361ms/step - loss: 1.0511 - val_loss: 2.3133\n"
     ]
    }
   ],
   "source": [
    "start = time.time()\n",
    "\n",
    "#Loss\n",
    "loss = tf.keras.losses.SparseCategoricalCrossentropy(\n",
    "    from_logits=True, reduction='none')\n",
    "# optimizer\n",
    "optimizer = tf.keras.optimizers.Adam()\n",
    "\n",
    "model7.compile(loss=loss, optimizer=optimizer)\n",
    "history7 = model7.fit(dataset, epochs=10, validation_data = (enc_val, dec_val))\n",
    "\n",
    "end = time.time()"
   ]
  },
  {
   "cell_type": "code",
   "execution_count": 57,
   "id": "79619a4b",
   "metadata": {
    "scrolled": true
   },
   "outputs": [
    {
     "name": "stdout",
     "output_type": "stream",
     "text": [
      "1751.0775990486145 sec\n"
     ]
    },
    {
     "data": {
      "text/plain": [
       "<function matplotlib.pyplot.show(close=None, block=None)>"
      ]
     },
     "execution_count": 57,
     "metadata": {},
     "output_type": "execute_result"
    },
    {
     "data": {
      "image/png": "[encoded data removed]",
      "text/plain": [
       "<Figure size 432x288 with 1 Axes>"
      ]
     },
     "metadata": {
      "needs_background": "light"
     },
     "output_type": "display_data"
    }
   ],
   "source": [
    "print(\"{} sec\".format(end - start))\n",
    "\n",
    "plt.plot(history7.history['loss'])\n",
    "plt.plot(history7.history['val_loss'])\n",
    "plt.title('train loss and validation loss')\n",
    "plt.ylabel('loss')\n",
    "plt.xlabel('epoch')\n",
    "plt.legend(['train','validation'], loc='upper right')\n",
    "plt.show"
   ]
  },
  {
   "cell_type": "markdown",
   "id": "116b9baf",
   "metadata": {},
   "source": [
    "## 모델 변경 및 파리미터 수정을 해봤지만 2.2 도달을 하지 못했다!\n",
    "전처리 단계에서 문제가 있지 않을까 생각해 다시한번 살펴 보기로 했다.  \n",
    "단어가 한개인 경우는 문장 생성에 도움을 주지 않을듯해서 삭제 해보기로 했다."
   ]
  },
  {
   "cell_type": "code",
   "execution_count": 61,
   "id": "94c9c177",
   "metadata": {},
   "outputs": [
    {
     "data": {
      "text/plain": [
       "2190"
      ]
     },
     "execution_count": 61,
     "metadata": {},
     "output_type": "execute_result"
    }
   ],
   "source": [
    "count = 0\n",
    "for text in corpus:\n",
    "    if len(text.split()) < 4:\n",
    "        count += 1\n",
    "    \n",
    "count"
   ]
  },
  {
   "cell_type": "code",
   "execution_count": 157,
   "id": "3755d233",
   "metadata": {},
   "outputs": [],
   "source": [
    "corpus_rm_one_word = corpus.copy()\n",
    "rm_dict = {}\n",
    "\n",
    "for text in corpus_rm_one_word:\n",
    "    if len(text.split()) < 4:\n",
    "        rm_text = text.split()[1]\n",
    "        \n",
    "        if rm_dict.get(rm_text) == None:\n",
    "            rm_dict.setdefault(rm_text, int(1))\n",
    "        else:\n",
    "            rm_dict[rm_text] = rm_dict[rm_text] + 1"
   ]
  },
  {
   "cell_type": "code",
   "execution_count": 158,
   "id": "b20ee69c",
   "metadata": {
    "scrolled": false
   },
   "outputs": [
    {
     "data": {
      "text/plain": [
       "{'hallelujah': 33,\n",
       " 'nevermind': 4,\n",
       " 'amen': 10,\n",
       " 'argument': 1,\n",
       " 'started': 8,\n",
       " 'yes': 5,\n",
       " 'chorus': 202,\n",
       " 'cmon': 4,\n",
       " 'alright': 15,\n",
       " 'ov': 2,\n",
       " 'who': 3,\n",
       " 'caller': 6,\n",
       " 'hello': 3,\n",
       " 'yo': 4,\n",
       " 'shit': 4,\n",
       " 'intro': 11,\n",
       " 'ai': 2,\n",
       " 'santana': 2,\n",
       " 'outro': 8,\n",
       " 'assholes': 2,\n",
       " 'yeah': 110,\n",
       " 'verse': 43,\n",
       " 'ya': 5,\n",
       " 'gone': 2,\n",
       " 'bridge': 27,\n",
       " 'hook': 15,\n",
       " 'mario': 2,\n",
       " 'chrous': 2,\n",
       " 'bass': 5,\n",
       " 'honey': 2,\n",
       " 'yeahchainz': 2,\n",
       " 'tunechi': 4,\n",
       " 'nikki': 3,\n",
       " 'wayne': 2,\n",
       " 'weezy': 4,\n",
       " 'i': 9,\n",
       " 'tpain': 2,\n",
       " 'wasnt': 2,\n",
       " 'fustin': 2,\n",
       " 'puffin': 2,\n",
       " 'drake': 2,\n",
       " 'tyga': 2,\n",
       " 'young': 2,\n",
       " 'streets': 2,\n",
       " 'aye': 2,\n",
       " 'ok': 6,\n",
       " 'bitch': 2,\n",
       " 'aha': 2,\n",
       " 'cole': 2,\n",
       " 'hey': 27,\n",
       " 'currency': 2,\n",
       " 'wow': 2,\n",
       " 'now': 7,\n",
       " 'bg': 2,\n",
       " 'what': 2,\n",
       " 'tanto': 2,\n",
       " 'motherfuckin': 2,\n",
       " 'nothin': 4,\n",
       " 'mcdonalds': 2,\n",
       " 'eastside': 2,\n",
       " 'always': 9,\n",
       " 'tonight': 13,\n",
       " 'again': 2,\n",
       " 'whoa': 6,\n",
       " 'badlands': 5,\n",
       " 'freehold': 1,\n",
       " 'fire': 4,\n",
       " 'hah': 4,\n",
       " 'uh': 15,\n",
       " 'whoh': 2,\n",
       " 'dippin': 2,\n",
       " 'benjamins': 2,\n",
       " 'uhh': 4,\n",
       " 'notorious': 4,\n",
       " 'capiche': 2,\n",
       " 'for': 2,\n",
       " 'thai': 2,\n",
       " 'brooklyn': 2,\n",
       " 'saying': 2,\n",
       " 'years': 2,\n",
       " 'ready': 5,\n",
       " 'ceasealee': 2,\n",
       " 'big': 2,\n",
       " 'methtical': 2,\n",
       " 'ah': 10,\n",
       " 'quiet': 1,\n",
       " 'silvio': 4,\n",
       " 'ramona': 1,\n",
       " '<end>': 50,\n",
       " 'saved': 9,\n",
       " 'ooh': 17,\n",
       " 'oh': 35,\n",
       " 'darling': 3,\n",
       " 'sacrificed': 1,\n",
       " 'no': 4,\n",
       " 'baby': 19,\n",
       " 'nah': 2,\n",
       " 'kandi': 1,\n",
       " 'higher': 3,\n",
       " 'so': 10,\n",
       " 'well': 4,\n",
       " 'fox': 1,\n",
       " 'socks': 1,\n",
       " 'box': 1,\n",
       " 'knox': 1,\n",
       " 'and': 3,\n",
       " 'hethreetreebee': 1,\n",
       " 'tophopstop': 1,\n",
       " 'moonbeam': 1,\n",
       " 'run': 2,\n",
       " 'escape': 2,\n",
       " 'reckoner': 2,\n",
       " 'invisible': 2,\n",
       " 'dreamers': 1,\n",
       " 'through': 1,\n",
       " 'you': 6,\n",
       " 'understand': 2,\n",
       " 'mmmhm': 1,\n",
       " 'everything': 11,\n",
       " 'wake': 1,\n",
       " 'today': 2,\n",
       " 'pack': 1,\n",
       " 'before': 1,\n",
       " 'breathe': 2,\n",
       " 'alone': 1,\n",
       " 'sing': 1,\n",
       " 'bloom': 1,\n",
       " 'obligations': 1,\n",
       " 'complications': 1,\n",
       " 'feral': 1,\n",
       " 'instrumental': 3,\n",
       " 'codex': 1,\n",
       " 'separator': 1,\n",
       " 'fantasize': 1,\n",
       " 'underground': 1,\n",
       " 'comfortable': 1,\n",
       " 'uptight': 15,\n",
       " 'everyone': 2,\n",
       " 'go': 2,\n",
       " 'face': 1,\n",
       " 'rain': 2,\n",
       " 'scream': 6,\n",
       " 'ooooooooooooooohhhhhhhhhhh': 1,\n",
       " 'ooooohhhhh': 1,\n",
       " 'ooooohhhhhhh': 1,\n",
       " 'high': 2,\n",
       " 'play': 2,\n",
       " 'uptown': 13,\n",
       " 'head': 12,\n",
       " 'controversy': 3,\n",
       " 'sexuality': 1,\n",
       " 'abscam': 1,\n",
       " 'crazy': 4,\n",
       " 'coming': 1,\n",
       " 'u': 2,\n",
       " 'somebody': 3,\n",
       " 'listen': 1,\n",
       " 'tamborine': 13,\n",
       " 'freedom': 3,\n",
       " 'love': 4,\n",
       " 'joy': 2,\n",
       " 'peace': 2,\n",
       " 'sex': 1,\n",
       " 'temptation': 9,\n",
       " 'lust': 1,\n",
       " 'starvation': 1,\n",
       " 'mountains': 1,\n",
       " 'kiss': 3,\n",
       " 'housequake': 8,\n",
       " 'question': 1,\n",
       " 'bullshit': 1,\n",
       " 'slammin': 4,\n",
       " 'please': 4,\n",
       " 'hundalasiliah': 3,\n",
       " 'everybody': 19,\n",
       " 'lovesexy': 6,\n",
       " 'positivity': 2,\n",
       " 'partyman': 1,\n",
       " 'trust': 2,\n",
       " 'scandalous': 3,\n",
       " 'batman': 7,\n",
       " 'batdance': 1,\n",
       " 'power': 2,\n",
       " 'soul': 2,\n",
       " 'thunder': 6,\n",
       " 'cream': 19,\n",
       " 'boogie': 1,\n",
       " 'push': 6,\n",
       " 'shucks': 1,\n",
       " 'continental': 2,\n",
       " 'god': 1,\n",
       " 'woman': 1,\n",
       " 'grind': 2,\n",
       " 'gal': 1,\n",
       " 'gotcha': 1,\n",
       " 'bob': 1,\n",
       " 'superfunkycalifragisexy': 9,\n",
       " 'bad': 1,\n",
       " 'come': 11,\n",
       " 'dream': 1,\n",
       " 'affirmative': 5,\n",
       " 'check': 3,\n",
       " 'space': 1,\n",
       " 'grow': 1,\n",
       " 'pheromone': 4,\n",
       " '!': 1,\n",
       " 'cool': 1,\n",
       " 'race': 17,\n",
       " 'breakdown': 2,\n",
       " 'dolphin': 1,\n",
       " ',': 5,\n",
       " 'commitment': 1,\n",
       " 'shy': 1,\n",
       " 'hmm': 2,\n",
       " 'clandestine': 1,\n",
       " 'brave': 1,\n",
       " 'broken': 1,\n",
       " 'grave': 1,\n",
       " 'lakota': 2,\n",
       " 'weak': 1,\n",
       " 'faithful': 1,\n",
       " 'meek': 1,\n",
       " 'mother': 2,\n",
       " 'father': 3,\n",
       " 'shadows': 1,\n",
       " 'water': 1,\n",
       " 'gleam': 1,\n",
       " 'darkness': 3,\n",
       " 'flying': 2,\n",
       " 'illumination': 1,\n",
       " 'corruption': 1,\n",
       " 'mya': 2,\n",
       " 'pink': 1,\n",
       " 'christina': 2,\n",
       " 'missy': 5,\n",
       " 'visualize': 1,\n",
       " 'anymore': 2,\n",
       " 'timbaland': 1,\n",
       " 'funk': 1,\n",
       " 'amour': 1,\n",
       " 'ymcmb': 1,\n",
       " 'incredible': 1,\n",
       " 'whatever': 4,\n",
       " 'unhh': 1,\n",
       " 'pluto': 1,\n",
       " 'plies': 1,\n",
       " 'international': 1,\n",
       " 'movie': 3,\n",
       " 'foshigady': 1,\n",
       " 'oooh': 4,\n",
       " 'refrain': 44,\n",
       " 'spoken': 6,\n",
       " 'people': 2,\n",
       " 'especially': 6,\n",
       " 'chant': 3,\n",
       " 'girlfriend': 2,\n",
       " 'make': 1,\n",
       " 'michael': 42,\n",
       " 'paul': 5,\n",
       " 'background': 1,\n",
       " 'loveliness': 1,\n",
       " 'satisfied': 2,\n",
       " 'forevermore': 1,\n",
       " 'stevie': 7,\n",
       " 'remember': 1,\n",
       " 'ooo': 2,\n",
       " 'both': 15,\n",
       " 'there': 1,\n",
       " 'know': 1,\n",
       " 'me': 4,\n",
       " 'ways': 1,\n",
       " 'siedah': 12,\n",
       " 'tomorrow': 1,\n",
       " 'yesterday': 1,\n",
       " 'band': 1,\n",
       " 'doors': 1,\n",
       " 'say': 1,\n",
       " 'back': 1,\n",
       " 'cause': 1,\n",
       " 'because': 3,\n",
       " 'jam': 14,\n",
       " 'rap': 4,\n",
       " 'faces': 1,\n",
       " 'x': 4,\n",
       " 'weary': 1,\n",
       " 'dangerous': 5,\n",
       " 'janet': 4,\n",
       " 'anything': 27,\n",
       " 'scandal': 1,\n",
       " 'slander': 1,\n",
       " 'relax': 2,\n",
       " 'demerol': 8,\n",
       " 'hee': 1,\n",
       " 'woh': 2,\n",
       " 'aaow': 2,\n",
       " 'eccentrialities': 1,\n",
       " 'unthinkable': 1,\n",
       " 'interlude': 1,\n",
       " 'ooooooh': 7,\n",
       " 'akon': 2,\n",
       " 'together': 1,\n",
       " 'uuuuuuuuuuh': 1,\n",
       " 'chcksthtshtshtsh': 1,\n",
       " 'monster': 7,\n",
       " 'cent': 1,\n",
       " 'laughing': 1,\n",
       " 'pitbull': 5,\n",
       " 'shameone': 5,\n",
       " 'luchando': 1,\n",
       " 'gutra': 1,\n",
       " 'harry': 1,\n",
       " 'belle': 4,\n",
       " 'beautiful': 22,\n",
       " 'haha': 1,\n",
       " 'ohhhhh': 1,\n",
       " 'ohhhh': 1,\n",
       " 'up': 4,\n",
       " 'aaaaaa': 1,\n",
       " 'perfectly': 1,\n",
       " 'repeat': 1,\n",
       " 'anyway': 1,\n",
       " 'song': 1,\n",
       " '?': 12,\n",
       " 'name': 1,\n",
       " 'frederick': 1,\n",
       " 'revenge': 3,\n",
       " 'wave': 1,\n",
       " 'everywhere': 2,\n",
       " 'awake': 1,\n",
       " 'known': 1,\n",
       " 'emptiness': 1,\n",
       " 'alive': 1,\n",
       " 'in': 4,\n",
       " 'holy': 1,\n",
       " 'apocalypse': 2,\n",
       " 'free': 4,\n",
       " 'shawnna': 1,\n",
       " 'ludacris': 2,\n",
       " 'or': 1,\n",
       " 'rearrange': 1,\n",
       " 'heeshy': 1,\n",
       " 'generation': 16,\n",
       " 'bloodstains': 2,\n",
       " 'crystal': 2,\n",
       " 'maybach': 2,\n",
       " 'islands': 2,\n",
       " 'limelight': 2,\n",
       " 'kanye': 7,\n",
       " 'extraterrestrialextraterrestrial': 1,\n",
       " 'extraterrestrial': 1,\n",
       " 'runaway': 4,\n",
       " 'blazin': 1,\n",
       " 'faster': 1,\n",
       " 'scary': 2,\n",
       " 'swish': 1,\n",
       " 'suggests': 2,\n",
       " 'touches': 2,\n",
       " 'arousal': 2,\n",
       " 'emergency': 1,\n",
       " 'sometimes': 1,\n",
       " 'babe': 1,\n",
       " 'crooked': 1,\n",
       " 'kahiiiiiii': 2,\n",
       " 'kahi': 2,\n",
       " 'scolanscolan': 4,\n",
       " 'scanscanscan': 1,\n",
       " 'sksksksksksk': 1,\n",
       " 'skskskskksksks': 1,\n",
       " 'brrbrbrbbbrbrehheee': 1,\n",
       " 'over': 1,\n",
       " 'ohrwaaa': 1,\n",
       " 'unsenononah': 1,\n",
       " 'aheeeeee': 1,\n",
       " 'eeeeeeeeeeeeeeeeeeee': 3,\n",
       " 'howwwooooooooeeeeeee': 1,\n",
       " 'geeeeeeeheeheeeeeeee': 1,\n",
       " 'howwwwwwweeeeeeeeeee': 1,\n",
       " 'heeeeheeeeeeeeeeeeee': 1,\n",
       " 'owwooooeeeeioioeeeee': 1,\n",
       " 'fanta': 1,\n",
       " 'air': 1,\n",
       " 'ohtuuuuekeah': 1,\n",
       " 'handeeeeeeey': 1,\n",
       " 'seeeeeooheeeee': 1,\n",
       " 'howweeeeeeeee': 1,\n",
       " 'howweeeeeeeeeeeeeeee': 1,\n",
       " 'howweeeeeeeeeeee': 2,\n",
       " 'howweeeeeeeeee': 1,\n",
       " 'weeeeeeeeeeeee': 1,\n",
       " 'eeeeeeeeeeeeeeeeee': 2,\n",
       " 'volunteer': 1,\n",
       " 'ferocity': 1,\n",
       " 'march': 1,\n",
       " 'sparkling': 1,\n",
       " 'luminous': 1,\n",
       " 'sleepyhead': 2,\n",
       " 'surrender': 3,\n",
       " 'sweetly': 1,\n",
       " 'undo': 1,\n",
       " 'fingers': 1,\n",
       " 'complete': 1,\n",
       " 'notice': 1,\n",
       " 'clinging': 1,\n",
       " 'almost': 1,\n",
       " 'unison': 1,\n",
       " 'explode': 1,\n",
       " 'underneath': 1,\n",
       " 'live': 1,\n",
       " 'wait': 2,\n",
       " 'climb': 2,\n",
       " 'lose': 4,\n",
       " 'time': 3,\n",
       " 'helpless': 3,\n",
       " 'burn': 2,\n",
       " 'goodbye': 1,\n",
       " 'guitar': 2,\n",
       " 'steel': 1,\n",
       " 'poems': 2,\n",
       " 'preface': 1,\n",
       " 'preach': 2,\n",
       " 'thinking': 2,\n",
       " 'gnarly': 2,\n",
       " 'ohhhhhhhh': 2,\n",
       " 'damn': 4,\n",
       " 'look': 2,\n",
       " 'club': 2,\n",
       " 'ohsa': 2,\n",
       " 'naaaaananaaaaa': 4,\n",
       " 'lollipop': 2,\n",
       " 'he': 2,\n",
       " 'word': 2,\n",
       " 'friendly': 2,\n",
       " 'clone': 2,\n",
       " 'married': 8,\n",
       " 'pain': 8,\n",
       " 'ummmmm': 12,\n",
       " 'bull': 1,\n",
       " 'cry': 1,\n",
       " 'hell': 1,\n",
       " 'dive': 20,\n",
       " 'than': 1,\n",
       " 'countin': 7,\n",
       " 'gimme': 3,\n",
       " 'britney': 2,\n",
       " 'ow': 2,\n",
       " 'sabi': 1,\n",
       " 'yup': 1,\n",
       " 'ahh': 2,\n",
       " 'bonjour': 1,\n",
       " 'pardon': 1,\n",
       " 'cogitatione': 1,\n",
       " 'undefeated': 1,\n",
       " 'disney': 1,\n",
       " 'mmmmmm': 4,\n",
       " 'manatunatu': 1,\n",
       " 'villagers': 2,\n",
       " 'moana': 1,\n",
       " 'maybe': 1,\n",
       " 'despacito': 2,\n",
       " 'sorry': 3,\n",
       " 'paradise': 1,\n",
       " 'forever': 1,\n",
       " 'hesitate': 1,\n",
       " 'away': 2,\n",
       " 'speakin': 2,\n",
       " 'hahahahahaha': 1,\n",
       " 'laughter': 1,\n",
       " 'niggas': 1,\n",
       " 'christmas': 1,\n",
       " 'peg': 1,\n",
       " 'snail': 1,\n",
       " 'if': 2,\n",
       " 'buttons': 1,\n",
       " 'andrew': 1,\n",
       " 'tongs': 1,\n",
       " 'nonsense': 1,\n",
       " 'feetikins': 1,\n",
       " 'johnny': 1,\n",
       " 'upstream': 1,\n",
       " 'graceland': 2,\n",
       " 'yawning': 1,\n",
       " 'mexico': 1,\n",
       " 'old': 1,\n",
       " 'proof': 3,\n",
       " 'faith': 3,\n",
       " 'inferior': 1,\n",
       " 'discredited': 1,\n",
       " 'exodus': 3,\n",
       " 'black': 6,\n",
       " 'valerie': 16,\n",
       " 'innit': 1,\n",
       " 'cant': 1,\n",
       " 'mmmmm': 1,\n",
       " 'disturbia': 6,\n",
       " 'articulate': 1,\n",
       " 'nooo': 1,\n",
       " 'foxy': 6,\n",
       " 'whaa': 1,\n",
       " 'understandin': 1,\n",
       " 'mind': 1,\n",
       " 'existing': 2,\n",
       " 'stop': 3,\n",
       " 'miscellaneous': 1,\n",
       " 'heyaaaa': 1,\n",
       " 'jimi': 1,\n",
       " 'dreams': 1,\n",
       " 'stay': 5,\n",
       " 'nebraska': 2,\n",
       " 'alejandro': 10,\n",
       " 'venus': 4,\n",
       " 'swine': 4,\n",
       " 'vierzehn': 1,\n",
       " 'yep': 4,\n",
       " 'but': 1,\n",
       " 'mmm': 1,\n",
       " 'why': 1,\n",
       " 'music': 2,\n",
       " 'la': 3,\n",
       " 'loves': 1,\n",
       " 'side': 1,\n",
       " 'sweetest': 3,\n",
       " 'depleted': 1,\n",
       " '.': 1,\n",
       " 'jesus': 1,\n",
       " 'sister': 1,\n",
       " 'brothers': 1,\n",
       " 'one': 3,\n",
       " 'tremble': 4,\n",
       " 'reno': 1,\n",
       " 'chicago': 1,\n",
       " 'fargo': 1,\n",
       " 'minnesota': 1,\n",
       " 'buffalo': 1,\n",
       " 'toronto': 1,\n",
       " 'winslow': 1,\n",
       " 'sarasota': 1,\n",
       " 'whichta': 1,\n",
       " 'tulsa': 1,\n",
       " 'ottowa': 1,\n",
       " 'oklahoma': 1,\n",
       " 'tampa': 1,\n",
       " 'panama': 1,\n",
       " 'mattua': 1,\n",
       " 'lapaloma': 1,\n",
       " 'bangor': 1,\n",
       " 'baltimore': 1,\n",
       " 'salvador': 1,\n",
       " 'amarillo': 1,\n",
       " 'tocapillo': 1,\n",
       " 'pocotello': 1,\n",
       " 'boston': 1,\n",
       " 'charleston': 1,\n",
       " 'dayton': 1,\n",
       " 'louisiana': 1,\n",
       " 'washington': 1,\n",
       " 'houston': 1,\n",
       " 'kingston': 1,\n",
       " 'texarkana': 1,\n",
       " 'monterey': 1,\n",
       " 'fairaday': 1,\n",
       " 'tollaperson': 1,\n",
       " 'oskaloussa': 1,\n",
       " 'tennessee': 1,\n",
       " 'tinnesay': 1,\n",
       " 'chickapee': 1,\n",
       " 'louisville': 1,\n",
       " 'nashville': 1,\n",
       " 'knoxville': 1,\n",
       " 'omerback': 1,\n",
       " 'shereville': 1,\n",
       " 'jacksonville': 1,\n",
       " 'waterville': 1,\n",
       " 'richfield': 1,\n",
       " 'springfield': 1,\n",
       " 'bakersfield': 1,\n",
       " 'shreveport': 1,\n",
       " 'hakensack': 1,\n",
       " 'cadallic': 1,\n",
       " 'davenport': 1,\n",
       " 'idaho': 1,\n",
       " 'jellico': 1,\n",
       " 'argentina': 1,\n",
       " 'diamondtina': 1,\n",
       " 'pasadena': 1,\n",
       " 'pittsburgh': 1,\n",
       " 'parkersburg': 1,\n",
       " 'gravelburg': 1,\n",
       " 'colorado': 1,\n",
       " 'ellisburg': 1,\n",
       " 'rexburg': 1,\n",
       " 'vicksburg': 1,\n",
       " 'eldorado': 1,\n",
       " 'larimore': 1,\n",
       " 'adimore': 1,\n",
       " 'habastock': 1,\n",
       " 'chadanocka': 1,\n",
       " 'shasta': 1,\n",
       " 'alaska': 1,\n",
       " 'opalacka': 1,\n",
       " 'baraboo': 1,\n",
       " 'waterloo': 1,\n",
       " 'kalamazoo': 1,\n",
       " 'baka': 1,\n",
       " 'showtime': 1,\n",
       " 'halloween': 1,\n",
       " 'killa': 7,\n",
       " 'yea': 1,\n",
       " 'helplessness': 1,\n",
       " 'eminem': 1,\n",
       " 'serious': 1,\n",
       " 'obie': 1,\n",
       " 'vegas': 6,\n",
       " 'roxanne': 1,\n",
       " 'underpants': 1}"
      ]
     },
     "execution_count": 158,
     "metadata": {},
     "output_type": "execute_result"
    }
   ],
   "source": [
    "rm_dict"
   ]
  },
  {
   "cell_type": "code",
   "execution_count": 161,
   "id": "44f81e83",
   "metadata": {},
   "outputs": [
    {
     "name": "stderr",
     "output_type": "stream",
     "text": [
      "100%|██████████| 614/614 [00:05<00:00, 102.34it/s]\n"
     ]
    },
    {
     "data": {
      "text/plain": [
       "152891"
      ]
     },
     "execution_count": 161,
     "metadata": {},
     "output_type": "execute_result"
    }
   ],
   "source": [
    "from tqdm import tqdm\n",
    "\n",
    "cnt = 0\n",
    "for rm_text in tqdm(rm_dict.keys()):\n",
    "    rm_corpus = '<start> ' + rm_text + ' <end>'\n",
    "    corpus_rm_one_word = list([value for value in corpus_rm_one_word if not(value == rm_corpus)])\n",
    "            \n",
    "len(corpus_rm_one_word)"
   ]
  },
  {
   "cell_type": "code",
   "execution_count": 162,
   "id": "b71f09ee",
   "metadata": {
    "scrolled": false
   },
   "outputs": [
    {
     "name": "stdout",
     "output_type": "stream",
     "text": [
      "<start>  <end>\n",
      "<start>  <end>\n",
      "<start>  <end>\n",
      "<start>  <end>\n",
      "<start>  <end>\n",
      "<start>  <end>\n",
      "<start>  <end>\n",
      "<start>  <end>\n",
      "<start>  <end>\n",
      "<start>  <end>\n",
      "<start>  <end>\n",
      "<start>  <end>\n",
      "<start>  <end>\n",
      "<start>  <end>\n",
      "<start>  <end>\n",
      "<start>  <end>\n",
      "<start>  <end>\n",
      "<start>  <end>\n",
      "<start>  <end>\n",
      "<start>  <end>\n",
      "<start>  <end>\n",
      "<start>  <end>\n",
      "<start>  <end>\n",
      "<start>  <end>\n",
      "<start>  <end>\n",
      "<start>  <end>\n",
      "<start>  <end>\n",
      "<start>  <end>\n",
      "<start>  <end>\n",
      "<start>  <end>\n",
      "<start>  <end>\n",
      "<start>  <end>\n",
      "<start>  <end>\n",
      "<start>  <end>\n",
      "<start>  <end>\n",
      "<start>  <end>\n",
      "<start>  <end>\n",
      "<start>  <end>\n",
      "<start>  <end>\n",
      "<start>  <end>\n",
      "<start>  <end>\n",
      "<start>  <end>\n",
      "<start>  <end>\n",
      "<start>  <end>\n",
      "<start>  <end>\n",
      "<start>  <end>\n",
      "<start>  <end>\n",
      "<start>  <end>\n",
      "<start>  <end>\n",
      "<start>  <end>\n",
      "50\n"
     ]
    }
   ],
   "source": [
    "count = 0\n",
    "for text in corpus_rm_one_word:\n",
    "    if len(text.split()) < 4:\n",
    "        print(text)\n",
    "        count += 1\n",
    "    \n",
    "print(count)"
   ]
  },
  {
   "cell_type": "code",
   "execution_count": 155,
   "id": "a61b3a44",
   "metadata": {},
   "outputs": [],
   "source": [
    "# 나머지 빈 값도 삭제\n",
    "corpus_rm_one_word = list([value for value in corpus_rm_one_word if not(value == '<start>  <end>')])"
   ]
  },
  {
   "cell_type": "code",
   "execution_count": 163,
   "id": "d61d61da",
   "metadata": {},
   "outputs": [
    {
     "name": "stdout",
     "output_type": "stream",
     "text": [
      "155031\n",
      "152891\n"
     ]
    }
   ],
   "source": [
    "print(len(corpus))\n",
    "print(len(corpus_rm_one_word))"
   ]
  },
  {
   "cell_type": "markdown",
   "id": "eb5100d0",
   "metadata": {},
   "source": [
    "### 다시 토큰화부터 진행"
   ]
  },
  {
   "cell_type": "code",
   "execution_count": 164,
   "id": "ab0d3528",
   "metadata": {},
   "outputs": [],
   "source": [
    "tensor, tokenizer = tokenize(corpus_rm_one_word)"
   ]
  },
  {
   "cell_type": "code",
   "execution_count": 165,
   "id": "20a67254",
   "metadata": {},
   "outputs": [],
   "source": [
    "# source input\n",
    "source_input = tensor[:,:-1]\n",
    "# target output\n",
    "target_input = tensor[:, 1:]"
   ]
  },
  {
   "cell_type": "code",
   "execution_count": 166,
   "id": "38e4beec",
   "metadata": {},
   "outputs": [
    {
     "name": "stdout",
     "output_type": "stream",
     "text": [
      "Source Train: (122312, 14)\n",
      "Target Train: (122312, 14)\n"
     ]
    }
   ],
   "source": [
    "# 데이터 분리\n",
    "enc_train, enc_val, dec_train, dec_val = train_test_split(source_input, target_input, \n",
    "                                                          test_size=0.2,  \n",
    "                                                          random_state=34)\n",
    "print(\"Source Train:\", enc_train.shape)\n",
    "print(\"Target Train:\", dec_train.shape)"
   ]
  },
  {
   "cell_type": "code",
   "execution_count": 167,
   "id": "1b06e78e",
   "metadata": {},
   "outputs": [
    {
     "data": {
      "text/plain": [
       "<BatchDataset shapes: ((256, 14), (256, 14)), types: (tf.int32, tf.int32)>"
      ]
     },
     "execution_count": 167,
     "metadata": {},
     "output_type": "execute_result"
    }
   ],
   "source": [
    "# 데이터셋 만들기\n",
    "BUFFER_SIZE = len(source_input)\n",
    "BATCH_SIZE = 256\n",
    "\n",
    "dataset = tf.data.Dataset.from_tensor_slices((enc_train, dec_train)) \\\n",
    "                        .shuffle(BUFFER_SIZE) \\\n",
    "                        .batch(BATCH_SIZE, drop_remainder=True)\n",
    "dataset"
   ]
  },
  {
   "cell_type": "code",
   "execution_count": 168,
   "id": "62d0aff0",
   "metadata": {},
   "outputs": [],
   "source": [
    "# 모델 정의\n",
    "class TextGenerator(tf.keras.Model):\n",
    "    def __init__(self, vocab_size, embedding_size, hidden_size):\n",
    "        super().__init__()\n",
    "        \n",
    "        self.embedding = tf.keras.layers.Embedding(vocab_size, embedding_size)\n",
    "        self.rnn_1 = tf.keras.layers.GRU(hidden_size, return_sequences=True)\n",
    "        self.rnn_2 = tf.keras.layers.GRU(hidden_size, return_sequences=True)\n",
    "        self.drop = tf.keras.layers.Dropout(0.3)\n",
    "        self.linear = tf.keras.layers.Dense(vocab_size)\n",
    "        \n",
    "    def call(self, x):\n",
    "        out = self.embedding(x)\n",
    "        out = self.rnn_1(out)\n",
    "        out = self.rnn_2(out)\n",
    "        out = self.drop(out)\n",
    "        out = self.linear(out)\n",
    "        \n",
    "        return out"
   ]
  },
  {
   "cell_type": "code",
   "execution_count": 169,
   "id": "01cd2599",
   "metadata": {
    "scrolled": true
   },
   "outputs": [
    {
     "name": "stdout",
     "output_type": "stream",
     "text": [
      "Model: \"text_generator_27\"\n",
      "_________________________________________________________________\n",
      "Layer (type)                 Output Shape              Param #   \n",
      "=================================================================\n",
      "embedding_27 (Embedding)     multiple                  3072256   \n",
      "_________________________________________________________________\n",
      "gru_54 (GRU)                 multiple                  3938304   \n",
      "_________________________________________________________________\n",
      "gru_55 (GRU)                 multiple                  6297600   \n",
      "_________________________________________________________________\n",
      "dropout (Dropout)            multiple                  0         \n",
      "_________________________________________________________________\n",
      "dense_27 (Dense)             multiple                  12301025  \n",
      "=================================================================\n",
      "Total params: 25,609,185\n",
      "Trainable params: 25,609,185\n",
      "Non-trainable params: 0\n",
      "_________________________________________________________________\n"
     ]
    }
   ],
   "source": [
    "# 모델 파라미터 및 모델 생성\n",
    "embedding_size = 256\n",
    "hidden_size = 1024\n",
    "model8 = TextGenerator(tokenizer.num_words + 1, embedding_size , hidden_size)\n",
    "\n",
    "# 데이터셋에서 데이터 한 배치만 불러와서, 데이터 모델에 넣는다.\n",
    "for src_sample, tgt_sample in dataset.take(1): break\n",
    "model8(src_sample)\n",
    "model8.summary()"
   ]
  },
  {
   "cell_type": "code",
   "execution_count": 170,
   "id": "217960e5",
   "metadata": {},
   "outputs": [
    {
     "name": "stdout",
     "output_type": "stream",
     "text": [
      "Epoch 1/10\n",
      "477/477 [==============================] - 77s 157ms/step - loss: 3.4229 - val_loss: 2.9934\n",
      "Epoch 2/10\n",
      "477/477 [==============================] - 79s 165ms/step - loss: 2.8679 - val_loss: 2.7564\n",
      "Epoch 3/10\n",
      "477/477 [==============================] - 82s 171ms/step - loss: 2.6287 - val_loss: 2.6140\n",
      "Epoch 4/10\n",
      "477/477 [==============================] - 83s 174ms/step - loss: 2.4347 - val_loss: 2.5180\n",
      "Epoch 5/10\n",
      "477/477 [==============================] - 84s 176ms/step - loss: 2.2764 - val_loss: 2.4476\n",
      "Epoch 6/10\n",
      "477/477 [==============================] - 85s 177ms/step - loss: 2.1429 - val_loss: 2.3933\n",
      "Epoch 7/10\n",
      "477/477 [==============================] - 85s 177ms/step - loss: 2.0280 - val_loss: 2.3510\n",
      "Epoch 8/10\n",
      "477/477 [==============================] - 85s 178ms/step - loss: 1.9269 - val_loss: 2.3145\n",
      "Epoch 9/10\n",
      "477/477 [==============================] - 85s 178ms/step - loss: 1.8364 - val_loss: 2.2919\n",
      "Epoch 10/10\n",
      "477/477 [==============================] - 85s 178ms/step - loss: 1.7545 - val_loss: 2.2751\n"
     ]
    }
   ],
   "source": [
    "# 학습\n",
    "start = time.time()\n",
    "\n",
    "#Loss\n",
    "loss = tf.keras.losses.SparseCategoricalCrossentropy(\n",
    "    from_logits=True, reduction='none')\n",
    "# optimizer\n",
    "optimizer = tf.keras.optimizers.Adam()\n",
    "\n",
    "model8.compile(loss=loss, optimizer=optimizer)\n",
    "history8 = model8.fit(dataset, epochs=10, validation_data = (enc_val, dec_val))\n",
    "\n",
    "end = time.time()"
   ]
  },
  {
   "cell_type": "code",
   "execution_count": 184,
   "id": "025309b2",
   "metadata": {
    "scrolled": true
   },
   "outputs": [
    {
     "name": "stdout",
     "output_type": "stream",
     "text": [
      "157.7105348110199 sec\n"
     ]
    },
    {
     "data": {
      "text/plain": [
       "<function matplotlib.pyplot.show(close=None, block=None)>"
      ]
     },
     "execution_count": 184,
     "metadata": {},
     "output_type": "execute_result"
    },
    {
     "data": {
      "image/png": "[encoded data removed]",
      "text/plain": [
       "<Figure size 432x288 with 1 Axes>"
      ]
     },
     "metadata": {
      "needs_background": "light"
     },
     "output_type": "display_data"
    }
   ],
   "source": [
    "# 결과\n",
    "print(\"{} sec\".format(end - start))\n",
    "\n",
    "plt.plot(history8.history['loss'])\n",
    "plt.plot(history8.history['val_loss'])\n",
    "plt.title('train loss and validation loss')\n",
    "plt.ylabel('loss')\n",
    "plt.xlabel('epoch')\n",
    "plt.legend(['train','validation'], loc='upper right')\n",
    "plt.show"
   ]
  },
  {
   "cell_type": "markdown",
   "id": "ac4b56a0",
   "metadata": {},
   "source": [
    "## 그래도 전처리를 하니 val_loss가 유의미하게 줄어들었다.\n",
    "embedding_size와 hidden_size를 좀더 늘려보자"
   ]
  },
  {
   "cell_type": "code",
   "execution_count": 172,
   "id": "f2088c1a",
   "metadata": {},
   "outputs": [
    {
     "name": "stdout",
     "output_type": "stream",
     "text": [
      "Model: \"text_generator_28\"\n",
      "_________________________________________________________________\n",
      "Layer (type)                 Output Shape              Param #   \n",
      "=================================================================\n",
      "embedding_28 (Embedding)     multiple                  4608384   \n",
      "_________________________________________________________________\n",
      "gru_56 (GRU)                 multiple                  8856576   \n",
      "_________________________________________________________________\n",
      "gru_57 (GRU)                 multiple                  14164992  \n",
      "_________________________________________________________________\n",
      "dropout_1 (Dropout)          multiple                  0         \n",
      "_________________________________________________________________\n",
      "dense_28 (Dense)             multiple                  18445537  \n",
      "=================================================================\n",
      "Total params: 46,075,489\n",
      "Trainable params: 46,075,489\n",
      "Non-trainable params: 0\n",
      "_________________________________________________________________\n"
     ]
    }
   ],
   "source": [
    "# 모델 파라미터 및 모델 생성\n",
    "embedding_size = 384\n",
    "hidden_size = 1536\n",
    "model9 = TextGenerator(tokenizer.num_words + 1, embedding_size , hidden_size)\n",
    "\n",
    "# 데이터셋에서 데이터 한 배치만 불러와서, 데이터 모델에 넣는다.\n",
    "for src_sample, tgt_sample in dataset.take(1): break\n",
    "model9(src_sample)\n",
    "model9.summary()"
   ]
  },
  {
   "cell_type": "code",
   "execution_count": 173,
   "id": "5620efec",
   "metadata": {},
   "outputs": [
    {
     "name": "stdout",
     "output_type": "stream",
     "text": [
      "Epoch 1/10\n",
      "477/477 [==============================] - 153s 316ms/step - loss: 3.2898 - val_loss: 2.8820\n",
      "Epoch 2/10\n",
      "477/477 [==============================] - 156s 328ms/step - loss: 2.7199 - val_loss: 2.6053\n",
      "Epoch 3/10\n",
      "477/477 [==============================] - 156s 327ms/step - loss: 2.3965 - val_loss: 2.4393\n",
      "Epoch 4/10\n",
      "477/477 [==============================] - 156s 327ms/step - loss: 2.1216 - val_loss: 2.3344\n",
      "Epoch 5/10\n",
      "477/477 [==============================] - 156s 327ms/step - loss: 1.8985 - val_loss: 2.2650\n",
      "Epoch 6/10\n",
      "477/477 [==============================] - 156s 327ms/step - loss: 1.7194 - val_loss: 2.2233\n",
      "Epoch 7/10\n",
      "477/477 [==============================] - 156s 327ms/step - loss: 1.5727 - val_loss: 2.1994\n",
      "Epoch 8/10\n",
      "477/477 [==============================] - 156s 327ms/step - loss: 1.4575 - val_loss: 2.1934\n",
      "Epoch 9/10\n",
      "477/477 [==============================] - 156s 328ms/step - loss: 1.3674 - val_loss: 2.2002\n",
      "Epoch 10/10\n",
      "477/477 [==============================] - 156s 328ms/step - loss: 1.2995 - val_loss: 2.2156\n"
     ]
    }
   ],
   "source": [
    "# 학습\n",
    "start = time.time()\n",
    "\n",
    "#Loss\n",
    "loss = tf.keras.losses.SparseCategoricalCrossentropy(\n",
    "    from_logits=True, reduction='none')\n",
    "# optimizer\n",
    "optimizer = tf.keras.optimizers.Adam()\n",
    "\n",
    "model9.compile(loss=loss, optimizer=optimizer)\n",
    "history9 = model9.fit(dataset, epochs=10, validation_data = (enc_val, dec_val))\n",
    "\n",
    "end = time.time()"
   ]
  },
  {
   "cell_type": "code",
   "execution_count": 185,
   "id": "be472ac1",
   "metadata": {},
   "outputs": [
    {
     "name": "stdout",
     "output_type": "stream",
     "text": [
      "157.7105348110199 sec\n"
     ]
    },
    {
     "data": {
      "text/plain": [
       "<function matplotlib.pyplot.show(close=None, block=None)>"
      ]
     },
     "execution_count": 185,
     "metadata": {},
     "output_type": "execute_result"
    },
    {
     "data": {
      "image/png": "[encoded data removed]",
      "text/plain": [
       "<Figure size 432x288 with 1 Axes>"
      ]
     },
     "metadata": {
      "needs_background": "light"
     },
     "output_type": "display_data"
    }
   ],
   "source": [
    "# 결과\n",
    "print(\"{} sec\".format(end - start))\n",
    "\n",
    "plt.plot(history9.history['loss'])\n",
    "plt.plot(history9.history['val_loss'])\n",
    "plt.title('train loss and validation loss')\n",
    "plt.ylabel('loss')\n",
    "plt.xlabel('epoch')\n",
    "plt.legend(['train','validation'], loc='upper right')\n",
    "plt.show"
   ]
  },
  {
   "cell_type": "markdown",
   "id": "3e428d4d",
   "metadata": {},
   "source": [
    "### epoch 8에서 목표치를 달성했지만! epoch9로 넘어가면서 val_loss가 다시 증가하였다! 과적합이라고 판단되서  val_loss 값이 더이상 줄어들지 않는다면 종료해보자!\n",
    "callback 함수 적용!"
   ]
  },
  {
   "cell_type": "code",
   "execution_count": 189,
   "id": "677bf0b1",
   "metadata": {
    "scrolled": true
   },
   "outputs": [
    {
     "name": "stdout",
     "output_type": "stream",
     "text": [
      "Model: \"text_generator_30\"\n",
      "_________________________________________________________________\n",
      "Layer (type)                 Output Shape              Param #   \n",
      "=================================================================\n",
      "embedding_30 (Embedding)     multiple                  3072256   \n",
      "_________________________________________________________________\n",
      "gru_60 (GRU)                 multiple                  8266752   \n",
      "_________________________________________________________________\n",
      "gru_61 (GRU)                 multiple                  14164992  \n",
      "_________________________________________________________________\n",
      "dropout_3 (Dropout)          multiple                  0         \n",
      "_________________________________________________________________\n",
      "dense_30 (Dense)             multiple                  18445537  \n",
      "=================================================================\n",
      "Total params: 43,949,537\n",
      "Trainable params: 43,949,537\n",
      "Non-trainable params: 0\n",
      "_________________________________________________________________\n"
     ]
    }
   ],
   "source": [
    "# 모델 파라미터 및 모델 생성\n",
    "embedding_size = 384\n",
    "hidden_size = 1536\n",
    "model10 = TextGenerator(tokenizer.num_words + 1, embedding_size , hidden_size)\n",
    "\n",
    "# 데이터셋에서 데이터 한 배치만 불러와서, 데이터 모델에 넣는다.\n",
    "for src_sample, tgt_sample in dataset.take(1): break\n",
    "model10(src_sample)\n",
    "model10.summary()"
   ]
  },
  {
   "cell_type": "code",
   "execution_count": 191,
   "id": "3aedca94",
   "metadata": {
    "scrolled": true
   },
   "outputs": [
    {
     "name": "stdout",
     "output_type": "stream",
     "text": [
      "Epoch 1/10\n",
      "477/477 [==============================] - 156s 323ms/step - loss: 2.4922 - val_loss: 2.4915\n",
      "Epoch 2/10\n",
      "477/477 [==============================] - 153s 320ms/step - loss: 2.2048 - val_loss: 2.3664\n",
      "Epoch 3/10\n",
      "477/477 [==============================] - 153s 321ms/step - loss: 1.9740 - val_loss: 2.2971\n",
      "Epoch 4/10\n",
      "477/477 [==============================] - 153s 321ms/step - loss: 1.7909 - val_loss: 2.2494\n",
      "Epoch 5/10\n",
      "477/477 [==============================] - 153s 320ms/step - loss: 1.6440 - val_loss: 2.2292\n",
      "Epoch 6/10\n",
      "477/477 [==============================] - 153s 320ms/step - loss: 1.5248 - val_loss: 2.2147\n",
      "Epoch 7/10\n",
      "477/477 [==============================] - 154s 322ms/step - loss: 1.4300 - val_loss: 2.2103\n",
      "Epoch 8/10\n",
      "477/477 [==============================] - 152s 319ms/step - loss: 1.3549 - val_loss: 2.2260\n",
      "Epoch 9/10\n",
      "477/477 [==============================] - 153s 321ms/step - loss: 1.2986 - val_loss: 2.2338\n",
      "Epoch 00009: early stopping\n"
     ]
    }
   ],
   "source": [
    "from keras.callbacks import EarlyStopping, ModelCheckpoint\n",
    "\n",
    "\n",
    "# 학습\n",
    "start = time.time()\n",
    "\n",
    "#Loss\n",
    "loss = tf.keras.losses.SparseCategoricalCrossentropy(\n",
    "    from_logits=True, reduction='none')\n",
    "# optimizer\n",
    "optimizer = tf.keras.optimizers.Adam()\n",
    "\n",
    "# callback 함수 정의\n",
    "early_stopping = EarlyStopping(monitor='val_loss', \n",
    "                               patience=2, \n",
    "                               verbose=1)\n",
    "\n",
    "model10.compile(loss=loss, optimizer=optimizer)\n",
    "history10 = model10.fit(dataset, \n",
    "                        epochs=10, \n",
    "                        validation_data = (enc_val, dec_val),\n",
    "                       callbacks=[early_stopping])\n",
    "\n",
    "end = time.time()"
   ]
  },
  {
   "cell_type": "markdown",
   "id": "ddb7a66a",
   "metadata": {},
   "source": [
    "### earlystopping을 이용해서 과적합을 막는것은 좋았으나,  종료된 시점에서 최고의 성능이(epoch 7) 리턴되는게 아닌 (epoch9)가 리턴이 된다.\n",
    "이를 보완하기 위해 ModelCheckpoint를 활용해보자"
   ]
  },
  {
   "cell_type": "code",
   "execution_count": 199,
   "id": "af68c04e",
   "metadata": {},
   "outputs": [
    {
     "name": "stdout",
     "output_type": "stream",
     "text": [
      "Model: \"text_generator_32\"\n",
      "_________________________________________________________________\n",
      "Layer (type)                 Output Shape              Param #   \n",
      "=================================================================\n",
      "embedding_32 (Embedding)     multiple                  4608384   \n",
      "_________________________________________________________________\n",
      "gru_64 (GRU)                 multiple                  8856576   \n",
      "_________________________________________________________________\n",
      "gru_65 (GRU)                 multiple                  14164992  \n",
      "_________________________________________________________________\n",
      "dropout_5 (Dropout)          multiple                  0         \n",
      "_________________________________________________________________\n",
      "dense_32 (Dense)             multiple                  18445537  \n",
      "=================================================================\n",
      "Total params: 46,075,489\n",
      "Trainable params: 46,075,489\n",
      "Non-trainable params: 0\n",
      "_________________________________________________________________\n"
     ]
    }
   ],
   "source": [
    "# 모델 파라미터 및 모델 생성\n",
    "embedding_size = 384\n",
    "hidden_size = 1536\n",
    "model12 = TextGenerator(tokenizer.num_words + 1, embedding_size , hidden_size)\n",
    "\n",
    "# 데이터셋에서 데이터 한 배치만 불러와서, 데이터 모델에 넣는다.\n",
    "for src_sample, tgt_sample in dataset.take(1): break\n",
    "model12(src_sample)\n",
    "model12.summary()"
   ]
  },
  {
   "cell_type": "code",
   "execution_count": 200,
   "id": "ddd304d4",
   "metadata": {
    "scrolled": true
   },
   "outputs": [
    {
     "name": "stdout",
     "output_type": "stream",
     "text": [
      "Epoch 1/10\n",
      "477/477 [==============================] - 158s 327ms/step - loss: 3.2894 - val_loss: 2.8866\n",
      "Epoch 2/10\n",
      "477/477 [==============================] - 156s 327ms/step - loss: 2.7261 - val_loss: 2.6100\n",
      "Epoch 3/10\n",
      "477/477 [==============================] - 156s 327ms/step - loss: 2.4028 - val_loss: 2.4450\n",
      "Epoch 4/10\n",
      "477/477 [==============================] - 156s 327ms/step - loss: 2.1297 - val_loss: 2.3351\n",
      "Epoch 5/10\n",
      "477/477 [==============================] - 156s 327ms/step - loss: 1.9075 - val_loss: 2.2690\n",
      "Epoch 6/10\n",
      "477/477 [==============================] - 156s 327ms/step - loss: 1.7268 - val_loss: 2.2232\n",
      "Epoch 7/10\n",
      "477/477 [==============================] - 156s 327ms/step - loss: 1.5813 - val_loss: 2.2053\n",
      "Epoch 8/10\n",
      "477/477 [==============================] - 156s 327ms/step - loss: 1.4644 - val_loss: 2.1950\n",
      "Epoch 9/10\n",
      "477/477 [==============================] - 156s 327ms/step - loss: 1.3729 - val_loss: 2.1976\n",
      "Epoch 10/10\n",
      "477/477 [==============================] - 156s 327ms/step - loss: 1.3025 - val_loss: 2.2137\n"
     ]
    }
   ],
   "source": [
    "from keras.callbacks import EarlyStopping, ModelCheckpoint\n",
    "\n",
    "\n",
    "# 학습\n",
    "start = time.time()\n",
    "\n",
    "#Loss\n",
    "loss = tf.keras.losses.SparseCategoricalCrossentropy(\n",
    "    from_logits=True, reduction='none')\n",
    "# optimizer\n",
    "optimizer = tf.keras.optimizers.Adam()\n",
    "\n",
    "model_path = os.getenv('HOME')+'/aiffel/NLP/model11/checkpoint'\n",
    "\n",
    "# callback 함수 정의\n",
    "mc =ModelCheckpoint(filepath=model_path,\n",
    "                                save_weights_only=True,\n",
    "                                monitor='val_loss',\n",
    "                                mode='min',\n",
    "                                save_best_only=True)\n",
    "\n",
    "model12.compile(loss=loss, optimizer=optimizer)\n",
    "history12 = model12.fit(dataset, \n",
    "                        epochs=10, \n",
    "                        validation_data = (enc_val, dec_val),\n",
    "                        callbacks=[mc])\n",
    "\n",
    "end = time.time()"
   ]
  },
  {
   "cell_type": "code",
   "execution_count": 202,
   "id": "6a25ba74",
   "metadata": {
    "scrolled": true
   },
   "outputs": [
    {
     "name": "stdout",
     "output_type": "stream",
     "text": [
      "1603.9639167785645 sec\n"
     ]
    },
    {
     "data": {
      "text/plain": [
       "<function matplotlib.pyplot.show(close=None, block=None)>"
      ]
     },
     "execution_count": 202,
     "metadata": {},
     "output_type": "execute_result"
    },
    {
     "data": {
      "image/png": "[encoded data removed]",
      "text/plain": [
       "<Figure size 432x288 with 1 Axes>"
      ]
     },
     "metadata": {
      "needs_background": "light"
     },
     "output_type": "display_data"
    }
   ],
   "source": [
    "# 결과\n",
    "print(\"{} sec\".format(end - start))\n",
    "\n",
    "plt.plot(history12.history['loss'])\n",
    "plt.plot(history12.history['val_loss'])\n",
    "plt.title('train loss and validation loss')\n",
    "plt.ylabel('loss')\n",
    "plt.xlabel('epoch')\n",
    "plt.legend(['train','validation'], loc='upper right')\n",
    "plt.show"
   ]
  },
  {
   "cell_type": "code",
   "execution_count": 203,
   "id": "5ac8802e",
   "metadata": {},
   "outputs": [],
   "source": [
    "def generate_text(model, tokenizer, init_sentence=\"<start>\", max_len=20):\n",
    "    # 테스트를 위해서 입력받은 init_sentence도 텐서로 변환합니다\n",
    "    test_input = tokenizer.texts_to_sequences([init_sentence])\n",
    "    test_tensor = tf.convert_to_tensor(test_input, dtype=tf.int64)\n",
    "    end_token = tokenizer.word_index[\"<end>\"]\n",
    "\n",
    "    # 단어 하나씩 예측해 문장을 만듭니다\n",
    "    #    1. 입력받은 문장의 텐서를 입력합니다\n",
    "    #    2. 예측된 값 중 가장 높은 확률인 word index를 뽑아냅니다\n",
    "    #    3. 2에서 예측된 word index를 문장 뒤에 붙입니다\n",
    "    #    4. 모델이 <end>를 예측했거나, max_len에 도달했다면 문장 생성을 마칩니다\n",
    "    while True:\n",
    "        # 1\n",
    "        predict = model(test_tensor) \n",
    "        # 2\n",
    "        predict_word = tf.argmax(tf.nn.softmax(predict, axis=-1), axis=-1)[:, -1] \n",
    "        # 3 \n",
    "        test_tensor = tf.concat([test_tensor, tf.expand_dims(predict_word, axis=0)], axis=-1)\n",
    "        # 4\n",
    "        if predict_word.numpy()[0] == end_token: break\n",
    "        if test_tensor.shape[1] >= max_len: break\n",
    "\n",
    "    generated = \"\"\n",
    "    # tokenizer를 이용해 word index를 단어로 하나씩 변환합니다 \n",
    "    for word_index in test_tensor[0].numpy():\n",
    "        generated += tokenizer.index_word[word_index] + \" \"\n",
    "\n",
    "    return generated"
   ]
  },
  {
   "cell_type": "code",
   "execution_count": 204,
   "id": "a2645493",
   "metadata": {},
   "outputs": [
    {
     "data": {
      "text/plain": [
       "'<start> he s a walker in the rain <end> '"
      ]
     },
     "execution_count": 204,
     "metadata": {},
     "output_type": "execute_result"
    }
   ],
   "source": [
    "generate_text(model12, tokenizer, init_sentence=\"<start> he\")"
   ]
  },
  {
   "cell_type": "code",
   "execution_count": 205,
   "id": "42f1a7bf",
   "metadata": {},
   "outputs": [
    {
     "data": {
      "text/plain": [
       "'<start> i love you so , <end> '"
      ]
     },
     "execution_count": 205,
     "metadata": {},
     "output_type": "execute_result"
    }
   ],
   "source": [
    "generate_text(model12, tokenizer, init_sentence=\"<start> i love\")"
   ]
  },
  {
   "cell_type": "code",
   "execution_count": 206,
   "id": "6cd8f477",
   "metadata": {},
   "outputs": [
    {
     "data": {
      "text/plain": [
       "'<start> babe , i m leavin you <end> '"
      ]
     },
     "execution_count": 206,
     "metadata": {},
     "output_type": "execute_result"
    }
   ],
   "source": [
    "generate_text(model12, tokenizer, init_sentence=\"<start> babe\")"
   ]
  },
  {
   "cell_type": "code",
   "execution_count": 207,
   "id": "7036e6ae",
   "metadata": {},
   "outputs": [
    {
     "data": {
      "text/plain": [
       "'<start> why you wanna get with me <end> '"
      ]
     },
     "execution_count": 207,
     "metadata": {},
     "output_type": "execute_result"
    }
   ],
   "source": [
    "generate_text(model12, tokenizer, init_sentence=\"<start> why\")"
   ]
  },
  {
   "cell_type": "code",
   "execution_count": 208,
   "id": "63e758f3",
   "metadata": {},
   "outputs": [
    {
     "data": {
      "text/plain": [
       "'<start> over the mountains , across the sky <end> '"
      ]
     },
     "execution_count": 208,
     "metadata": {},
     "output_type": "execute_result"
    }
   ],
   "source": [
    "generate_text(model12, tokenizer, init_sentence=\"<start> over the\")"
   ]
  },
  {
   "cell_type": "code",
   "execution_count": 209,
   "id": "17dbb408",
   "metadata": {},
   "outputs": [
    {
     "data": {
      "text/plain": [
       "'<start> feeling like i run this whole block . <end> '"
      ]
     },
     "execution_count": 209,
     "metadata": {},
     "output_type": "execute_result"
    }
   ],
   "source": [
    "generate_text(model12, tokenizer, init_sentence=\"<start> feeling\")"
   ]
  },
  {
   "cell_type": "code",
   "execution_count": 210,
   "id": "f0822446",
   "metadata": {},
   "outputs": [
    {
     "data": {
      "text/plain": [
       "'<start> for the living <end> '"
      ]
     },
     "execution_count": 210,
     "metadata": {},
     "output_type": "execute_result"
    }
   ],
   "source": [
    "generate_text(model12, tokenizer, init_sentence=\"<start> for\")"
   ]
  },
  {
   "cell_type": "code",
   "execution_count": 211,
   "id": "69402249",
   "metadata": {},
   "outputs": [
    {
     "data": {
      "text/plain": [
       "'<start> by the time i m out the door <end> '"
      ]
     },
     "execution_count": 211,
     "metadata": {},
     "output_type": "execute_result"
    }
   ],
   "source": [
    "generate_text(model12, tokenizer, init_sentence=\"<start> by\")"
   ]
  },
  {
   "cell_type": "markdown",
   "id": "9987e721",
   "metadata": {},
   "source": [
    "### 모델 불러와서 사용해보기"
   ]
  },
  {
   "cell_type": "code",
   "execution_count": 212,
   "id": "0027b5df",
   "metadata": {},
   "outputs": [
    {
     "name": "stdout",
     "output_type": "stream",
     "text": [
      "Model: \"text_generator_33\"\n",
      "_________________________________________________________________\n",
      "Layer (type)                 Output Shape              Param #   \n",
      "=================================================================\n",
      "embedding_33 (Embedding)     multiple                  4608384   \n",
      "_________________________________________________________________\n",
      "gru_66 (GRU)                 multiple                  8856576   \n",
      "_________________________________________________________________\n",
      "gru_67 (GRU)                 multiple                  14164992  \n",
      "_________________________________________________________________\n",
      "dropout_6 (Dropout)          multiple                  0         \n",
      "_________________________________________________________________\n",
      "dense_33 (Dense)             multiple                  18445537  \n",
      "=================================================================\n",
      "Total params: 46,075,489\n",
      "Trainable params: 46,075,489\n",
      "Non-trainable params: 0\n",
      "_________________________________________________________________\n"
     ]
    }
   ],
   "source": [
    "# 모델 파라미터 및 모델 생성\n",
    "embedding_size = 384\n",
    "hidden_size = 1536\n",
    "model13 = TextGenerator(tokenizer.num_words + 1, embedding_size , hidden_size)\n",
    "\n",
    "# 데이터셋에서 데이터 한 배치만 불러와서, 데이터 모델에 넣는다.\n",
    "for src_sample, tgt_sample in dataset.take(1): break\n",
    "model13(src_sample)\n",
    "model13.summary()"
   ]
  },
  {
   "cell_type": "markdown",
   "id": "91e1079f",
   "metadata": {},
   "source": [
    "### 가중치로 저장한 모델을 다시 불러올때는 complie을 다시 해줘야 평가가 제대로 된다.\n",
    "model12는 마지막 epoch10에서 loss가 올라간 상태로 학습이 끝났기 때문에 아래와 같은 모습을 보여주고,  \n",
    "model13은 최적의 loss가 나온 epoch에서 저장한 모델을 불러와서 아래와같은 모습을 보여주었다."
   ]
  },
  {
   "cell_type": "code",
   "execution_count": 230,
   "id": "18b09871",
   "metadata": {},
   "outputs": [
    {
     "name": "stdout",
     "output_type": "stream",
     "text": [
      "956/956 [==============================] - 16s 16ms/step - loss: 2.2137\n"
     ]
    },
    {
     "data": {
      "text/plain": [
       "2.2136943340301514"
      ]
     },
     "execution_count": 230,
     "metadata": {},
     "output_type": "execute_result"
    }
   ],
   "source": [
    "model12.evaluate(enc_val, dec_val)"
   ]
  },
  {
   "cell_type": "code",
   "execution_count": 227,
   "id": "74275fe9",
   "metadata": {},
   "outputs": [],
   "source": [
    "model_load_path = os.getenv('HOME')+'/aiffel/NLP/model11/checkpoint'\n",
    "\n",
    "model13.load_weights(model_load_path)\n",
    "model13.compile(loss=loss, optimizer=optimizer)"
   ]
  },
  {
   "cell_type": "code",
   "execution_count": 229,
   "id": "74989e37",
   "metadata": {
    "scrolled": true
   },
   "outputs": [
    {
     "name": "stdout",
     "output_type": "stream",
     "text": [
      "956/956 [==============================] - 16s 16ms/step - loss: 2.1950\n"
     ]
    },
    {
     "data": {
      "text/plain": [
       "2.195024013519287"
      ]
     },
     "execution_count": 229,
     "metadata": {},
     "output_type": "execute_result"
    }
   ],
   "source": [
    "model13.evaluate(enc_val, dec_val)"
   ]
  },
  {
   "cell_type": "markdown",
   "id": "b51623a3",
   "metadata": {},
   "source": [
    "## 회고  \n",
    "### 시행착오\n",
    "이번 exploration에서는 전체적으로 10epoch 모델 학습 시간이 10분~30분이라 시간이 좀 걸렸다.  \n",
    "이전 exploration에서 했던것과 같이 처음에는 파라미터 수정을 하면서 진행을 했다.  \n",
    "진행을 하다보니 루브릭 평가인 2.2 근처는 갔지만 그 이하로는 잘 내려가지 않았다.  \n",
    "그래서 LSTM에서 GRU 모델로 바꿔보고 했지만 그래도 내려가지 않아서 데이터 전처리를 다시 손봐야겠다고 생각했다.  \n",
    "다시 살펴보니 문장 생성에는 도움이 되지 않는 한 단어만 있는것이 많았고, 이를 제거했더니 유의미한 변화가 생겼다.  \n",
    "그런다음 하이퍼파라미터 값을 조금씩 수정하다보니 원하는 val_loss값(2.19)에 도달할 수 있었다.  \n",
    "\n",
    "### 배운점\n",
    "이번 exploration을 진행하다보니 모델 학습에 오래 걸리는 점도 있고, 학습 중간에 loss가 적어졌다가, 다시 올르는 경우도 있었다.  \n",
    "그래서 중간의 값을 저장해 할 필요성을 느끼고, EarlyStopping, ModelCheckpoint을 활용해서 가중치를 저장하는 방법을 사용했다.  \n",
    "오래걸린 모델을 날리지 않고 지속적으로 사용할 수 있다는 점이 매우 마음에 들었고, 앞으로도 잘 활용해야 겠다는 생각이 들었다. \n",
    "추가로 model.fit의 return 값이 history객체라는 사실을 알았고, 숫자로만 결과 값을 보는게 아니라 시각화를 해서 볼수 있다는 점도 알게되어서 유용하게 사용할듯 하다."
   ]
  }
 ],
 "metadata": {
  "kernelspec": {
   "display_name": "Python 3 (ipykernel)",
   "language": "python",
   "name": "python3"
  },
  "language_info": {
   "codemirror_mode": {
    "name": "ipython",
    "version": 3
   },
   "file_extension": ".py",
   "mimetype": "text/x-python",
   "name": "python",
   "nbconvert_exporter": "python",
   "pygments_lexer": "ipython3",
   "version": "3.9.7"
  }
 },
 "nbformat": 4,
 "nbformat_minor": 5
}
